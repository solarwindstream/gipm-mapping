{
 "cells": [
  {
   "cell_type": "code",
   "execution_count": null,
   "id": "a2b518c5-d328-4d64-b3de-b837f266aefb",
   "metadata": {},
   "outputs": [],
   "source": [
    "#Split location-only results by MA and cone angle."
   ]
  },
  {
   "cell_type": "code",
   "execution_count": 1,
   "id": "4667e80f-b772-4d55-a9a9-d3ce4a46ef1e",
   "metadata": {
    "tags": []
   },
   "outputs": [],
   "source": [
    "import cdflib\n",
    "import pandas as pd\n",
    "import numpy as np\n",
    "from matplotlib import pyplot as plt\n",
    "import matplotlib.gridspec as gridspec\n",
    "import datetime as dt\n",
    "import glob\n",
    "from math import pi\n",
    "import math\n",
    "from XMA_finder import XMA_finder\n",
    "from histo_plot import histo_plot"
   ]
  },
  {
   "cell_type": "code",
   "execution_count": 2,
   "id": "4858bc8f-8359-4dc3-aac5-0bc694e1a1ee",
   "metadata": {
    "tags": []
   },
   "outputs": [],
   "source": [
    "#open OMNI *average* CSVs\n",
    "list_all = []\n",
    "\n",
    "path = \"/Users/apx059/Documents/Location Only Checks/OMNI Averages/**\"\n",
    "\n",
    "for path in glob.glob(path, recursive=True):\n",
    "    list_all.append(path)\n",
    "    \n",
    "#list with only files, not folders\n",
    "om_csvs = []\n",
    "\n",
    "for element in list_all:\n",
    "    if '.csv' in element:\n",
    "        om_csvs.append(element)\n",
    "        \n",
    "om_dfs = []\n",
    "\n",
    "for element in om_csvs:\n",
    "    om = pd.read_csv(element)\n",
    "    om_dfs.append(om)\n",
    "    \n",
    "omni_all = pd.concat(om_dfs)\n",
    "omni_all['datetime'] = pd.to_datetime(omni_all['datetime'])\n",
    "\n",
    "omni_all = omni_all.set_index('datetime')\n",
    "\n",
    "for element in om_dfs:\n",
    "    element['datetime'] = pd.to_datetime(element['datetime'])\n",
    "    element = element.set_index('datetime', inplace = True)\n"
   ]
  },
  {
   "cell_type": "code",
   "execution_count": 3,
   "id": "d75e1583-05c8-46eb-9845-1d1f118f790f",
   "metadata": {
    "tags": []
   },
   "outputs": [],
   "source": [
    "##load Cluster CSVs\n",
    "\n",
    "list_all = []\n",
    "\n",
    "path = \"/Users/apx059/Documents/Location Only Checks/Cluster GIPM/**\"\n",
    "\n",
    "for path in glob.glob(path, recursive=True):\n",
    "    list_all.append(path)\n",
    "    \n",
    "#list with only files, not folders\n",
    "cl_file_list = []\n",
    "\n",
    "for element in list_all:\n",
    "    if '.csv' in element:\n",
    "        cl_file_list.append(element)\n",
    "\n",
    "cl_dfs = []\n",
    "\n",
    "for file in cl_file_list:\n",
    "    df = pd.read_csv(file,encoding='utf-8', names = ['datetime', 'GIPM X (RE)', 'GIPM Y (RE)', 'GIPM Z (RE)'])\n",
    "    df['datetime'] = pd.to_datetime(df['datetime'])\n",
    "    df.set_index('datetime', inplace = True)\n",
    "    cl_dfs.append(df)"
   ]
  },
  {
   "cell_type": "code",
   "execution_count": 4,
   "id": "d95db2bf-6926-4c0f-b15a-9bc2b6b0e308",
   "metadata": {
    "tags": []
   },
   "outputs": [
    {
     "name": "stdout",
     "output_type": "stream",
     "text": [
      "no :( \n"
     ]
    }
   ],
   "source": [
    "#add cone angle and MA to each row of one cluster df\n",
    "\n",
    "ma_list = []\n",
    "cone_a_list = []\n",
    "\n",
    "cl_1 = cl_dfs[0]\n",
    "\n",
    "ind_list = cl_1.index\n",
    "\n",
    "obs = ind_list[2]\n",
    "\n",
    "if obs in omni_all.index:\n",
    "    print('yes!')\n",
    "else:\n",
    "    print('no :( ')\n",
    "#for i in cl_dfs[0].index:\n",
    "#    ma_temp = omni_all['M_A'].loc[i]\n",
    "#    cone_a_temp = omni_all['cone angle'].loc[i]\n",
    "#    ma_list.append()\n",
    "#    cone_a_list.append()\n",
    "    \n",
    "#cl_dfs[0]['MA'] = ma_list\n",
    "#cl_dfs[0]['cone angle'] = cone_a_list\n",
    "\n",
    "#print(cl_dfs[0])"
   ]
  },
  {
   "cell_type": "code",
   "execution_count": null,
   "id": "7489b39e-51e7-472c-a404-f43ada447f88",
   "metadata": {
    "tags": []
   },
   "outputs": [],
   "source": [
    "cl_dfs[0]"
   ]
  },
  {
   "cell_type": "code",
   "execution_count": null,
   "id": "4d59f5f6-efd0-4c14-8d42-7037f16c400e",
   "metadata": {},
   "outputs": [],
   "source": []
  }
 ],
 "metadata": {
  "kernelspec": {
   "display_name": "Python 3 (ipykernel)",
   "language": "python",
   "name": "python3"
  },
  "language_info": {
   "codemirror_mode": {
    "name": "ipython",
    "version": 3
   },
   "file_extension": ".py",
   "mimetype": "text/x-python",
   "name": "python",
   "nbconvert_exporter": "python",
   "pygments_lexer": "ipython3",
   "version": "3.11.5"
  }
 },
 "nbformat": 4,
 "nbformat_minor": 5
}
