{
 "cells": [
  {
   "cell_type": "code",
   "execution_count": null,
   "id": "a2b518c5-d328-4d64-b3de-b837f266aefb",
   "metadata": {},
   "outputs": [],
   "source": [
    "#Split location-only results by MA and cone angle."
   ]
  },
  {
   "cell_type": "code",
   "execution_count": 1,
   "id": "4667e80f-b772-4d55-a9a9-d3ce4a46ef1e",
   "metadata": {
    "tags": []
   },
   "outputs": [],
   "source": [
    "import cdflib\n",
    "import pandas as pd\n",
    "import numpy as np\n",
    "from matplotlib import pyplot as plt\n",
    "import matplotlib.gridspec as gridspec\n",
    "import datetime as dt\n",
    "import glob\n",
    "from math import pi\n",
    "import math\n",
    "from XMA_finder import XMA_finder\n",
    "from histo_plot import histo_plot"
   ]
  },
  {
   "cell_type": "code",
   "execution_count": 3,
   "id": "4858bc8f-8359-4dc3-aac5-0bc694e1a1ee",
   "metadata": {
    "tags": []
   },
   "outputs": [],
   "source": [
    "#open OMNI *average* CSVs\n",
    "list_all = []\n",
    "\n",
    "path = \"/Users/apx059/Documents/Location_Only_Checks/OMNI Averages/**\"\n",
    "\n",
    "for path in glob.glob(path, recursive=True):\n",
    "    list_all.append(path)\n",
    "    \n",
    "#list with only files, not folders\n",
    "om_csvs = []\n",
    "\n",
    "for element in list_all:\n",
    "    if '.csv' in element:\n",
    "        om_csvs.append(element)\n",
    "        \n",
    "om_dfs = []\n",
    "\n",
    "for element in om_csvs:\n",
    "    om = pd.read_csv(element)\n",
    "    om_dfs.append(om)\n",
    "    \n",
    "omni_all = pd.concat(om_dfs)\n",
    "omni_all['datetime'] = pd.to_datetime(omni_all['datetime'])\n",
    "\n",
    "omni_all = omni_all.set_index('datetime')\n",
    "\n",
    "for element in om_dfs:\n",
    "    element['datetime'] = pd.to_datetime(element['datetime'])\n",
    "    element = element.set_index('datetime', inplace = True)\n"
   ]
  },
  {
   "cell_type": "code",
   "execution_count": 4,
   "id": "d75e1583-05c8-46eb-9845-1d1f118f790f",
   "metadata": {
    "tags": []
   },
   "outputs": [],
   "source": [
    "##load Cluster CSVs\n",
    "\n",
    "list_all = []\n",
    "\n",
    "path = \"/Users/apx059/Documents/23YrLocApocrita/Cluster_GIPM_SSC/**\"\n",
    "\n",
    "for path in glob.glob(path, recursive=True):\n",
    "    list_all.append(path)\n",
    "    \n",
    "#list with only files, not folders\n",
    "cl_file_list = []\n",
    "\n",
    "for element in list_all:\n",
    "    if '.csv' in element:\n",
    "        cl_file_list.append(element)\n",
    "\n",
    "cl_dfs = []\n",
    "\n",
    "for file in cl_file_list:\n",
    "    df = pd.read_csv(file,encoding='utf-8', names = ['datetime', 'GIPM X (RE)', 'GIPM Y (RE)', 'GIPM Z (RE)'])\n",
    "    df['datetime'] = pd.to_datetime(df['datetime'])\n",
    "    df.set_index('datetime', inplace = True)\n",
    "    cl_dfs.append(df)"
   ]
  },
  {
   "cell_type": "code",
   "execution_count": 24,
   "id": "d95db2bf-6926-4c0f-b15a-9bc2b6b0e308",
   "metadata": {
    "tags": []
   },
   "outputs": [
    {
     "name": "stdout",
     "output_type": "stream",
     "text": [
      "                     GIPM X (RE)  GIPM Y (RE)  GIPM Z (RE)         MA  \\\n",
      "datetime                                                                \n",
      "2010-02-01 00:00:30    15.000046     9.643389    -7.925858   9.833333   \n",
      "2010-02-01 00:01:30    15.005020     9.685043    -7.887440   9.871429   \n",
      "2010-02-01 00:02:30    15.025190     9.693943    -7.897808   9.950000   \n",
      "2010-02-01 00:03:30    15.052010     9.731482    -7.895245  10.033333   \n",
      "2010-02-01 00:04:30    15.092709     9.760937    -7.903781  10.130000   \n",
      "...                          ...          ...          ...        ...   \n",
      "2010-07-30 21:08:30     1.262483     2.040008    -1.642276  11.855556   \n",
      "2010-07-30 21:09:30     1.253225     2.100964    -1.658716  11.900000   \n",
      "2010-07-30 21:10:30     1.243143     2.180931    -1.657347  11.875000   \n",
      "2010-07-30 21:11:30     1.232838     2.230212    -1.669695  11.814286   \n",
      "2010-07-30 21:12:30     1.222346     2.279131    -1.681765  11.700000   \n",
      "\n",
      "                     cone angle  \n",
      "datetime                         \n",
      "2010-02-01 00:00:30   88.164042  \n",
      "2010-02-01 00:01:30   88.390965  \n",
      "2010-02-01 00:02:30   88.073340  \n",
      "2010-02-01 00:03:30   87.631525  \n",
      "2010-02-01 00:04:30   87.139238  \n",
      "...                         ...  \n",
      "2010-07-30 21:08:30   42.231302  \n",
      "2010-07-30 21:09:30   45.165982  \n",
      "2010-07-30 21:10:30   44.420439  \n",
      "2010-07-30 21:11:30   46.964436  \n",
      "2010-07-30 21:12:30   52.299974  \n",
      "\n",
      "[259033 rows x 5 columns]\n"
     ]
    }
   ],
   "source": [
    "#add cone angle and MA to each row of one cluster df\n",
    "\n",
    "ma_list = []\n",
    "cone_a_list = []\n",
    "\n",
    "#cl_1 = cl_dfs[0]\n",
    "\n",
    "#ind_list = cl_1.index\n",
    "\n",
    "#obs = ind_list[2]\n",
    "\n",
    "#if obs in omni_all.index:\n",
    "#    print('yes!')\n",
    "#else:\n",
    "#    print('no :( ')\n",
    "    \n",
    "for i in cl_dfs[0].index:\n",
    "    if i in omni_all.index:\n",
    "        ma_temp = omni_all['M_A'].loc[i]\n",
    "        cone_a_temp = omni_all['cone angle'].loc[i]\n",
    "        ma_list.append(ma_temp)\n",
    "        cone_a_list.append(cone_a_temp)\n",
    "    else:\n",
    "        ma_list.append(np.nan)\n",
    "        cone_a_list.append(np.nan)\n",
    "\n",
    "cl_dfs[0]['MA'] = ma_list\n",
    "cl_dfs[0]['cone angle'] = cone_a_list\n",
    "\n",
    "print(cl_dfs[0])"
   ]
  },
  {
   "cell_type": "code",
   "execution_count": 26,
   "id": "dfe4bae5-ff05-4728-875a-357654a51e1e",
   "metadata": {
    "tags": []
   },
   "outputs": [
    {
     "name": "stdout",
     "output_type": "stream",
     "text": [
      "                     GIPM X (RE)  GIPM Y (RE)  GIPM Z (RE)         MA  \\\n",
      "datetime                                                                \n",
      "2010-02-01 01:41:30    13.820413    11.334064    -2.284925   7.700000   \n",
      "2010-02-01 01:42:30    14.161965    10.221514    -4.494293   7.650000   \n",
      "2010-02-01 01:43:30    14.183240    10.672299    -4.023258   7.800000   \n",
      "2010-02-01 01:44:30    14.185116    10.668381    -4.025884   7.800000   \n",
      "2010-02-01 01:45:30    13.949045    11.326449    -2.578119   7.666667   \n",
      "...                          ...          ...          ...        ...   \n",
      "2010-07-28 16:27:30     0.650120     4.536024     3.134920  18.220000   \n",
      "2010-07-28 16:28:30     0.659493     4.544051     3.185622  17.440000   \n",
      "2010-07-28 16:29:30     0.676427     4.585407     3.138635  17.316667   \n",
      "2010-07-28 16:30:30     0.693041     4.595272     3.128875  17.228571   \n",
      "2010-07-28 16:56:30     1.171985     5.440389     2.776809  16.133333   \n",
      "\n",
      "                     cone angle  \n",
      "datetime                         \n",
      "2010-02-01 01:41:30   28.620808  \n",
      "2010-02-01 01:42:30   27.656633  \n",
      "2010-02-01 01:43:30   27.105894  \n",
      "2010-02-01 01:44:30   27.105894  \n",
      "2010-02-01 01:45:30   26.305114  \n",
      "...                         ...  \n",
      "2010-07-28 16:27:30   28.619508  \n",
      "2010-07-28 16:28:30   28.104246  \n",
      "2010-07-28 16:29:30   28.465645  \n",
      "2010-07-28 16:30:30   28.624346  \n",
      "2010-07-28 16:56:30   29.261064  \n",
      "\n",
      "[18298 rows x 5 columns]\n"
     ]
    }
   ],
   "source": [
    "#make new dataframes split by 1. cone angle and 2. MA\n",
    "\n",
    "df_radial = cl_dfs[0].loc[(cl_dfs[0]['cone angle'] < 30) & (cl_dfs[0]['GIPM X (RE)'].notnull())]\n",
    "df_spiral = cl_dfs[0].loc[(cl_dfs[0]['cone angle'] < 30) & (cl_dfs[0]['GIPM X (RE)'].notnull())]\n",
    "df_perpendicular = cl_dfs[0].loc[(cl_dfs[0]['cone angle'] < 30) & (cl_dfs[0]['GIPM X (RE)'].notnull())]\n",
    "print(df_radial)"
   ]
  },
  {
   "cell_type": "code",
   "execution_count": null,
   "id": "23f4deab-eb69-4349-ad8c-0dbc8bcd89f2",
   "metadata": {},
   "outputs": [],
   "source": []
  }
 ],
 "metadata": {
  "kernelspec": {
   "display_name": "Python 3 (ipykernel)",
   "language": "python",
   "name": "python3"
  },
  "language_info": {
   "codemirror_mode": {
    "name": "ipython",
    "version": 3
   },
   "file_extension": ".py",
   "mimetype": "text/x-python",
   "name": "python",
   "nbconvert_exporter": "python",
   "pygments_lexer": "ipython3",
   "version": "3.11.5"
  }
 },
 "nbformat": 4,
 "nbformat_minor": 5
}
