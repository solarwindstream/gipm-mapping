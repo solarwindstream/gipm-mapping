{
 "cells": [
  {
   "cell_type": "code",
   "execution_count": null,
   "id": "85711038-878e-43b9-9774-f1241d24053b",
   "metadata": {
    "tags": []
   },
   "outputs": [],
   "source": [
    "from window_det import window_det\n",
    "from omni_seg_centered import omni_seg\n",
    "import csv\n",
    "import pandas as pd\n",
    "import numpy as np\n",
    "import glob\n",
    "from gipm_transform import gipm_transform\n",
    "from cone_angle_dfs_dt_ind import cone_angle_dfs\n",
    "from gipm_plot_a import gipm_plot_a\n"
   ]
  },
  {
   "cell_type": "code",
   "execution_count": null,
   "id": "d950cee2-b27e-4aef-b7d8-3a072a8ce882",
   "metadata": {},
   "outputs": [],
   "source": [
    "#read in raw CSVs for Cluster\n",
    "\n",
    "cluster_csv_list = []\n",
    "\n",
    "path = \"/Users/apx059/Documents/Cluster CSVs 2001-02-01-2001-03-15/**\"\n",
    "list_all = []\n",
    "\n",
    "for path in glob.glob(path, recursive=True):\n",
    "    list_all.append(path)\n",
    "    \n",
    "#list with only files, not folders\n",
    "\n",
    "for element in list_all:\n",
    "    if '.csv' in element:\n",
    "        cluster_csv_list.append(element)\n",
    "        \n",
    "cluster_dfs = []\n",
    "\n",
    "for file in cluster_csv_list:\n",
    "    df = pd.read_csv(file)\n",
    "    df['datetime'] = pd.to_datetime(df['datetime'])\n",
    "    df = df.set_index('datetime')\n",
    "    cluster_dfs.append(df)\n",
    "\n",
    "print(cluster_dfs[0])"
   ]
  },
  {
   "cell_type": "code",
   "execution_count": null,
   "id": "0021acb3-5b5f-4fa7-9887-1142a34212b9",
   "metadata": {
    "tags": []
   },
   "outputs": [],
   "source": [
    "#append OMNI dfs to each other\n",
    "\n",
    "omni_csv_list = [r\"/Users/apx059/Documents/OMNI CSVs New/om_2001_Feb.csv\",\n",
    "r\"/Users/apx059/Documents/OMNI CSVs New/om_2001_Mar_01_15.csv\"]\n",
    "omni_df_list = []\n",
    "\n",
    "for file in omni_csv_list:\n",
    "    df = pd.read_csv(file)\n",
    "    df['datetime'] = pd.to_datetime(df['datetime'])\n",
    "    df = df.set_index('datetime')\n",
    "    omni_df_list.append(df)\n",
    "\n",
    "omni_df = pd.concat(omni_df_list)\n",
    "\n"
   ]
  },
  {
   "cell_type": "code",
   "execution_count": null,
   "id": "39341468-f00a-4dac-85fb-1632d3a10a02",
   "metadata": {
    "tags": []
   },
   "outputs": [],
   "source": [
    "f_winds_all = []\n",
    "\n",
    "for df in cluster_dfs:\n",
    "    f_winds = window_det(df)\n",
    "    f_winds_all.append(f_winds)\n",
    "    \n",
    "    "
   ]
  },
  {
   "cell_type": "code",
   "execution_count": null,
   "id": "d2c9a713-be11-4699-ba9b-52882a1d7c9b",
   "metadata": {
    "tags": []
   },
   "outputs": [],
   "source": [
    "%%time\n",
    "\n",
    "om_ave_dfs_list = []\n",
    "\n",
    "for wind_list in f_winds_all:\n",
    "    om_ave = omni_seg(omni_df, wind_list)\n",
    "    om_ave['datetime']=pd.to_datetime(om_ave['datetime'])\n",
    "    om_ave = om_ave.set_index('datetime')\n",
    "    om_ave_dfs_list.append(om_ave)\n",
    "\n",
    "print(om_ave_dfs_list[0])"
   ]
  },
  {
   "cell_type": "code",
   "execution_count": null,
   "id": "8a2236c8-4acd-4d48-a7f6-61c7e65ceaaf",
   "metadata": {
    "tags": []
   },
   "outputs": [],
   "source": [
    "#find GIPM rotation matrices and scaling coefficient for every two minute interval\n",
    "GIPM_mat_list = []\n",
    "FAC_list = []\n",
    "\n",
    "for df in om_ave_dfs_list:\n",
    "    GIPM_mat, FAC_coeffs = gipm_transform(df)\n",
    "    GIPM_mat_list.append(GIPM_mat)\n",
    "    FAC_list.append(FAC_coeffs)\n",
    "    "
   ]
  },
  {
   "cell_type": "code",
   "execution_count": null,
   "id": "57c51c6e-f40a-4526-ab6e-64cd3e0ad184",
   "metadata": {
    "tags": []
   },
   "outputs": [],
   "source": [
    "%%time\n",
    "#use GIPM matrices and scaling coeff to generate average GIPM location for spacecraft in \n",
    "#each two minute interval.\n",
    "\n",
    "Cluster_GIPM_loc_all = []\n",
    "\n",
    "for f_w,cl_df,GIPM_mat,FAC_c in zip(f_winds_all, cluster_dfs, GIPM_mat_list, FAC_list):\n",
    "    Cluster_GIPM_loc = gipm_plot_a(f_w, cl_df, GIPM_mat, FAC_c)\n",
    "    Cluster_GIPM_loc_all.append(Cluster_GIPM_loc)\n",
    "    "
   ]
  },
  {
   "cell_type": "code",
   "execution_count": null,
   "id": "562f63d5-b69f-4220-8aa2-f19060509802",
   "metadata": {
    "tags": []
   },
   "outputs": [],
   "source": [
    "%%time\n",
    "#split by cone angle\n",
    "rad_df_list = []\n",
    "spir_df_list = []\n",
    "perp_df_list = []\n",
    "\n",
    "for om_ave, cl_df, GIPM_lc in zip(om_ave_dfs_list, cluster_dfs, Cluster_GIPM_loc_all):\n",
    "    rad_df, spir_df, perp_df = cone_angle_dfs(om_ave,cl_df, GIPM_lc)\n",
    "    rad_df_list.append(rad_df)\n",
    "    spir_df_list.append(spir_df)\n",
    "    perp_df_list.append(perp_df)\n"
   ]
  },
  {
   "cell_type": "code",
   "execution_count": null,
   "id": "fdd585ff-3066-41d6-a417-eb8b8be5a1d0",
   "metadata": {
    "tags": []
   },
   "outputs": [],
   "source": [
    "#save files as CSVs\n",
    "#omni first\n",
    "\n",
    "for df in om_ave_dfs_list:\n",
    "    firstwin = df.index[0]\n",
    "    firstwin = str(firstwin)\n",
    "    fpath = '/Users/apx059/Documents/OMNI Processed CSVs New/OMNI_averages_' + firstwin + '.csv'\n",
    "    df.to_csv(fpath)\n",
    "    "
   ]
  },
  {
   "cell_type": "code",
   "execution_count": null,
   "id": "6cf0fc5c-f001-46a8-ac15-9ded02bf60c1",
   "metadata": {
    "tags": []
   },
   "outputs": [],
   "source": [
    "#save files as CSVs\n",
    "#now cluster\n",
    "\n",
    "for df in rad_df_list:\n",
    "    if df.size > 0:\n",
    "        firstwin = df.loc[0, 'window start']\n",
    "        firstwin = str(firstwin)\n",
    "        fname = '/Users/apx059/Documents/Radial Cluster GIPM Locs/rad_Cluster_loc_' + firstwin + '.csv'\n",
    "        df.to_csv(fname)\n",
    "    \n",
    "for df in spir_df_list:\n",
    "    if df.size > 0:\n",
    "        firstwin = df.loc[0, 'window start']\n",
    "        firstwin = str(firstwin)\n",
    "        fname = '/Users/apx059/Documents/Spiral Cluster GIPM Locs/spir_Cluster_loc_' + firstwin + '.csv'\n",
    "        df.to_csv(fname)\n",
    "    \n",
    "for df in perp_df_list:\n",
    "    if df.size > 0:\n",
    "        firstwin = df.loc[0, 'window start']\n",
    "        firstwin = str(firstwin)\n",
    "        fname = '/Users/apx059/Documents/Perp Cluster GIPM Locs/perp_Cluster_loc_' + firstwin + '.csv'\n",
    "        df.to_csv(fname)\n",
    "    "
   ]
  }
 ],
 "metadata": {
  "kernelspec": {
   "display_name": "Python 3 (ipykernel)",
   "language": "python",
   "name": "python3"
  },
  "language_info": {
   "codemirror_mode": {
    "name": "ipython",
    "version": 3
   },
   "file_extension": ".py",
   "mimetype": "text/x-python",
   "name": "python",
   "nbconvert_exporter": "python",
   "pygments_lexer": "ipython3",
   "version": "3.11.5"
  }
 },
 "nbformat": 4,
 "nbformat_minor": 5
}
