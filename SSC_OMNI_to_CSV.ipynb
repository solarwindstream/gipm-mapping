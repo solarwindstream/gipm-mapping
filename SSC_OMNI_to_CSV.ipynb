{
 "cells": [
  {
   "cell_type": "code",
   "execution_count": 2,
   "id": "86f9464d-37a5-4f6b-bbcf-d8ad36712409",
   "metadata": {
    "tags": []
   },
   "outputs": [],
   "source": [
    "import cdflib\n",
    "import pandas as pd\n",
    "import numpy as np\n",
    "from OMNI_cdf_conv import OMNI_cdf_conv\n",
    "import datetime as dt\n",
    "import glob\n",
    "from SSC_Conv_CSV import SSCWEBConv"
   ]
  },
  {
   "cell_type": "code",
   "execution_count": null,
   "id": "38faaec2-4d28-4a12-b943-dd4a9a6afd05",
   "metadata": {},
   "outputs": [],
   "source": [
    "#OMNI CDF --> CSV conversion\n",
    "#first produce OMNI file list \n",
    "\n",
    "#automated list of pathnames in OMNI raw data folder\n",
    "    \n",
    "list_all = []\n",
    "\n",
    "path = \"/Users/apx059/Documents/Location Only Checks/OMNI Raw/**\"\n",
    "\n",
    "for path in glob.glob(path, recursive=True):\n",
    "    list_all.append(path)\n",
    "    \n",
    "#list with only files, not folders\n",
    "om_file_list = []\n",
    "\n",
    "for element in list_all:\n",
    "    if '.cdf' in element:\n",
    "        om_file_list.append(element)\n",
    "\n",
    "\n",
    "for file in om_file_list:\n",
    "    omni_file = OMNI_cdf_conv(file)\n",
    "    csv_name = file.removesuffix(\"cdf\") + \"csv\"\n",
    "    omni_file.to_csv(csv_name)\n"
   ]
  },
  {
   "cell_type": "code",
   "execution_count": null,
   "id": "ef106ab4-1cc7-48d8-ac68-e83e02b2437a",
   "metadata": {},
   "outputs": [],
   "source": [
    "#Cluster CDF --> CSV conversion (saving result)\n",
    "list_all = []\n",
    "\n",
    "path = \"/Users/apx059/Documents/Location Only Checks/Cluster Raw/**\"\n",
    "\n",
    "for path in glob.glob(path, recursive=True):\n",
    "    list_all.append(path)\n",
    "    \n",
    "#list with only files, not folders\n",
    "cl_file_list = []\n",
    "\n",
    "for element in list_all:\n",
    "    if '.cdf' in element:\n",
    "        cl_file_list.append(element)\n",
    "        \n",
    "CSV_path_Cl = '/Users/apx059/Documents/Location Only Checks/'\n",
    "\n",
    "cl_df_list = []\n",
    "for file in cl_file_list:\n",
    "    cl_file = SSCWEBConv(file, CSV_path_Cl)\n",
    "    cl_df_list.append(cl_file)\n",
    "    print('done!')"
   ]
  },
  {
   "cell_type": "code",
   "execution_count": null,
   "id": "0389b99e-189e-4211-bf8e-012292e72038",
   "metadata": {},
   "outputs": [],
   "source": []
  }
 ],
 "metadata": {
  "kernelspec": {
   "display_name": "Python 3 (ipykernel)",
   "language": "python",
   "name": "python3"
  },
  "language_info": {
   "codemirror_mode": {
    "name": "ipython",
    "version": 3
   },
   "file_extension": ".py",
   "mimetype": "text/x-python",
   "name": "python",
   "nbconvert_exporter": "python",
   "pygments_lexer": "ipython3",
   "version": "3.11.5"
  }
 },
 "nbformat": 4,
 "nbformat_minor": 5
}
