{
 "cells": [
  {
   "cell_type": "code",
   "execution_count": 1,
   "id": "7d41ac50-08cf-4a50-868a-f245415b95df",
   "metadata": {
    "tags": []
   },
   "outputs": [],
   "source": [
    "#PSDs for variety of locations in spiral 1 yr set up\n",
    "\n",
    "import pandas as pd\n",
    "from XMA_finder import XMA_finder\n",
    "import numpy as np\n",
    "from matplotlib import pyplot as plt\n",
    "import matplotlib.gridspec as gridspec\n",
    "from matplotlib.colors import BoundaryNorm, ListedColormap\n",
    "from matplotlib import cm\n",
    "from merka05_surface_eq_array_GIPM import merka05_surface_eq_array_GIPM\n",
    "import glob\n",
    "from histo_plot_low_vmax import histo_plot\n",
    "import numpy as np\n",
    "from XMA_finder import XMA_finder\n",
    "\n",
    "from numpy.fft import fft, ifft, rfft\n",
    "from scipy import integrate"
   ]
  },
  {
   "cell_type": "code",
   "execution_count": 2,
   "id": "f9a77dda-dbcb-4ece-a5e7-52c67d2e922f",
   "metadata": {
    "tags": []
   },
   "outputs": [],
   "source": [
    "##SPIRAL CONE ANGLE\n",
    "\n",
    "cluster_spir_list = []\n",
    "\n",
    "spir_path = \"/Users/apx059/Documents/1_Yr_Data/1 Year GIPM Sorted/Spiral/**\"\n",
    "spir_list_all = []\n",
    "\n",
    "for path in glob.glob(spir_path, recursive=True):\n",
    "    spir_list_all.append(path)\n",
    "    \n",
    "#list with only files, not folders\n",
    "\n",
    "for element in spir_list_all:\n",
    "    if '.csv' in element:\n",
    "        cluster_spir_list.append(element)\n",
    "        \n",
    "spir_cl_dfs = []\n",
    "\n",
    "for file in cluster_spir_list:\n",
    "    df = pd.read_csv(file)\n",
    "    df['window start'] = pd.to_datetime(df['window start'],format='mixed')\n",
    "    df = df.set_index('window start')\n",
    "    spir_cl_dfs.append(df)"
   ]
  },
  {
   "cell_type": "code",
   "execution_count": 3,
   "id": "9d16915b-5ae4-4dd8-a84d-d860358f9b3c",
   "metadata": {
    "tags": []
   },
   "outputs": [],
   "source": [
    "#read in CSV for OMNI averages\n",
    "\n",
    "omni_ave_list = []\n",
    "\n",
    "omni_path = \"/Users/apx059/Documents/1_Yr_Data/1 Year GIPM Sorted/Omni Averages/**\"\n",
    "omni_list_all = []\n",
    "\n",
    "for path in glob.glob(omni_path, recursive=True):\n",
    "    omni_list_all.append(path)\n",
    "    \n",
    "#list with only files, not folders\n",
    "\n",
    "for element in omni_list_all:\n",
    "    if '.csv' in element:\n",
    "        omni_ave_list.append(element)\n",
    "        \n",
    "omni_ave_dfs = []\n",
    "\n",
    "for file in omni_ave_list:\n",
    "    df = pd.read_csv(file)\n",
    "    omni_ave_dfs.append(df)"
   ]
  },
  {
   "cell_type": "code",
   "execution_count": 4,
   "id": "575aaddb-49a2-4843-b6f5-7656430cc015",
   "metadata": {
    "tags": []
   },
   "outputs": [],
   "source": [
    "#get average XMA for all events\n",
    "omni_ave_all = pd.concat(omni_ave_dfs)\n",
    "XMA_all = XMA_finder(omni_ave_all)\n",
    "\n",
    "all_spir = pd.concat(spir_cl_dfs)"
   ]
  },
  {
   "cell_type": "code",
   "execution_count": 5,
   "id": "52a48c26-a891-480a-a5d1-ccd18ac93208",
   "metadata": {
    "tags": []
   },
   "outputs": [],
   "source": [
    "omni_ave_all['datetime']=pd.to_datetime(omni_ave_all['datetime'])"
   ]
  },
  {
   "cell_type": "code",
   "execution_count": 6,
   "id": "cc42a99d-5e37-4ebd-b8f9-3b2264f7793c",
   "metadata": {
    "tags": []
   },
   "outputs": [],
   "source": [
    "spir_df_XY = all_spir.loc[(all_spir['Cluster Loc GIPM Z']> -5) & (all_spir['Cluster Loc GIPM Z'] < 5)]"
   ]
  },
  {
   "cell_type": "code",
   "execution_count": 24,
   "id": "fad46605-5ac5-48dd-93e3-c1f8548d5031",
   "metadata": {
    "tags": []
   },
   "outputs": [],
   "source": [
    "X_lb = 13\n",
    "X_lim = 14\n",
    "Y_lb = 6\n",
    "Y_lim = 7\n",
    "mask = spir_df_XY.loc[(spir_df_XY['Cluster Loc GIPM X']>= X_lb) & (spir_df_XY['Cluster Loc GIPM X'] < X_lim)]\n",
    "mask_2 = mask.loc[(mask['Cluster Loc GIPM Y']>= Y_lb) & (mask['Cluster Loc GIPM Y'] < Y_lim)]"
   ]
  },
  {
   "cell_type": "code",
   "execution_count": 25,
   "id": "236b2195-e8e7-437d-a5cc-ea2fcea8a235",
   "metadata": {
    "tags": []
   },
   "outputs": [
    {
     "data": {
      "text/html": [
       "<div>\n",
       "<style scoped>\n",
       "    .dataframe tbody tr th:only-of-type {\n",
       "        vertical-align: middle;\n",
       "    }\n",
       "\n",
       "    .dataframe tbody tr th {\n",
       "        vertical-align: top;\n",
       "    }\n",
       "\n",
       "    .dataframe thead th {\n",
       "        text-align: right;\n",
       "    }\n",
       "</style>\n",
       "<table border=\"1\" class=\"dataframe\">\n",
       "  <thead>\n",
       "    <tr style=\"text-align: right;\">\n",
       "      <th></th>\n",
       "      <th>Unnamed: 0</th>\n",
       "      <th>Cluster Loc GIPM X</th>\n",
       "      <th>Cluster Loc GIPM Y</th>\n",
       "      <th>Cluster Loc GIPM Z</th>\n",
       "      <th>Bc_Bo Min</th>\n",
       "      <th>Bc_Bo Mean</th>\n",
       "      <th>Bc_Bo Max</th>\n",
       "    </tr>\n",
       "    <tr>\n",
       "      <th>window start</th>\n",
       "      <th></th>\n",
       "      <th></th>\n",
       "      <th></th>\n",
       "      <th></th>\n",
       "      <th></th>\n",
       "      <th></th>\n",
       "      <th></th>\n",
       "    </tr>\n",
       "  </thead>\n",
       "  <tbody>\n",
       "    <tr>\n",
       "      <th>2001-02-14 20:55:00</th>\n",
       "      <td>116</td>\n",
       "      <td>13.639599</td>\n",
       "      <td>6.67416</td>\n",
       "      <td>4.007896</td>\n",
       "      <td>0.897804</td>\n",
       "      <td>0.984003</td>\n",
       "      <td>1.115684</td>\n",
       "    </tr>\n",
       "  </tbody>\n",
       "</table>\n",
       "</div>"
      ],
      "text/plain": [
       "                     Unnamed: 0  Cluster Loc GIPM X  Cluster Loc GIPM Y  \\\n",
       "window start                                                              \n",
       "2001-02-14 20:55:00         116           13.639599             6.67416   \n",
       "\n",
       "                     Cluster Loc GIPM Z  Bc_Bo Min  Bc_Bo Mean  Bc_Bo Max  \n",
       "window start                                                               \n",
       "2001-02-14 20:55:00            4.007896   0.897804    0.984003   1.115684  "
      ]
     },
     "execution_count": 25,
     "metadata": {},
     "output_type": "execute_result"
    }
   ],
   "source": [
    "ts = pd.to_datetime('2001-02-14 20:55:00')\n",
    "mask_2.loc[mask_2.index == ts]"
   ]
  },
  {
   "cell_type": "code",
   "execution_count": 9,
   "id": "66f69b5a-5847-4a6f-a2bd-47e3fa5cfbce",
   "metadata": {
    "tags": []
   },
   "outputs": [
    {
     "data": {
      "text/html": [
       "<div>\n",
       "<style scoped>\n",
       "    .dataframe tbody tr th:only-of-type {\n",
       "        vertical-align: middle;\n",
       "    }\n",
       "\n",
       "    .dataframe tbody tr th {\n",
       "        vertical-align: top;\n",
       "    }\n",
       "\n",
       "    .dataframe thead th {\n",
       "        text-align: right;\n",
       "    }\n",
       "</style>\n",
       "<table border=\"1\" class=\"dataframe\">\n",
       "  <thead>\n",
       "    <tr style=\"text-align: right;\">\n",
       "      <th></th>\n",
       "      <th>datetime</th>\n",
       "      <th>Np</th>\n",
       "      <th>B_mag</th>\n",
       "      <th>V_gse</th>\n",
       "      <th>B_X_gse</th>\n",
       "      <th>B_Y_gse</th>\n",
       "      <th>B_Z_gse</th>\n",
       "      <th>V_X_gse</th>\n",
       "      <th>V_Y_gse</th>\n",
       "      <th>V_Z_gse</th>\n",
       "      <th>Ave B</th>\n",
       "      <th>Norm Bx</th>\n",
       "      <th>Norm By</th>\n",
       "      <th>Norm Bz</th>\n",
       "      <th>cone angle</th>\n",
       "    </tr>\n",
       "  </thead>\n",
       "  <tbody>\n",
       "    <tr>\n",
       "      <th>403</th>\n",
       "      <td>2001-02-14 20:55:00</td>\n",
       "      <td>2.112</td>\n",
       "      <td>5.783</td>\n",
       "      <td>549.99</td>\n",
       "      <td>3.166</td>\n",
       "      <td>-4.269</td>\n",
       "      <td>0.827</td>\n",
       "      <td>-548.9</td>\n",
       "      <td>-15.0</td>\n",
       "      <td>26.23</td>\n",
       "      <td>5.378833</td>\n",
       "      <td>0.588603</td>\n",
       "      <td>-0.793667</td>\n",
       "      <td>0.153751</td>\n",
       "      <td>53.942029</td>\n",
       "    </tr>\n",
       "  </tbody>\n",
       "</table>\n",
       "</div>"
      ],
      "text/plain": [
       "               datetime     Np  B_mag   V_gse  B_X_gse  B_Y_gse  B_Z_gse  \\\n",
       "403 2001-02-14 20:55:00  2.112  5.783  549.99    3.166   -4.269    0.827   \n",
       "\n",
       "     V_X_gse  V_Y_gse  V_Z_gse     Ave B   Norm Bx   Norm By   Norm Bz  \\\n",
       "403   -548.9    -15.0    26.23  5.378833  0.588603 -0.793667  0.153751   \n",
       "\n",
       "     cone angle  \n",
       "403   53.942029  "
      ]
     },
     "execution_count": 9,
     "metadata": {},
     "output_type": "execute_result"
    }
   ],
   "source": [
    "ts = pd.to_datetime('2001-02-14 20:55:00')\n",
    "omni_ave_all.loc[omni_ave_all['datetime']== ts]"
   ]
  },
  {
   "cell_type": "code",
   "execution_count": 10,
   "id": "05441d5a-279f-419a-93bb-4d600ac59639",
   "metadata": {
    "tags": []
   },
   "outputs": [
    {
     "data": {
      "text/html": [
       "<div>\n",
       "<style scoped>\n",
       "    .dataframe tbody tr th:only-of-type {\n",
       "        vertical-align: middle;\n",
       "    }\n",
       "\n",
       "    .dataframe tbody tr th {\n",
       "        vertical-align: top;\n",
       "    }\n",
       "\n",
       "    .dataframe thead th {\n",
       "        text-align: right;\n",
       "    }\n",
       "</style>\n",
       "<table border=\"1\" class=\"dataframe\">\n",
       "  <thead>\n",
       "    <tr style=\"text-align: right;\">\n",
       "      <th></th>\n",
       "      <th>datetime</th>\n",
       "      <th>Np</th>\n",
       "      <th>B_mag</th>\n",
       "      <th>V_gse</th>\n",
       "      <th>B_X_gse</th>\n",
       "      <th>B_Y_gse</th>\n",
       "      <th>B_Z_gse</th>\n",
       "      <th>V_X_gse</th>\n",
       "      <th>V_Y_gse</th>\n",
       "      <th>V_Z_gse</th>\n",
       "      <th>Ave B</th>\n",
       "      <th>Norm Bx</th>\n",
       "      <th>Norm By</th>\n",
       "      <th>Norm Bz</th>\n",
       "      <th>cone angle</th>\n",
       "    </tr>\n",
       "  </thead>\n",
       "  <tbody>\n",
       "    <tr>\n",
       "      <th>449</th>\n",
       "      <td>2001-02-13 13:29:00</td>\n",
       "      <td>7.2625</td>\n",
       "      <td>6.04125</td>\n",
       "      <td>503.025</td>\n",
       "      <td>-3.57625</td>\n",
       "      <td>-2.51</td>\n",
       "      <td>-2.70875</td>\n",
       "      <td>-502.8375</td>\n",
       "      <td>6.1125</td>\n",
       "      <td>10.8875</td>\n",
       "      <td>5.140719</td>\n",
       "      <td>-0.695671</td>\n",
       "      <td>-0.488259</td>\n",
       "      <td>-0.52692</td>\n",
       "      <td>45.919274</td>\n",
       "    </tr>\n",
       "  </tbody>\n",
       "</table>\n",
       "</div>"
      ],
      "text/plain": [
       "               datetime      Np    B_mag    V_gse  B_X_gse  B_Y_gse  B_Z_gse  \\\n",
       "449 2001-02-13 13:29:00  7.2625  6.04125  503.025 -3.57625    -2.51 -2.70875   \n",
       "\n",
       "      V_X_gse  V_Y_gse  V_Z_gse     Ave B   Norm Bx   Norm By  Norm Bz  \\\n",
       "449 -502.8375   6.1125  10.8875  5.140719 -0.695671 -0.488259 -0.52692   \n",
       "\n",
       "     cone angle  \n",
       "449   45.919274  "
      ]
     },
     "execution_count": 10,
     "metadata": {},
     "output_type": "execute_result"
    }
   ],
   "source": [
    "ts = pd.to_datetime('2001-02-13 13:29:00')\n",
    "omni_ave_all.loc[omni_ave_all['datetime']== ts]"
   ]
  },
  {
   "cell_type": "code",
   "execution_count": 11,
   "id": "a4299085-7e92-4d40-a8a1-01e3c5c17a85",
   "metadata": {
    "tags": []
   },
   "outputs": [
    {
     "name": "stdout",
     "output_type": "stream",
     "text": [
      "0.9840030418602917 actual Bc/Bo: 0.984003\n"
     ]
    },
    {
     "data": {
      "text/plain": [
       "<matplotlib.legend.Legend at 0x16b729010>"
      ]
     },
     "execution_count": 11,
     "metadata": {},
     "output_type": "execute_result"
    },
    {
     "data": {
      "image/png": "[encoded data removed]",
      "text/plain": [
       "<Figure size 800x650 with 1 Axes>"
      ]
     },
     "metadata": {},
     "output_type": "display_data"
    }
   ],
   "source": [
    "# 13<x<14, 6<y<7: 2001-02-14 20:55:00\n",
    "\n",
    "df_a = pd.read_csv('/Users/apx059/Documents/1_Yr_Data/52_Weeks_CSVs/Feb-March-2001/C1_2001-02-14 07:17:00.031000.csv')\n",
    "df_a['datetime'] = pd.to_datetime(df_a['datetime'],format='mixed')\n",
    "df_a = df_a.set_index('datetime')\n",
    "#mask to relevant 2 mins for each of those\n",
    "time_start_a = pd.to_datetime('2001-02-14 20:55:00')\n",
    "time_end_a = pd.to_datetime('2001-02-14 20:57:00')\n",
    "\n",
    "df_2mins_a = df_a.loc[((df_a.index >= time_start_a) & (df_a.index < time_end_a))]\n",
    "\n",
    "#check right df \n",
    "Cluster_list_a = df_2mins_a['B_mag'].tolist()\n",
    "Cluster_mean_a = sum(Cluster_list_a)/len(Cluster_list_a)\n",
    "Cluster_OMNI_rat_a = Cluster_mean_a/5.783\n",
    "\n",
    "print(Cluster_OMNI_rat_a, 'actual Bc/Bo: 0.984003')\n",
    "\n",
    "#it's df_a! Cluster 1\n",
    "\n",
    "#time series of 2 mins\n",
    "\n",
    "fig = plt.figure(figsize=(8, 6.5))\n",
    "\n",
    "fig.suptitle('Foreshock Window 1 14-02-2001')\n",
    "\n",
    "df_2mins_a['B_mag'].plot(color=\"black\")\n",
    "plt.legend()"
   ]
  },
  {
   "cell_type": "code",
   "execution_count": 12,
   "id": "82f5aa0e-0dd6-43a1-8132-cd5ae67b1fbe",
   "metadata": {
    "tags": []
   },
   "outputs": [
    {
     "data": {
      "image/png": "[encoded data removed]",
      "text/plain": [
       "<Figure size 900x600 with 1 Axes>"
      ]
     },
     "metadata": {},
     "output_type": "display_data"
    }
   ],
   "source": [
    "#FFT 2 mins\n",
    "x_2 = df_2mins_a['B_mag'].to_numpy()\n",
    "# sampling rate\n",
    "sr = 22\n",
    "\n",
    "X_2 = rfft(x_2)\n",
    "N_2 = len(X_2)\n",
    "n_2 = np.arange(N_2)\n",
    "T_2 = N_2/sr\n",
    "t_2 = df_2mins_a.index.to_numpy()\n",
    "freq_2 = n_2/T_2\n",
    "power_2 = np.abs(X_2)**2\n",
    "\n",
    "##and plot\n",
    "\n",
    "plt.figure(figsize = (9, 6))\n",
    "plt.subplot(111)\n",
    "plt.title('2001-02-14 20:55:00')\n",
    "\n",
    "plt.plot(freq_2, power_2, color=\"k\", label='B_mag')\n",
    "\n",
    "#plt.xlabel('Period (s)')\n",
    "plt.xscale('log')\n",
    "plt.yscale('log')\n",
    "plt.ylabel('FFT Power')\n",
    "plt.xlabel('Frequency, Hz')\n",
    "plt.xlim(0.01, 5)\n",
    "plt.ylim(0.1, 100_000_000)\n",
    "plt.legend()\n",
    "\n",
    "#plt.subplot(122)\n",
    "#plt.plot(t, ifft(X), 'k')\n",
    "#plt.xlabel('Time (s)')\n",
    "#plt.ylabel('Amplitude')\n",
    "#plt.tight_layout()\n",
    "plt.show()"
   ]
  },
  {
   "cell_type": "code",
   "execution_count": 13,
   "id": "a4f8ff72-0249-47be-b941-6f0b00b153c0",
   "metadata": {},
   "outputs": [],
   "source": [
    "X_lb_2 = 12\n",
    "X_lim_2 = 13\n",
    "Y_lb_2 = -9\n",
    "Y_lim_2 = -8\n",
    "\n",
    "mask_3 = spir_df_XY.loc[(spir_df_XY['Cluster Loc GIPM X']>= X_lb_2) & (spir_df_XY['Cluster Loc GIPM X'] < X_lim_2)]\n",
    "mask_4 = mask_3.loc[(mask_3['Cluster Loc GIPM Y']>= Y_lb_2) & (mask_3['Cluster Loc GIPM Y'] < Y_lim_2)]"
   ]
  },
  {
   "cell_type": "code",
   "execution_count": 14,
   "id": "968e9dc5-2bb0-4af5-aed8-a17921fd27ee",
   "metadata": {
    "tags": []
   },
   "outputs": [
    {
     "name": "stdout",
     "output_type": "stream",
     "text": [
      "0.9054394778155445 0.899784920431637 0.9144614049783203 0.8906617069604337 actual Bc/Bo: 0.899785\n"
     ]
    }
   ],
   "source": [
    "# 13<x<14 , -7<y<-6, 2001-02-13 13:29:00\n",
    "#matching raw csv paths:\n",
    "#C1 /Users/apx059/Documents/1_Yr_Data/Feb-March-2001/C1_2001-02-12 22:09:00.028000.csv\n",
    "#C2 /Users/apx059/Documents/1_Yr_Data/Feb-March-2001/C2_2001-02-12 22:09:00.008000.csv\n",
    "#C3 /Users/apx059/Documents/1_Yr_Data/Feb-March-2001/C3_2001-02-12 22:09:00.006000.csv\n",
    "#C4 /Users/apx059/Documents/1_Yr_Data/Feb-March-2001/C4_2001-02-12 22:09:00.037000.csv\n",
    "\n",
    "\n",
    "df_e = pd.read_csv('/Users/apx059/Documents/1_Yr_Data/52_Weeks_CSVs/Feb-March-2001/C1_2001-02-12 22:09:00.028000.csv')\n",
    "df_e['datetime'] = pd.to_datetime(df_e['datetime'],format='mixed')\n",
    "df_e = df_e.set_index('datetime')\n",
    "\n",
    "df_f = pd.read_csv('/Users/apx059/Documents/1_Yr_Data/52_Weeks_CSVs/Feb-March-2001/C2_2001-02-12 22:09:00.008000.csv')\n",
    "df_f['datetime'] = pd.to_datetime(df_f['datetime'],format='mixed')\n",
    "df_f = df_f.set_index('datetime')\n",
    "\n",
    "df_g = pd.read_csv('/Users/apx059/Documents/1_Yr_Data/52_Weeks_CSVs/Feb-March-2001/C3_2001-02-12 22:09:00.006000.csv')\n",
    "df_g['datetime'] = pd.to_datetime(df_g['datetime'],format='mixed')\n",
    "df_g = df_g.set_index('datetime')\n",
    "\n",
    "df_h = pd.read_csv('/Users/apx059/Documents/1_Yr_Data/52_Weeks_CSVs/Feb-March-2001/C4_2001-02-12 22:09:00.037000.csv')\n",
    "df_h['datetime'] = pd.to_datetime(df_h['datetime'],format='mixed')\n",
    "df_h = df_h.set_index('datetime')\n",
    "\n",
    "#mask to relevant 2 mins for each of those\n",
    "time_start_e = pd.to_datetime('2001-02-13 13:29:00')\n",
    "time_end_e = pd.to_datetime('2001-02-13 13:31:00')\n",
    "\n",
    "df_2mins_e = df_e.loc[((df_e.index >= time_start_e) & (df_e.index < time_end_e))]\n",
    "df_2mins_f = df_f.loc[((df_f.index >= time_start_e) & (df_f.index < time_end_e))]\n",
    "df_2mins_g = df_g.loc[((df_g.index >= time_start_e) & (df_g.index < time_end_e))]\n",
    "df_2mins_h = df_h.loc[((df_h.index >= time_start_e) & (df_h.index < time_end_e))]\n",
    "\n",
    "Cluster_list_e = df_2mins_e['B_mag'].tolist()\n",
    "Cluster_mean_e = sum(Cluster_list_e)/len(Cluster_list_e)\n",
    "Cluster_OMNI_rat_e = Cluster_mean_e/6.04125\n",
    "\n",
    "Cluster_list_f = df_2mins_f['B_mag'].tolist()\n",
    "Cluster_mean_f = sum(Cluster_list_f)/len(Cluster_list_f)\n",
    "Cluster_OMNI_rat_f = Cluster_mean_f/6.04125\n",
    "\n",
    "Cluster_list_g = df_2mins_g['B_mag'].tolist()\n",
    "Cluster_mean_g = sum(Cluster_list_g)/len(Cluster_list_g)\n",
    "Cluster_OMNI_rat_g = Cluster_mean_g/6.04125\n",
    "\n",
    "Cluster_list_h = df_2mins_h['B_mag'].tolist()\n",
    "Cluster_mean_h = sum(Cluster_list_h)/len(Cluster_list_h)\n",
    "Cluster_OMNI_rat_h = Cluster_mean_h/6.04125\n",
    "\n",
    "print(Cluster_OMNI_rat_e, Cluster_OMNI_rat_f, Cluster_OMNI_rat_g, Cluster_OMNI_rat_h, 'actual Bc/Bo: 0.899785')\n",
    "#it's cluster 2! (f)"
   ]
  },
  {
   "cell_type": "code",
   "execution_count": 15,
   "id": "629dd5e2-3b91-4fc6-8575-5ea5a52d6e5f",
   "metadata": {
    "tags": []
   },
   "outputs": [
    {
     "data": {
      "text/html": [
       "<div>\n",
       "<style scoped>\n",
       "    .dataframe tbody tr th:only-of-type {\n",
       "        vertical-align: middle;\n",
       "    }\n",
       "\n",
       "    .dataframe tbody tr th {\n",
       "        vertical-align: top;\n",
       "    }\n",
       "\n",
       "    .dataframe thead th {\n",
       "        text-align: right;\n",
       "    }\n",
       "</style>\n",
       "<table border=\"1\" class=\"dataframe\">\n",
       "  <thead>\n",
       "    <tr style=\"text-align: right;\">\n",
       "      <th></th>\n",
       "      <th>datetime</th>\n",
       "      <th>Np</th>\n",
       "      <th>B_mag</th>\n",
       "      <th>V_gse</th>\n",
       "      <th>B_X_gse</th>\n",
       "      <th>B_Y_gse</th>\n",
       "      <th>B_Z_gse</th>\n",
       "      <th>V_X_gse</th>\n",
       "      <th>V_Y_gse</th>\n",
       "      <th>V_Z_gse</th>\n",
       "      <th>Ave B</th>\n",
       "      <th>Norm Bx</th>\n",
       "      <th>Norm By</th>\n",
       "      <th>Norm Bz</th>\n",
       "      <th>cone angle</th>\n",
       "    </tr>\n",
       "  </thead>\n",
       "  <tbody>\n",
       "    <tr>\n",
       "      <th>449</th>\n",
       "      <td>2001-02-13 13:29:00</td>\n",
       "      <td>7.2625</td>\n",
       "      <td>6.04125</td>\n",
       "      <td>503.025</td>\n",
       "      <td>-3.57625</td>\n",
       "      <td>-2.51</td>\n",
       "      <td>-2.70875</td>\n",
       "      <td>-502.8375</td>\n",
       "      <td>6.1125</td>\n",
       "      <td>10.8875</td>\n",
       "      <td>5.140719</td>\n",
       "      <td>-0.695671</td>\n",
       "      <td>-0.488259</td>\n",
       "      <td>-0.52692</td>\n",
       "      <td>45.919274</td>\n",
       "    </tr>\n",
       "  </tbody>\n",
       "</table>\n",
       "</div>"
      ],
      "text/plain": [
       "               datetime      Np    B_mag    V_gse  B_X_gse  B_Y_gse  B_Z_gse  \\\n",
       "449 2001-02-13 13:29:00  7.2625  6.04125  503.025 -3.57625    -2.51 -2.70875   \n",
       "\n",
       "      V_X_gse  V_Y_gse  V_Z_gse     Ave B   Norm Bx   Norm By  Norm Bz  \\\n",
       "449 -502.8375   6.1125  10.8875  5.140719 -0.695671 -0.488259 -0.52692   \n",
       "\n",
       "     cone angle  \n",
       "449   45.919274  "
      ]
     },
     "execution_count": 15,
     "metadata": {},
     "output_type": "execute_result"
    }
   ],
   "source": [
    "ts = pd.to_datetime('2001-02-13 13:29:00')\n",
    "omni_ave_all.loc[omni_ave_all['datetime']== ts]"
   ]
  },
  {
   "cell_type": "code",
   "execution_count": 16,
   "id": "9c5094d8-aaf6-45d8-864e-2613efe46d11",
   "metadata": {
    "tags": []
   },
   "outputs": [
    {
     "data": {
      "text/plain": [
       "<matplotlib.legend.Legend at 0x16b701950>"
      ]
     },
     "execution_count": 16,
     "metadata": {},
     "output_type": "execute_result"
    },
    {
     "data": {
      "image/png": "[encoded data removed]",
      "text/plain": [
       "<Figure size 800x650 with 1 Axes>"
      ]
     },
     "metadata": {},
     "output_type": "display_data"
    }
   ],
   "source": [
    "#time series of 2 mins\n",
    "\n",
    "fig = plt.figure(figsize=(8, 6.5))\n",
    "\n",
    "fig.suptitle('Foreshock Window C2 13-02-2001')\n",
    "\n",
    "df_2mins_f['B_mag'].plot(color=\"black\")\n",
    "plt.legend()"
   ]
  },
  {
   "cell_type": "code",
   "execution_count": 17,
   "id": "81839d6e-1597-4c90-a30f-1a7dc1557836",
   "metadata": {
    "tags": []
   },
   "outputs": [
    {
     "ename": "NameError",
     "evalue": "name 'df_2mins_u' is not defined",
     "output_type": "error",
     "traceback": [
      "\u001b[0;31m---------------------------------------------------------------------------\u001b[0m",
      "\u001b[0;31mNameError\u001b[0m                                 Traceback (most recent call last)",
      "Cell \u001b[0;32mIn[17], line 13\u001b[0m\n\u001b[1;32m     11\u001b[0m n_2a \u001b[38;5;241m=\u001b[39m np\u001b[38;5;241m.\u001b[39marange(N_2a)\n\u001b[1;32m     12\u001b[0m T_2a \u001b[38;5;241m=\u001b[39m N_2a\u001b[38;5;241m/\u001b[39msr\n\u001b[0;32m---> 13\u001b[0m t_2a \u001b[38;5;241m=\u001b[39m df_2mins_u\u001b[38;5;241m.\u001b[39mindex\u001b[38;5;241m.\u001b[39mto_numpy()\n\u001b[1;32m     14\u001b[0m freq_2a \u001b[38;5;241m=\u001b[39m n_2a\u001b[38;5;241m/\u001b[39mT_2a\n\u001b[1;32m     15\u001b[0m power_2a \u001b[38;5;241m=\u001b[39m np\u001b[38;5;241m.\u001b[39mabs(X_2a)\u001b[38;5;241m*\u001b[39m\u001b[38;5;241m*\u001b[39m\u001b[38;5;241m2\u001b[39m\n",
      "\u001b[0;31mNameError\u001b[0m: name 'df_2mins_u' is not defined"
     ]
    }
   ],
   "source": [
    "#FFT 2 mins\n",
    "x_2a = df_2mins_f['B_mag'].to_numpy()\n",
    "x_2b = df_2mins_f['Bx_gse'].to_numpy()\n",
    "x_2c = df_2mins_f['By_gse'].to_numpy()\n",
    "x_2d = df_2mins_f['Bz_gse'].to_numpy()\n",
    "# sampling rate\n",
    "sr = 22\n",
    "\n",
    "X_2a = rfft(x_2a)\n",
    "N_2a = len(X_2a)\n",
    "n_2a = np.arange(N_2a)\n",
    "T_2a = N_2a/sr\n",
    "t_2a = df_2mins_u.index.to_numpy()\n",
    "freq_2a = n_2a/T_2a\n",
    "power_2a = np.abs(X_2a)**2\n",
    "\n",
    "\n",
    "X_2b = rfft(x_2b)\n",
    "N_2b = len(X_2b)\n",
    "n_2b = np.arange(N_2b)\n",
    "T_2b = N_2b/sr\n",
    "t_2b = df_2mins_u.index.to_numpy()\n",
    "freq_2b = n_2b/T_2b\n",
    "power_2b = np.abs(X_2b)**2\n",
    "\n",
    "\n",
    "X_2c = rfft(x_2c)\n",
    "N_2c = len(X_2c)\n",
    "n_2c = np.arange(N_2c)\n",
    "T_2c = N_2c/sr\n",
    "t_2c = df_2mins_u.index.to_numpy()\n",
    "freq_2c = n_2c/T_2c\n",
    "power_2c = np.abs(X_2c)**2\n",
    "\n",
    "\n",
    "X_2d = rfft(x_2d)\n",
    "N_2d = len(X_2d)\n",
    "n_2d = np.arange(N_2d)\n",
    "T_2d = N_2d/sr\n",
    "t_2d = df_2mins_u.index.to_numpy()\n",
    "freq_2d = n_2d/T_2d\n",
    "power_2d = np.abs(X_2d)**2\n",
    "##and plot\n",
    "\n",
    "plt.figure(figsize = (9, 6))\n",
    "plt.subplot(111)\n",
    "\n",
    "plt.plot(freq_2a, power_2a, color=\"black\", label='B_mag')\n",
    "plt.plot(freq_2b, power_2b, color=\"green\", label='B_x')\n",
    "plt.plot(freq_2c, power_2c, color=\"blue\", label='B_y')\n",
    "plt.plot(freq_2d, power_2d, color=\"red\", label='B_z')\n",
    "\n",
    "#plt.xlabel('Period (s)')\n",
    "plt.xscale('log')\n",
    "plt.yscale('log')\n",
    "plt.ylabel('FFT Power')\n",
    "plt.xlabel('Frequency, Hz')\n",
    "plt.xlim(0.01, 5)\n",
    "plt.ylim(0.1, 100_000_000)\n",
    "plt.title('2001-02-13 13:29:00 C2')\n",
    "plt.legend()\n",
    "\n",
    "#plt.subplot(122)\n",
    "#plt.plot(t, ifft(X), 'k')\n",
    "#plt.xlabel('Time (s)')\n",
    "#plt.ylabel('Amplitude')\n",
    "#plt.tight_layout()\n",
    "plt.show()"
   ]
  },
  {
   "cell_type": "code",
   "execution_count": null,
   "id": "5c6606b7-999d-4986-90cd-d31468bbedd6",
   "metadata": {
    "tags": []
   },
   "outputs": [],
   "source": [
    "X_lb_2 = 13\n",
    "X_lim_2 = 14\n",
    "Y_lb_2 = -7\n",
    "Y_lim_2 = -6\n",
    "\n",
    "mask_5 = spir_df_XY.loc[(spir_df_XY['Cluster Loc GIPM X']>= X_lb_2) & (spir_df_XY['Cluster Loc GIPM X'] < X_lim_2)]\n",
    "mask_6 = mask_5.loc[(mask_5['Cluster Loc GIPM Y']>= Y_lb_2) & (mask_5['Cluster Loc GIPM Y'] < Y_lim_2)]"
   ]
  },
  {
   "cell_type": "code",
   "execution_count": null,
   "id": "1ed6f628-cced-40b9-aa57-d8708440965d",
   "metadata": {
    "tags": []
   },
   "outputs": [],
   "source": [
    "ts = pd.to_datetime('2001-02-20 14:15:00')\n",
    "omni_ave_all.loc[omni_ave_all['datetime']== ts]"
   ]
  },
  {
   "cell_type": "code",
   "execution_count": null,
   "id": "a5190581-3932-4618-8829-f5b109e56256",
   "metadata": {
    "tags": []
   },
   "outputs": [],
   "source": [
    "#selection 2001-02-20 14:15:00\n",
    "\n",
    "df_i = pd.read_csv('/Users/apx059/Documents/1_Yr_Data/52_Weeks_CSVs/Feb-March-2001/C1_2001-02-20 01:29:00.028000.csv')\n",
    "df_i['datetime'] = pd.to_datetime(df_i['datetime'],format='mixed')\n",
    "df_i = df_i.set_index('datetime')\n",
    "\n",
    "df_j = pd.read_csv('/Users/apx059/Documents/1_Yr_Data/52_Weeks_CSVs/Feb-March-2001/C2_2001-02-20 01:29:00.018000.csv')\n",
    "df_j['datetime'] = pd.to_datetime(df_j['datetime'],format='mixed')\n",
    "df_j = df_j.set_index('datetime')\n",
    "\n",
    "df_k = pd.read_csv('/Users/apx059/Documents/1_Yr_Data/52_Weeks_CSVs/Feb-March-2001/C3_2001-02-20 01:29:00.025000.csv')\n",
    "df_k['datetime'] = pd.to_datetime(df_k['datetime'],format='mixed')\n",
    "df_k = df_k.set_index('datetime')\n",
    "\n",
    "df_l = pd.read_csv('/Users/apx059/Documents/1_Yr_Data/52_Weeks_CSVs/Feb-March-2001/C4_2001-02-20 01:29:00.024000.csv')\n",
    "df_l['datetime'] = pd.to_datetime(df_l['datetime'],format='mixed')\n",
    "df_l = df_l.set_index('datetime')\n",
    "\n",
    "#mask to relevant 2 mins for each of those\n",
    "time_start_c = pd.to_datetime('2001-02-20 14:15:00')\n",
    "time_end_c = pd.to_datetime('2001-02-20 14:17:00')\n",
    "\n",
    "df_2mins_i = df_i.loc[((df_i.index >= time_start_c) & (df_i.index < time_end_c))]\n",
    "df_2mins_j = df_j.loc[((df_j.index >= time_start_c) & (df_j.index < time_end_c))]\n",
    "df_2mins_k = df_k.loc[((df_k.index >= time_start_c) & (df_k.index < time_end_c))]\n",
    "df_2mins_l = df_l.loc[((df_l.index >= time_start_c) & (df_l.index < time_end_c))]\n"
   ]
  },
  {
   "cell_type": "code",
   "execution_count": null,
   "id": "e89c0bcd-4b41-4eaf-8ec8-57b32c3d9216",
   "metadata": {
    "tags": []
   },
   "outputs": [],
   "source": [
    "\n",
    "Cluster_list_i = df_2mins_i['B_mag'].tolist()\n",
    "Cluster_mean_i = sum(Cluster_list_i)/len(Cluster_list_i)\n",
    "Cluster_OMNI_rat_i = Cluster_mean_i/11.815\n",
    "\n",
    "\n",
    "Cluster_list_j = df_2mins_j['B_mag'].tolist()\n",
    "Cluster_mean_j = sum(Cluster_list_j)/len(Cluster_list_j)\n",
    "Cluster_OMNI_rat_j = Cluster_mean_j/11.815\n",
    "\n",
    "Cluster_list_k = df_2mins_k['B_mag'].tolist()\n",
    "Cluster_mean_k = sum(Cluster_list_k)/len(Cluster_list_k)\n",
    "Cluster_OMNI_rat_k = Cluster_mean_k/11.815\n",
    "\n",
    "Cluster_list_l = df_2mins_l['B_mag'].tolist()\n",
    "Cluster_mean_l = sum(Cluster_list_l)/len(Cluster_list_l)\n",
    "Cluster_OMNI_rat_l = Cluster_mean_l/11.815\n",
    "\n",
    "print(Cluster_OMNI_rat_i, Cluster_OMNI_rat_j, Cluster_OMNI_rat_k, Cluster_OMNI_rat_l, 'actual Bc/Bo: 1.009168')\n",
    "#it's cluster 2 (j) "
   ]
  },
  {
   "cell_type": "code",
   "execution_count": null,
   "id": "f10c7560-e049-4fe6-b656-45772af7664c",
   "metadata": {
    "tags": []
   },
   "outputs": [],
   "source": [
    "#time series of 2 mins\n",
    "\n",
    "fig = plt.figure(figsize=(8, 6.5))\n",
    "\n",
    "fig.suptitle('Foreshock Window C2 2001-02-20 14:15:00')\n",
    "\n",
    "df_2mins_j['B_mag'].plot(color=\"black\")\n",
    "plt.legend()"
   ]
  },
  {
   "cell_type": "code",
   "execution_count": null,
   "id": "546b94fa-1c71-4f07-83f6-6aa5cf591f96",
   "metadata": {
    "tags": []
   },
   "outputs": [],
   "source": [
    "#FFT 2 mins\n",
    "x_2 = df_2mins_j['B_mag'].to_numpy()\n",
    "# sampling rate\n",
    "sr = 22\n",
    "\n",
    "X_2 = rfft(x_2)\n",
    "N_2 = len(X_2)\n",
    "n_2 = np.arange(N_2)\n",
    "T_2 = N_2/sr\n",
    "t_2 = df_2mins_j.index.to_numpy()\n",
    "freq_2 = n_2/T_2\n",
    "power_2 = np.abs(X_2)**2\n",
    "\n",
    "##and plot\n",
    "\n",
    "plt.figure(figsize = (9, 6))\n",
    "plt.subplot(111)\n",
    "\n",
    "plt.plot(freq_2, power_2, color=\"green\", label='B_mag')\n",
    "\n",
    "#plt.xlabel('Period (s)')\n",
    "plt.xscale('log')\n",
    "plt.yscale('log')\n",
    "plt.ylabel('FFT Power')\n",
    "plt.xlabel('Frequency, Hz')\n",
    "plt.xlim(0.01, 5)\n",
    "plt.ylim(0.1, 100_000_000)\n",
    "plt.legend()\n",
    "\n",
    "#plt.subplot(122)\n",
    "#plt.plot(t, ifft(X), 'k')\n",
    "#plt.xlabel('Time (s)')\n",
    "#plt.ylabel('Amplitude')\n",
    "#plt.tight_layout()\n",
    "plt.show()"
   ]
  },
  {
   "cell_type": "code",
   "execution_count": null,
   "id": "5cce5895-9472-4a8f-980b-b90fb2903c4c",
   "metadata": {
    "tags": []
   },
   "outputs": [],
   "source": [
    "X_lb_3 = 12\n",
    "X_lim_3 = 13\n",
    "Y_lb_3 = -9\n",
    "Y_lim_3 = -8\n",
    "\n",
    "mask_7 = spir_df_XY.loc[(spir_df_XY['Cluster Loc GIPM X']>= X_lb_3) & (spir_df_XY['Cluster Loc GIPM X'] < X_lim_3)]\n",
    "mask_8 = mask_7.loc[(mask_7['Cluster Loc GIPM Y']>= Y_lb_3) & (mask_7['Cluster Loc GIPM Y'] < Y_lim_3)]"
   ]
  },
  {
   "cell_type": "code",
   "execution_count": null,
   "id": "31f5c636-9d9c-4a94-bd22-0d19f2e0ca68",
   "metadata": {
    "tags": []
   },
   "outputs": [],
   "source": [
    "mask_8"
   ]
  },
  {
   "cell_type": "code",
   "execution_count": null,
   "id": "31ba34e3-6af7-4296-b32a-7ecb3e7e67ce",
   "metadata": {
    "tags": []
   },
   "outputs": [],
   "source": [
    "ts = pd.to_datetime('2001-04-10 16:03:00')\n",
    "omni_ave_all.loc[omni_ave_all['datetime']== ts]"
   ]
  },
  {
   "cell_type": "code",
   "execution_count": null,
   "id": "6e6c2c80-7ee6-4ea3-b5a3-c195cd5d6364",
   "metadata": {
    "tags": []
   },
   "outputs": [],
   "source": [
    "#selection 2001-04-10 16:03:00\n",
    "\n",
    "df_m = pd.read_csv('/Users/apx059/Documents/1_Yr_Data/52_Weeks_CSVs/March-April/2001-04-10 01:06:00.011000C1.csv')\n",
    "df_m['datetime'] = pd.to_datetime(df_m['datetime'],format='mixed')\n",
    "df_m = df_m.set_index('datetime')\n",
    "\n",
    "df_n = pd.read_csv('/Users/apx059/Documents/1_Yr_Data/52_Weeks_CSVs/March-April/2001-04-10 01:10:00.028000C2.csv')\n",
    "df_n['datetime'] = pd.to_datetime(df_n['datetime'],format='mixed')\n",
    "df_n = df_n.set_index('datetime')\n",
    "\n",
    "df_o = pd.read_csv('/Users/apx059/Documents/1_Yr_Data/52_Weeks_CSVs/March-April/2001-04-10 12:57:09.646000C3.csv')\n",
    "df_o['datetime'] = pd.to_datetime(df_o['datetime'],format='mixed')\n",
    "df_o = df_o.set_index('datetime')\n",
    "\n",
    "df_p = pd.read_csv('/Users/apx059/Documents/1_Yr_Data/52_Weeks_CSVs/March-April/2001-04-10 01:12:00.008000C4.csv')\n",
    "df_p['datetime'] = pd.to_datetime(df_p['datetime'],format='mixed')\n",
    "df_p = df_p.set_index('datetime')\n",
    "\n",
    "#mask to relevant 2 mins for each of those\n",
    "time_start_m = pd.to_datetime('2001-04-10 16:03:00')\n",
    "time_end_m = pd.to_datetime('2001-04-10 16:05:00')\n",
    "\n",
    "df_2mins_m = df_m.loc[((df_m.index >= time_start_m) & (df_m.index < time_end_m))]\n",
    "df_2mins_n = df_n.loc[((df_n.index >= time_start_m) & (df_n.index < time_end_m))]\n",
    "df_2mins_o = df_o.loc[((df_o.index >= time_start_m) & (df_o.index < time_end_m))]\n",
    "df_2mins_p = df_p.loc[((df_p.index >= time_start_m) & (df_p.index < time_end_m))]\n"
   ]
  },
  {
   "cell_type": "code",
   "execution_count": null,
   "id": "1153460c-3001-4df8-916c-a50733ceee29",
   "metadata": {
    "tags": []
   },
   "outputs": [],
   "source": [
    "\n",
    "Cluster_list_m = df_2mins_m['B_mag'].tolist()\n",
    "Cluster_mean_m = sum(Cluster_list_m)/len(Cluster_list_m)\n",
    "Cluster_OMNI_rat_m = Cluster_mean_m/4.38\n",
    "\n",
    "\n",
    "Cluster_list_n = df_2mins_n['B_mag'].tolist()\n",
    "Cluster_mean_n = sum(Cluster_list_n)/len(Cluster_list_n)\n",
    "Cluster_OMNI_rat_n = Cluster_mean_n/4.38\n",
    "\n",
    "Cluster_list_o = df_2mins_o['B_mag'].tolist()\n",
    "Cluster_mean_o = sum(Cluster_list_o)/len(Cluster_list_o)\n",
    "Cluster_OMNI_rat_o = Cluster_mean_o/4.38\n",
    "\n",
    "Cluster_list_p = df_2mins_p['B_mag'].tolist()\n",
    "Cluster_mean_p = sum(Cluster_list_p)/len(Cluster_list_p)\n",
    "Cluster_OMNI_rat_p = Cluster_mean_p/4.38\n",
    "\n",
    "print(Cluster_OMNI_rat_m, Cluster_OMNI_rat_n, Cluster_OMNI_rat_o, Cluster_OMNI_rat_p, 'actual Bc/Bo: 0.995160')\n",
    "#it's C3 (o)"
   ]
  },
  {
   "cell_type": "code",
   "execution_count": null,
   "id": "b47c2c46-cedb-4da9-bd1f-5d556f2f7c00",
   "metadata": {
    "tags": []
   },
   "outputs": [],
   "source": [
    "#time series of 2 mins\n",
    "\n",
    "fig = plt.figure(figsize=(8, 6.5))\n",
    "\n",
    "fig.suptitle('Foreshock Window C3 2001-04-10 16:03:00')\n",
    "\n",
    "df_2mins_o['B_mag'].plot(color=\"black\")\n",
    "plt.legend()"
   ]
  },
  {
   "cell_type": "code",
   "execution_count": null,
   "id": "446b666a-8b39-4c31-9859-4fbeb810748a",
   "metadata": {
    "tags": []
   },
   "outputs": [],
   "source": [
    "#FFT 2 mins\n",
    "x_2 = df_2mins_o['B_mag'].to_numpy()\n",
    "# sampling rate\n",
    "sr = 22\n",
    "\n",
    "X_2 = rfft(x_2)\n",
    "N_2 = len(X_2)\n",
    "n_2 = np.arange(N_2)\n",
    "T_2 = N_2/sr\n",
    "t_2 = df_2mins_o.index.to_numpy()\n",
    "freq_2 = n_2/T_2\n",
    "power_2 = np.abs(X_2)**2\n",
    "\n",
    "##and plot\n",
    "\n",
    "plt.figure(figsize = (9, 6))\n",
    "plt.subplot(111)\n",
    "\n",
    "plt.plot(freq_2, power_2, color=\"green\", label='B_mag')\n",
    "\n",
    "#plt.xlabel('Period (s)')\n",
    "plt.xscale('log')\n",
    "plt.yscale('log')\n",
    "plt.ylabel('FFT Power')\n",
    "plt.xlabel('Frequency, Hz')\n",
    "plt.xlim(0.01, 5)\n",
    "plt.ylim(0.1, 100_000_000)\n",
    "plt.legend()\n",
    "\n",
    "#plt.subplot(122)\n",
    "#plt.plot(t, ifft(X), 'k')\n",
    "#plt.xlabel('Time (s)')\n",
    "#plt.ylabel('Amplitude')\n",
    "#plt.tight_layout()\n",
    "plt.show()"
   ]
  },
  {
   "cell_type": "code",
   "execution_count": null,
   "id": "dc51d264-3a03-4124-a96e-7a63951c7381",
   "metadata": {
    "tags": []
   },
   "outputs": [],
   "source": [
    "X_lb_4 = 12\n",
    "X_lim_4 = 13\n",
    "Y_lb_4 = -11\n",
    "Y_lim_4 = -10\n",
    "\n",
    "mask_9 = spir_df_XY.loc[(spir_df_XY['Cluster Loc GIPM X']>= X_lb_4) & (spir_df_XY['Cluster Loc GIPM X'] < X_lim_4)]\n",
    "mask_10 = mask_9.loc[(mask_9['Cluster Loc GIPM Y']>= Y_lb_4) & (mask_9['Cluster Loc GIPM Y'] < Y_lim_4)]"
   ]
  },
  {
   "cell_type": "code",
   "execution_count": null,
   "id": "05134e70-730a-408c-9412-8215ffdda68b",
   "metadata": {
    "tags": []
   },
   "outputs": [],
   "source": [
    "mask_10"
   ]
  },
  {
   "cell_type": "code",
   "execution_count": null,
   "id": "2da0b3f3-b04f-49e7-93d0-8c5de40215e2",
   "metadata": {
    "tags": []
   },
   "outputs": [],
   "source": [
    "ts = pd.to_datetime('2001-02-10 03:14:00')\n",
    "omni_ave_all.loc[omni_ave_all['datetime']== ts]"
   ]
  },
  {
   "cell_type": "code",
   "execution_count": null,
   "id": "89c33c9b-97a9-4156-9c01-19674e68a7b2",
   "metadata": {
    "tags": []
   },
   "outputs": [],
   "source": [
    "#2001-02-10 03:14:00\n",
    "\n",
    "\n",
    "df_q = pd.read_csv('/Users/apx059/Documents/1_Yr_Data/Feb-March-2001/C1_2001-02-09 14:06:16.167000.csv')\n",
    "df_q['datetime'] = pd.to_datetime(df_q['datetime'],format='mixed')\n",
    "df_q = df_q.set_index('datetime')\n",
    "\n",
    "df_r = pd.read_csv('/Users/apx059/Documents/1_Yr_Data/Feb-March-2001/C2_2001-02-09 14:06:13.348000.csv')\n",
    "df_r['datetime'] = pd.to_datetime(df_r['datetime'],format='mixed')\n",
    "df_r = df_r.set_index('datetime')\n",
    "\n",
    "df_s = pd.read_csv('/Users/apx059/Documents/1_Yr_Data/Feb-March-2001/C3_2001-02-09 13:01:00.043000.csv')\n",
    "df_s['datetime'] = pd.to_datetime(df_s['datetime'],format='mixed')\n",
    "df_s = df_s.set_index('datetime')\n",
    "\n",
    "df_t = pd.read_csv('/Users/apx059/Documents/1_Yr_Data/Feb-March-2001/C4_2001-02-09 14:06:14.957000.csv')\n",
    "df_t['datetime'] = pd.to_datetime(df_t['datetime'],format='mixed')\n",
    "df_t = df_t.set_index('datetime')\n",
    "\n",
    "#mask to relevant 2 mins for each of those\n",
    "time_start_q = pd.to_datetime('2001-02-10 03:14:00')\n",
    "time_end_q = pd.to_datetime('2001-02-10 03:16:00')\n",
    "\n",
    "df_2mins_q = df_q.loc[((df_q.index >= time_start_q) & (df_q.index < time_end_q))]\n",
    "df_2mins_r = df_r.loc[((df_r.index >= time_start_q) & (df_r.index < time_end_q))]\n",
    "df_2mins_s = df_s.loc[((df_s.index >= time_start_q) & (df_s.index < time_end_q))]\n",
    "df_2mins_t = df_t.loc[((df_t.index >= time_start_q) & (df_t.index < time_end_q))]"
   ]
  },
  {
   "cell_type": "code",
   "execution_count": null,
   "id": "2443c2d4-c53d-4733-bc98-624291aa8b6b",
   "metadata": {
    "tags": []
   },
   "outputs": [],
   "source": [
    "df_q"
   ]
  },
  {
   "cell_type": "code",
   "execution_count": null,
   "id": "28303752-0acb-4cf4-aa9b-ee133091d8c1",
   "metadata": {
    "tags": []
   },
   "outputs": [],
   "source": [
    "Cluster_list_q = df_2mins_q['B_mag'].tolist()\n",
    "Cluster_mean_q = sum(Cluster_list_q)/len(Cluster_list_q)\n",
    "Cluster_OMNI_rat_q= Cluster_mean_q/5.766\n",
    "\n",
    "Cluster_list_r = df_2mins_r['B_mag'].tolist()\n",
    "Cluster_mean_r = sum(Cluster_list_r)/len(Cluster_list_r)\n",
    "Cluster_OMNI_rat_r = Cluster_mean_r/5.766\n",
    "\n",
    "Cluster_list_s = df_2mins_s['B_mag'].tolist()\n",
    "Cluster_mean_s = sum(Cluster_list_s)/len(Cluster_list_s)\n",
    "Cluster_OMNI_rat_s = Cluster_mean_s/5.766\n",
    "\n",
    "Cluster_list_t = df_2mins_t['B_mag'].tolist()\n",
    "Cluster_mean_t = sum(Cluster_list_t)/len(Cluster_list_t)\n",
    "Cluster_OMNI_rat_t = Cluster_mean_t/5.766\n",
    "\n",
    "print(Cluster_OMNI_rat_q, Cluster_OMNI_rat_r, Cluster_OMNI_rat_s, Cluster_OMNI_rat_t, 'actual Bc/Bo: 0.967887')\n",
    "#it's C2 (r)"
   ]
  },
  {
   "cell_type": "code",
   "execution_count": null,
   "id": "9dc43eb8-75e3-4825-8cbd-37a933835506",
   "metadata": {
    "tags": []
   },
   "outputs": [],
   "source": [
    "df_2mins_q"
   ]
  },
  {
   "cell_type": "code",
   "execution_count": null,
   "id": "e6373b7f-1f66-4eb5-980e-3eb6fe75d320",
   "metadata": {
    "tags": []
   },
   "outputs": [],
   "source": [
    "df_2mins_r"
   ]
  },
  {
   "cell_type": "code",
   "execution_count": null,
   "id": "be52b689-ba49-4665-8f0f-e037517ed660",
   "metadata": {
    "tags": []
   },
   "outputs": [],
   "source": [
    "#time series of 2 mins\n",
    "\n",
    "fig = plt.figure(figsize=(8, 6.5))\n",
    "\n",
    "fig.suptitle('Foreshock Window C2 2001-02-10 03:14:00')\n",
    "\n",
    "df_2mins_r['B_mag'].plot(color=\"black\")\n",
    "plt.legend()"
   ]
  },
  {
   "cell_type": "code",
   "execution_count": null,
   "id": "e66fb15b-f5c8-411f-bd5d-bd420e646dde",
   "metadata": {
    "tags": []
   },
   "outputs": [],
   "source": [
    "#FFT 2 mins\n",
    "x_2 = df_2mins_r['B_mag'].to_numpy()\n",
    "# sampling rate\n",
    "sr = 22\n",
    "\n",
    "X_2 = rfft(x_2)\n",
    "N_2 = len(X_2)\n",
    "n_2 = np.arange(N_2)\n",
    "T_2 = N_2/sr\n",
    "t_2 = df_2mins_r.index.to_numpy()\n",
    "freq_2 = n_2/T_2\n",
    "power_2 = np.abs(X_2)**2\n",
    "\n",
    "##and plot\n",
    "\n",
    "plt.figure(figsize = (9, 6))\n",
    "plt.subplot(111)\n",
    "\n",
    "plt.plot(freq_2, power_2, color=\"green\", label='B_mag')\n",
    "\n",
    "#plt.xlabel('Period (s)')\n",
    "plt.xscale('log')\n",
    "plt.yscale('log')\n",
    "plt.ylabel('FFT Power')\n",
    "plt.xlabel('Frequency, Hz')\n",
    "plt.xlim(0.01, 5)\n",
    "plt.ylim(0.1, 100_000_000)\n",
    "plt.legend()\n",
    "\n",
    "#plt.subplot(122)\n",
    "#plt.plot(t, ifft(X), 'k')\n",
    "#plt.xlabel('Time (s)')\n",
    "#plt.ylabel('Amplitude')\n",
    "#plt.tight_layout()\n",
    "plt.show()"
   ]
  },
  {
   "cell_type": "code",
   "execution_count": null,
   "id": "8b93608c-7c83-4003-a79e-4f7c7016c190",
   "metadata": {
    "tags": []
   },
   "outputs": [],
   "source": [
    "X_lb_5 = 12\n",
    "X_lim_5 = 13\n",
    "Y_lb_5 = -14\n",
    "Y_lim_5 = -13\n",
    "\n",
    "mask_11 = spir_df_XY.loc[(spir_df_XY['Cluster Loc GIPM X']>= X_lb_5) & (spir_df_XY['Cluster Loc GIPM X'] < X_lim_5)]\n",
    "mask_12 = mask_11.loc[(mask_11['Cluster Loc GIPM Y']>= Y_lb_5) & (mask_11['Cluster Loc GIPM Y'] < Y_lim_5)]"
   ]
  },
  {
   "cell_type": "code",
   "execution_count": null,
   "id": "4653f343-3a87-4990-bf28-63f3a9275ae3",
   "metadata": {
    "tags": []
   },
   "outputs": [],
   "source": [
    "mask_12"
   ]
  },
  {
   "cell_type": "code",
   "execution_count": null,
   "id": "9670ae4b-14ff-4389-a6cc-2c524ab34e09",
   "metadata": {
    "tags": []
   },
   "outputs": [],
   "source": [
    "#2002-01-21 13:50:00\n",
    "\n",
    "ts = pd.to_datetime('2002-01-21 13:50:00')\n",
    "omni_ave_all.loc[omni_ave_all['datetime']== ts]"
   ]
  },
  {
   "cell_type": "code",
   "execution_count": null,
   "id": "14e22140-b5e6-4991-84f4-ee12f8ddbb15",
   "metadata": {
    "tags": []
   },
   "outputs": [],
   "source": [
    "df_u = pd.read_csv('/Users/apx059/Documents/1_Yr_Data/52_Weeks_CSVs/Dec-Feb/2002-01-20 20:01:27.501000C1.csv')\n",
    "df_u['datetime'] = pd.to_datetime(df_u['datetime'],format='mixed')\n",
    "df_u = df_u.set_index('datetime')\n",
    "\n",
    "df_v = pd.read_csv('/Users/apx059/Documents/1_Yr_Data/52_Weeks_CSVs/Dec-Feb/2002-01-20 20:01:33.524000C2.csv')\n",
    "df_v['datetime'] = pd.to_datetime(df_v['datetime'],format='mixed')\n",
    "df_v = df_v.set_index('datetime')\n",
    "\n",
    "df_w = pd.read_csv('/Users/apx059/Documents/1_Yr_Data/52_Weeks_CSVs/Dec-Feb/2002-01-20 20:01:27.100000C3.csv')\n",
    "df_w['datetime'] = pd.to_datetime(df_w['datetime'],format='mixed')\n",
    "df_w = df_w.set_index('datetime')\n",
    "\n",
    "df_x = pd.read_csv('/Users/apx059/Documents/1_Yr_Data/52_Weeks_CSVs/Dec-Feb/2002-01-20 20:01:09.497000C4.csv')\n",
    "df_x['datetime'] = pd.to_datetime(df_x['datetime'],format='mixed')\n",
    "df_x = df_x.set_index('datetime')\n",
    "\n",
    "#mask to relevant 2 mins for each of those\n",
    "time_start_u = pd.to_datetime('2002-01-21 13:50:00')\n",
    "time_end_u = pd.to_datetime('2002-01-21 13:52:00')\n",
    "\n",
    "df_2mins_u = df_u.loc[((df_u.index >= time_start_u) & (df_u.index < time_end_u))]\n",
    "df_2mins_v = df_v.loc[((df_v.index >= time_start_u) & (df_v.index < time_end_u))]\n",
    "df_2mins_w = df_w.loc[((df_w.index >= time_start_u) & (df_w.index < time_end_u))]\n",
    "df_2mins_x = df_x.loc[((df_x.index >= time_start_u) & (df_x.index < time_end_u))]"
   ]
  },
  {
   "cell_type": "code",
   "execution_count": null,
   "id": "654d0b15-999f-4626-8ac2-e1ad14528ad5",
   "metadata": {
    "tags": []
   },
   "outputs": [],
   "source": [
    "df_2mins_v.describe()"
   ]
  },
  {
   "cell_type": "code",
   "execution_count": null,
   "id": "10de97c3-fb7d-490b-9f2f-d6bed08474fa",
   "metadata": {
    "tags": []
   },
   "outputs": [],
   "source": [
    "Cluster_list_v = df_2mins_v['B_mag'].tolist()\n",
    "Cluster_mean_v = sum(Cluster_list_v)/len(Cluster_list_v)\n",
    "Cluster_OMNI_rat_v = Cluster_mean_v/6.54\n",
    "\n",
    "print(Cluster_OMNI_rat_v,'actual Bc/Bo: 0.916976')\n",
    "#it's C2 (v)"
   ]
  },
  {
   "cell_type": "code",
   "execution_count": null,
   "id": "69a80895-606e-44e6-aba0-c88cff886d47",
   "metadata": {
    "tags": []
   },
   "outputs": [],
   "source": [
    "#time series of 2 mins\n",
    "\n",
    "fig = plt.figure(figsize=(8, 6.5))\n",
    "\n",
    "fig.suptitle('Foreshock Window C2 2002-01-21 13:50:00')\n",
    "\n",
    "df_2mins_v['B_mag'].plot(color=\"black\", label='mag')\n",
    "df_2mins_v['Bx_gse'].plot(color=\"green\", label='Bx')\n",
    "df_2mins_v['By_gse'].plot(color=\"blue\", label='By')\n",
    "df_2mins_v['Bz_gse'].plot(color=\"red\", label = 'Bz')\n",
    "plt.legend()"
   ]
  },
  {
   "cell_type": "code",
   "execution_count": null,
   "id": "6055a0e2-9526-4230-b422-a29f9cf972a0",
   "metadata": {
    "tags": []
   },
   "outputs": [],
   "source": [
    "#FFT 2 mins\n",
    "x_2a = df_2mins_v['B_mag'].to_numpy()\n",
    "x_2b = df_2mins_v['Bx_gse'].to_numpy()\n",
    "x_2c = df_2mins_v['By_gse'].to_numpy()\n",
    "x_2d = df_2mins_v['Bz_gse'].to_numpy()\n",
    "# sampling rate\n",
    "sr = 22\n",
    "\n",
    "X_2a = rfft(x_2a)\n",
    "N_2a = len(X_2a)\n",
    "n_2a = np.arange(N_2a)\n",
    "T_2a = N_2a/sr\n",
    "t_2a = df_2mins_u.index.to_numpy()\n",
    "freq_2a = n_2a/T_2a\n",
    "power_2a = np.abs(X_2a)**2\n",
    "\n",
    "\n",
    "X_2b = rfft(x_2b)\n",
    "N_2b = len(X_2b)\n",
    "n_2b = np.arange(N_2b)\n",
    "T_2b = N_2b/sr\n",
    "t_2b = df_2mins_u.index.to_numpy()\n",
    "freq_2b = n_2b/T_2b\n",
    "power_2b = np.abs(X_2b)**2\n",
    "\n",
    "\n",
    "X_2c = rfft(x_2c)\n",
    "N_2c = len(X_2c)\n",
    "n_2c = np.arange(N_2c)\n",
    "T_2c = N_2c/sr\n",
    "t_2c = df_2mins_u.index.to_numpy()\n",
    "freq_2c = n_2c/T_2c\n",
    "power_2c = np.abs(X_2c)**2\n",
    "\n",
    "\n",
    "X_2d = rfft(x_2d)\n",
    "N_2d = len(X_2d)\n",
    "n_2d = np.arange(N_2d)\n",
    "T_2d = N_2d/sr\n",
    "t_2d = df_2mins_u.index.to_numpy()\n",
    "freq_2d = n_2d/T_2d\n",
    "power_2d = np.abs(X_2d)**2\n",
    "##and plot\n",
    "\n",
    "plt.figure(figsize = (9, 6))\n",
    "plt.subplot(111)\n",
    "\n",
    "plt.plot(freq_2a, power_2a, color=\"black\", label='B_mag')\n",
    "plt.plot(freq_2b, power_2b, color=\"green\", label='B_x')\n",
    "plt.plot(freq_2c, power_2c, color=\"blue\", label='B_y')\n",
    "plt.plot(freq_2d, power_2d, color=\"red\", label='B_z')\n",
    "\n",
    "#plt.xlabel('Period (s)')\n",
    "plt.xscale('log')\n",
    "plt.yscale('log')\n",
    "plt.ylabel('FFT Power')\n",
    "plt.xlabel('Frequency, Hz')\n",
    "plt.xlim(0.01, 5)\n",
    "plt.ylim(0.1, 100_000_000)\n",
    "plt.title('2002-01-21 13:50:00 C2')\n",
    "plt.legend()\n",
    "\n",
    "#plt.subplot(122)\n",
    "#plt.plot(t, ifft(X), 'k')\n",
    "#plt.xlabel('Time (s)')\n",
    "#plt.ylabel('Amplitude')\n",
    "#plt.tight_layout()\n",
    "plt.show()"
   ]
  },
  {
   "cell_type": "code",
   "execution_count": null,
   "id": "1b5dc7bd-e891-4020-8621-3fc7ea2561fa",
   "metadata": {
    "tags": []
   },
   "outputs": [],
   "source": [
    "X_lb_6 = 11\n",
    "X_lim_6 = 12\n",
    "Y_lb_6 = -15\n",
    "Y_lim_6 = -14\n",
    "\n",
    "mask_13 = spir_df_XY.loc[(spir_df_XY['Cluster Loc GIPM X']>= X_lb_6) & (spir_df_XY['Cluster Loc GIPM X'] < X_lim_6)]\n",
    "mask_14 = mask_13.loc[(mask_13['Cluster Loc GIPM Y']>= Y_lb_6) & (mask_13['Cluster Loc GIPM Y'] < Y_lim_6)]"
   ]
  },
  {
   "cell_type": "code",
   "execution_count": null,
   "id": "eaa0eddc-66d2-470f-823c-dfc484dfa731",
   "metadata": {
    "tags": []
   },
   "outputs": [],
   "source": [
    "mask_14"
   ]
  },
  {
   "cell_type": "code",
   "execution_count": null,
   "id": "e67a4da0-dd67-4dd8-bbc7-a7fbbe1c7f09",
   "metadata": {
    "tags": []
   },
   "outputs": [],
   "source": [
    "#2001-03-31 20:22:00\n",
    "\n",
    "ts = pd.to_datetime('2001-03-31 20:22:00')\n",
    "omni_ave_all.loc[omni_ave_all['datetime']== ts]"
   ]
  },
  {
   "cell_type": "code",
   "execution_count": null,
   "id": "d1eabdaf-999c-4ceb-a48d-98444f39f393",
   "metadata": {
    "tags": []
   },
   "outputs": [],
   "source": [
    "df_aa = pd.read_csv('/Users/apx059/Documents/1_Yr_Data/52_Weeks_CSVs/March-April/2001-03-31 12:38:00.009000C3.csv')\n",
    "df_aa['datetime'] = pd.to_datetime(df_aa['datetime'],format='mixed')\n",
    "df_aa = df_aa.set_index('datetime')\n",
    "\n",
    "#mask to relevant 2 mins for each of those\n",
    "time_start_aa = pd.to_datetime('2001-03-31 20:22:00')\n",
    "time_end_aa = pd.to_datetime('2001-03-31 20:24:00')\n",
    "\n",
    "df_2mins_aa = df_aa.loc[((df_aa.index >= time_start_aa) & (df_aa.index < time_end_aa))]"
   ]
  },
  {
   "cell_type": "code",
   "execution_count": null,
   "id": "a863dc6b-332b-4788-9c62-a1dca3de7f1a",
   "metadata": {
    "tags": []
   },
   "outputs": [],
   "source": [
    "Cluster_list_aa = df_2mins_aa['B_mag'].tolist()\n",
    "Cluster_mean_aa = sum(Cluster_list_aa)/len(Cluster_list_aa)\n",
    "Cluster_OMNI_rat_aa = Cluster_mean_aa/23.214444\n",
    "\n",
    "print(Cluster_OMNI_rat_aa, 'actual Bc/Bo: 1.125503')\n",
    "#it's C3 (aa)"
   ]
  },
  {
   "cell_type": "code",
   "execution_count": null,
   "id": "6529111b-4ba3-407a-8da4-f9a71cd6c704",
   "metadata": {
    "tags": []
   },
   "outputs": [],
   "source": [
    "#time series of 2 mins\n",
    "\n",
    "fig = plt.figure(figsize=(8, 6.5))\n",
    "\n",
    "fig.suptitle('Foreshock Window C3 2001-03-31 20:22:00')\n",
    "\n",
    "df_2mins_aa['B_mag'].plot(color=\"black\", label='mag')\n",
    "df_2mins_aa['Bx_gse'].plot(color=\"green\", label='Bx')\n",
    "df_2mins_aa['By_gse'].plot(color=\"blue\", label='By')\n",
    "df_2mins_aa['Bz_gse'].plot(color=\"red\", label = 'Bz')\n",
    "plt.legend()"
   ]
  },
  {
   "cell_type": "code",
   "execution_count": null,
   "id": "6921a935-b44a-45cc-8640-03e3d1daef42",
   "metadata": {
    "tags": []
   },
   "outputs": [],
   "source": [
    "#time series of 2 mins\n",
    "\n",
    "fig = plt.figure(figsize=(8, 6.5))\n",
    "\n",
    "fig.suptitle('Foreshock Window C3 2001-03-31 20:22:00')\n",
    "\n",
    "df_2mins_aa['B_mag'].plot(color=\"black\", label='mag')\n",
    "df_2mins_aa['Bx_gse'].plot(color=\"green\", label='Bx')\n",
    "\n",
    "plt.legend()"
   ]
  },
  {
   "cell_type": "code",
   "execution_count": null,
   "id": "07ec1096-c11e-45d6-b460-f70b0ae7fbcd",
   "metadata": {
    "tags": []
   },
   "outputs": [],
   "source": [
    "#FFT 2 mins\n",
    "\n",
    "#FFT 2 mins\n",
    "x_2a = df_2mins_aa['B_mag'].to_numpy()\n",
    "x_2b = df_2mins_aa['Bx_gse'].to_numpy()\n",
    "x_2c = df_2mins_aa['By_gse'].to_numpy()\n",
    "x_2d = df_2mins_aa['Bz_gse'].to_numpy()\n",
    "# sampling rate\n",
    "sr = 22\n",
    "\n",
    "X_2a = rfft(x_2a)\n",
    "N_2a = len(X_2a)\n",
    "n_2a = np.arange(N_2a)\n",
    "T_2a = N_2a/sr\n",
    "t_2a = df_2mins_u.index.to_numpy()\n",
    "freq_2a = n_2a/T_2a\n",
    "power_2a = np.abs(X_2a)**2\n",
    "\n",
    "\n",
    "X_2b = rfft(x_2b)\n",
    "N_2b = len(X_2b)\n",
    "n_2b = np.arange(N_2b)\n",
    "T_2b = N_2b/sr\n",
    "t_2b = df_2mins_u.index.to_numpy()\n",
    "freq_2b = n_2b/T_2b\n",
    "power_2b = np.abs(X_2b)**2\n",
    "\n",
    "\n",
    "X_2c = rfft(x_2c)\n",
    "N_2c = len(X_2c)\n",
    "n_2c = np.arange(N_2c)\n",
    "T_2c = N_2c/sr\n",
    "t_2c = df_2mins_u.index.to_numpy()\n",
    "freq_2c = n_2c/T_2c\n",
    "power_2c = np.abs(X_2c)**2\n",
    "\n",
    "\n",
    "X_2d = rfft(x_2d)\n",
    "N_2d = len(X_2d)\n",
    "n_2d = np.arange(N_2d)\n",
    "T_2d = N_2d/sr\n",
    "t_2d = df_2mins_u.index.to_numpy()\n",
    "freq_2d = n_2d/T_2d\n",
    "power_2d = np.abs(X_2d)**2\n",
    "##and plot\n",
    "\n",
    "plt.figure(figsize = (9, 6))\n",
    "plt.subplot(111)\n",
    "\n",
    "plt.plot(freq_2a, power_2a, color=\"black\", label='B_mag')\n",
    "plt.plot(freq_2b, power_2b, color=\"green\", label='B_x')\n",
    "plt.plot(freq_2c, power_2c, color=\"blue\", label='B_y')\n",
    "plt.plot(freq_2d, power_2d, color=\"red\", label='B_z')\n",
    "\n",
    "#plt.xlabel('Period (s)')\n",
    "plt.xscale('log')\n",
    "plt.yscale('log')\n",
    "plt.ylabel('FFT Power')\n",
    "plt.xlabel('Frequency, Hz')\n",
    "plt.xlim(0.01, 5)\n",
    "plt.ylim(0.1, 100_000_000)\n",
    "plt.title('2001-03-31 20:22-20:24 C3')\n",
    "plt.legend()\n",
    "\n",
    "#plt.subplot(122)\n",
    "#plt.plot(t, ifft(X), 'k')\n",
    "#plt.xlabel('Time (s)')\n",
    "#plt.ylabel('Amplitude')\n",
    "#plt.tight_layout()\n",
    "plt.show()"
   ]
  },
  {
   "cell_type": "code",
   "execution_count": null,
   "id": "44b33294-1b36-44ca-9af9-2b6e76f7a8cc",
   "metadata": {
    "tags": []
   },
   "outputs": [],
   "source": [
    "##now move to ANOTHER box\n",
    "\n",
    "X_lb_7 = 10\n",
    "X_lim_7 = 11\n",
    "Y_lb_7 = -15\n",
    "Y_lim_7 = -14\n",
    "\n",
    "mask_15 = spir_df_XY.loc[(spir_df_XY['Cluster Loc GIPM X']>= X_lb_7) & (spir_df_XY['Cluster Loc GIPM X'] < X_lim_7)]\n",
    "mask_16 = mask_15.loc[(mask_15['Cluster Loc GIPM Y']>= Y_lb_7) & (mask_15['Cluster Loc GIPM Y'] < Y_lim_7)]"
   ]
  },
  {
   "cell_type": "code",
   "execution_count": null,
   "id": "23ab4ebe-b21d-4115-90d1-9bdc5bcf45f7",
   "metadata": {
    "tags": []
   },
   "outputs": [],
   "source": [
    "mask_16"
   ]
  },
  {
   "cell_type": "code",
   "execution_count": null,
   "id": "d2ab3520-c33a-4fdd-9a50-18b52317bdbe",
   "metadata": {
    "tags": []
   },
   "outputs": [],
   "source": [
    "ts = pd.to_datetime('2001-03-31 19:54:00')\n",
    "omni_ave_all.loc[omni_ave_all['datetime']== ts]"
   ]
  },
  {
   "cell_type": "code",
   "execution_count": null,
   "id": "fa3a33d1-e1d8-470c-9ac0-003634db2d76",
   "metadata": {
    "tags": []
   },
   "outputs": [],
   "source": [
    "#mask to relevant 2 mins for each of those\n",
    "time_start_ac = pd.to_datetime('2001-03-31 19:54:00')\n",
    "time_end_ac = pd.to_datetime('2001-03-31 19:56:00')\n",
    "\n",
    "df_2mins_ac = df_y.loc[((df_y.index >= time_start_ac) & (df_y.index < time_end_ac))]\n",
    "df_2mins_ad = df_z.loc[((df_z.index >= time_start_ac) & (df_z.index < time_end_ac))]\n",
    "df_2mins_ae = df_aa.loc[((df_aa.index >= time_start_ac) & (df_aa.index < time_end_ac))]\n",
    "df_2mins_af = df_ab.loc[((df_ab.index >= time_start_ac) & (df_ab.index < time_end_ac))]"
   ]
  },
  {
   "cell_type": "code",
   "execution_count": null,
   "id": "5c6002ad-29c2-4df7-ba66-08a4f1665aaf",
   "metadata": {
    "tags": []
   },
   "outputs": [],
   "source": [
    "Cluster_list_ac = df_2mins_ac['B_mag'].tolist()\n",
    "Cluster_mean_ac = sum(Cluster_list_ac)/len(Cluster_list_ac)\n",
    "Cluster_OMNI_rat_ac = Cluster_mean_ac/30.048889\n",
    "\n",
    "Cluster_list_ad = df_2mins_ad['B_mag'].tolist()\n",
    "Cluster_mean_ad = sum(Cluster_list_ad)/len(Cluster_list_ad)\n",
    "Cluster_OMNI_rat_ad = Cluster_mean_ad/30.048889\n",
    "\n",
    "Cluster_list_ae = df_2mins_ae['B_mag'].tolist()\n",
    "Cluster_mean_ae = sum(Cluster_list_ae)/len(Cluster_list_ae)\n",
    "Cluster_OMNI_rat_ae = Cluster_mean_ae/30.048889\n",
    "\n",
    "Cluster_list_af = df_2mins_af['B_mag'].tolist()\n",
    "Cluster_mean_af = sum(Cluster_list_af)/len(Cluster_list_af)\n",
    "Cluster_OMNI_rat_af = Cluster_mean_af/30.048889\n",
    "\n",
    "print(Cluster_OMNI_rat_ac, Cluster_OMNI_rat_ad, Cluster_OMNI_rat_ae, Cluster_OMNI_rat_af, 'actual Bc/Bo: 0.944076')\n",
    "#it's C1 (ac)"
   ]
  },
  {
   "cell_type": "code",
   "execution_count": null,
   "id": "4840251b-c942-4a06-9016-a3f1881e3902",
   "metadata": {
    "tags": []
   },
   "outputs": [],
   "source": [
    "#time series of 2 mins\n",
    "\n",
    "fig = plt.figure(figsize=(8, 6.5))\n",
    "\n",
    "fig.suptitle('Foreshock Window C1 2001-03-31 19:54:00')\n",
    "\n",
    "df_2mins_ac['B_mag'].plot(color=\"black\", label='mag')\n",
    "df_2mins_ac['Bx_gse'].plot(color=\"green\", label='Bx')\n",
    "df_2mins_ac['By_gse'].plot(color=\"blue\", label='By')\n",
    "df_2mins_ac['Bz_gse'].plot(color=\"red\", label = 'Bz')\n",
    "plt.legend()"
   ]
  },
  {
   "cell_type": "code",
   "execution_count": null,
   "id": "c4befe32-88c6-4961-9304-1c999bfab5cf",
   "metadata": {
    "tags": []
   },
   "outputs": [],
   "source": [
    "fig = plt.figure(figsize=(8, 6.5))\n",
    "\n",
    "fig.suptitle('Foreshock Window C1 2001-03-31 19:54:00')\n",
    "\n",
    "#df_2mins_ac['B_mag'].plot(color=\"black\", label='mag')\n",
    "#df_2mins_ac['Bx_gse'].plot(color=\"green\", label='Bx')\n",
    "#df_2mins_ac['By_gse'].plot(color=\"blue\", label='By')\n",
    "df_2mins_ac['Bz_gse'].plot(color=\"red\", label = 'Bz')\n",
    "plt.legend()"
   ]
  },
  {
   "cell_type": "code",
   "execution_count": null,
   "id": "7d640a7f-9c07-4d58-95b0-2aeea20174dd",
   "metadata": {
    "tags": []
   },
   "outputs": [],
   "source": [
    "#FFT 2 mins\n",
    "\n",
    "#FFT 2 mins\n",
    "x_2a = df_2mins_ac['B_mag'].to_numpy()\n",
    "x_2b = df_2mins_ac['Bx_gse'].to_numpy()\n",
    "x_2c = df_2mins_ac['By_gse'].to_numpy()\n",
    "x_2d = df_2mins_ac['Bz_gse'].to_numpy()\n",
    "# sampling rate\n",
    "sr = 22\n",
    "\n",
    "X_2a = rfft(x_2a)\n",
    "N_2a = len(X_2a)\n",
    "n_2a = np.arange(N_2a)\n",
    "T_2a = N_2a/sr\n",
    "t_2a = df_2mins_u.index.to_numpy()\n",
    "freq_2a = n_2a/T_2a\n",
    "power_2a = np.abs(X_2a)**2\n",
    "\n",
    "\n",
    "X_2b = rfft(x_2b)\n",
    "N_2b = len(X_2b)\n",
    "n_2b = np.arange(N_2b)\n",
    "T_2b = N_2b/sr\n",
    "t_2b = df_2mins_u.index.to_numpy()\n",
    "freq_2b = n_2b/T_2b\n",
    "power_2b = np.abs(X_2b)**2\n",
    "\n",
    "\n",
    "X_2c = rfft(x_2c)\n",
    "N_2c = len(X_2c)\n",
    "n_2c = np.arange(N_2c)\n",
    "T_2c = N_2c/sr\n",
    "t_2c = df_2mins_u.index.to_numpy()\n",
    "freq_2c = n_2c/T_2c\n",
    "power_2c = np.abs(X_2c)**2\n",
    "\n",
    "\n",
    "X_2d = rfft(x_2d)\n",
    "N_2d = len(X_2d)\n",
    "n_2d = np.arange(N_2d)\n",
    "T_2d = N_2d/sr\n",
    "t_2d = df_2mins_u.index.to_numpy()\n",
    "freq_2d = n_2d/T_2d\n",
    "power_2d = np.abs(X_2d)**2\n",
    "##and plot\n",
    "\n",
    "plt.figure(figsize = (9, 6))\n",
    "plt.subplot(111)\n",
    "\n",
    "plt.plot(freq_2a, power_2a, color=\"black\", label='B_mag')\n",
    "plt.plot(freq_2b, power_2b, color=\"green\", label='B_x')\n",
    "plt.plot(freq_2c, power_2c, color=\"blue\", label='B_y')\n",
    "plt.plot(freq_2d, power_2d, color=\"red\", label='B_z')\n",
    "\n",
    "#plt.xlabel('Period (s)')\n",
    "plt.xscale('log')\n",
    "plt.yscale('log')\n",
    "plt.ylabel('FFT Power')\n",
    "plt.xlabel('Frequency, Hz')\n",
    "plt.xlim(0.01, 5)\n",
    "plt.ylim(0.1, 100_000_000)\n",
    "plt.legend()\n",
    "\n",
    "#plt.subplot(122)\n",
    "#plt.plot(t, ifft(X), 'k')\n",
    "#plt.xlabel('Time (s)')\n",
    "#plt.ylabel('Amplitude')\n",
    "#plt.tight_layout()\n",
    "plt.show()"
   ]
  },
  {
   "cell_type": "code",
   "execution_count": null,
   "id": "e3c1e115-f2a3-48d0-a716-90a7714dc888",
   "metadata": {
    "tags": []
   },
   "outputs": [],
   "source": [
    "##now move to ANOTHER box\n",
    "\n",
    "X_lb_8 = 8\n",
    "Y_lim_8 = -16\n",
    "\n",
    "mask_17 = spir_df_XY.loc[(spir_df_XY['Cluster Loc GIPM X']>= X_lb_8)]\n",
    "mask_18 = mask_17.loc[(mask_17['Cluster Loc GIPM Y']< Y_lim_8)]"
   ]
  },
  {
   "cell_type": "code",
   "execution_count": null,
   "id": "44ee8039-de10-4509-b11f-4574e083058d",
   "metadata": {
    "tags": []
   },
   "outputs": [],
   "source": [
    "mask_18"
   ]
  },
  {
   "cell_type": "code",
   "execution_count": null,
   "id": "28bf503f-27f5-45aa-902d-f6c62f8dce4a",
   "metadata": {
    "tags": []
   },
   "outputs": [],
   "source": [
    "ts = pd.to_datetime('2002-01-02 12:46:00')\n",
    "omni_ave_all.loc[omni_ave_all['datetime']== ts]"
   ]
  },
  {
   "cell_type": "code",
   "execution_count": null,
   "id": "df821068-0ea9-4fbc-acf4-e8914ab53c1b",
   "metadata": {
    "tags": []
   },
   "outputs": [],
   "source": [
    "df_zz = pd.read_csv('/Users/apx059/Documents/1_Yr_Data/52_Weeks_CSVs/Dec-Feb/2002-01-01 16:12:00.009000C1.csv')\n",
    "df_zz['datetime'] = pd.to_datetime(df_zz['datetime'],format='mixed')\n",
    "df_zz = df_zz.set_index('datetime')\n",
    "\n",
    "df_za = pd.read_csv('/Users/apx059/Documents/1_Yr_Data/52_Weeks_CSVs/Dec-Feb/2002-01-01 15:51:00.016000C2.csv')\n",
    "df_za['datetime'] = pd.to_datetime(df_za['datetime'],format='mixed')\n",
    "df_za = df_za.set_index('datetime')\n",
    "\n",
    "df_zy = pd.read_csv('/Users/apx059/Documents/1_Yr_Data/52_Weeks_CSVs/Dec-Feb/2002-01-01 16:17:00.020000C3.csv')\n",
    "df_zy['datetime'] = pd.to_datetime(df_zy['datetime'],format='mixed')\n",
    "df_zy = df_zy.set_index('datetime')\n",
    "\n",
    "df_zx = pd.read_csv('/Users/apx059/Documents/1_Yr_Data/52_Weeks_CSVs/Dec-Feb/2002-01-01 15:43:00.021000C4.csv')\n",
    "df_zx['datetime'] = pd.to_datetime(df_zx['datetime'],format='mixed')\n",
    "df_zx = df_zx.set_index('datetime')\n",
    "\n",
    "#mask to relevant 2 mins for each of those\n",
    "time_start_zz = pd.to_datetime('2002-01-02 12:46:00')\n",
    "time_end_zz = pd.to_datetime('2002-01-02 12:48:00')\n",
    "\n",
    "df_2mins_zz = df_zz.loc[((df_zz.index >= time_start_zz) & (df_zz.index < time_end_zz))]\n",
    "df_2mins_za = df_za.loc[((df_za.index >= time_start_zz) & (df_za.index < time_end_zz))]\n",
    "df_2mins_zy = df_zy.loc[((df_zy.index >= time_start_zz) & (df_zy.index < time_end_zz))]\n",
    "df_2mins_zx = df_zx.loc[((df_zx.index >= time_start_zz) & (df_zx.index < time_end_zz))]"
   ]
  },
  {
   "cell_type": "code",
   "execution_count": null,
   "id": "2b20ffba-8ca1-4acf-aed9-995991e215ae",
   "metadata": {
    "tags": []
   },
   "outputs": [],
   "source": [
    "Cluster_list_zz = df_2mins_zz['B_mag'].tolist()\n",
    "Cluster_mean_zz = sum(Cluster_list_zz)/len(Cluster_list_zz)\n",
    "Cluster_OMNI_rat_zz = Cluster_mean_zz/6.77\n",
    "\n",
    "Cluster_list_za = df_2mins_za['B_mag'].tolist()\n",
    "Cluster_mean_za = sum(Cluster_list_za)/len(Cluster_list_za)\n",
    "Cluster_OMNI_rat_za = Cluster_mean_za/6.77\n",
    "\n",
    "Cluster_list_zy = df_2mins_zy['B_mag'].tolist()\n",
    "Cluster_mean_zy = sum(Cluster_list_zy)/len(Cluster_list_zy)\n",
    "Cluster_OMNI_rat_zy = Cluster_mean_zy/6.77\n",
    "\n",
    "Cluster_list_zx = df_2mins_zx['B_mag'].tolist()\n",
    "Cluster_mean_zx = sum(Cluster_list_zx)/len(Cluster_list_zx)\n",
    "Cluster_OMNI_rat_zx = Cluster_mean_zx/6.77\n",
    "\n",
    "print(Cluster_OMNI_rat_zz, Cluster_OMNI_rat_za, Cluster_OMNI_rat_zy, Cluster_OMNI_rat_zx, 'actual Bc/Bo: 2.180067')\n",
    "#it's C1 (zz)"
   ]
  },
  {
   "cell_type": "code",
   "execution_count": null,
   "id": "1c1ff413-0c4c-423c-af9f-69a3157d0dd4",
   "metadata": {
    "tags": []
   },
   "outputs": [],
   "source": [
    "#time series of 2 mins\n",
    "\n",
    "fig = plt.figure(figsize=(8, 6.5))\n",
    "\n",
    "fig.suptitle('Foreshock Window C1 2002-01-02 12:46:00')\n",
    "\n",
    "df_2mins_zz['B_mag'].plot(color=\"black\", label='mag')\n",
    "df_2mins_zz['Bx_gse'].plot(color=\"green\", label='Bx')\n",
    "df_2mins_zz['By_gse'].plot(color=\"blue\", label='By')\n",
    "df_2mins_zz['Bz_gse'].plot(color=\"red\", label = 'Bz')\n",
    "plt.legend()"
   ]
  },
  {
   "cell_type": "code",
   "execution_count": null,
   "id": "c6817090-f6f3-43f7-9259-b7d4fee7ca35",
   "metadata": {
    "tags": []
   },
   "outputs": [],
   "source": [
    "df_2mins_zz.describe()"
   ]
  },
  {
   "cell_type": "code",
   "execution_count": null,
   "id": "b8ac5af6-375e-4945-b33b-441857de1a04",
   "metadata": {
    "tags": []
   },
   "outputs": [],
   "source": [
    "#FFT 2 mins\n",
    "\n",
    "#FFT 2 mins\n",
    "x_2a = df_2mins_zz['B_mag'].to_numpy()\n",
    "x_2b = df_2mins_zz['Bx_gse'].to_numpy()\n",
    "x_2c = df_2mins_zz['By_gse'].to_numpy()\n",
    "x_2d = df_2mins_zz['Bz_gse'].to_numpy()\n",
    "# sampling rate\n",
    "sr = 22\n",
    "\n",
    "X_2a = rfft(x_2a)\n",
    "N_2a = len(X_2a)\n",
    "n_2a = np.arange(N_2a)\n",
    "T_2a = N_2a/sr\n",
    "t_2a = df_2mins_u.index.to_numpy()\n",
    "freq_2a = n_2a/T_2a\n",
    "power_2a = np.abs(X_2a)**2\n",
    "\n",
    "\n",
    "X_2b = rfft(x_2b)\n",
    "N_2b = len(X_2b)\n",
    "n_2b = np.arange(N_2b)\n",
    "T_2b = N_2b/sr\n",
    "t_2b = df_2mins_u.index.to_numpy()\n",
    "freq_2b = n_2b/T_2b\n",
    "power_2b = np.abs(X_2b)**2\n",
    "\n",
    "\n",
    "X_2c = rfft(x_2c)\n",
    "N_2c = len(X_2c)\n",
    "n_2c = np.arange(N_2c)\n",
    "T_2c = N_2c/sr\n",
    "t_2c = df_2mins_u.index.to_numpy()\n",
    "freq_2c = n_2c/T_2c\n",
    "power_2c = np.abs(X_2c)**2\n",
    "\n",
    "\n",
    "X_2d = rfft(x_2d)\n",
    "N_2d = len(X_2d)\n",
    "n_2d = np.arange(N_2d)\n",
    "T_2d = N_2d/sr\n",
    "t_2d = df_2mins_u.index.to_numpy()\n",
    "freq_2d = n_2d/T_2d\n",
    "power_2d = np.abs(X_2d)**2\n",
    "##and plot\n",
    "\n",
    "plt.figure(figsize = (9, 6))\n",
    "plt.subplot(111)\n",
    "plt.title('Foreshock Window C1 2002-01-02 12:46:00')\n",
    "plt.plot(freq_2a, power_2a, color=\"black\", label='B_mag')\n",
    "plt.plot(freq_2b, power_2b, color=\"green\", label='B_x')\n",
    "plt.plot(freq_2c, power_2c, color=\"blue\", label='B_y')\n",
    "plt.plot(freq_2d, power_2d, color=\"red\", label='B_z')\n",
    "\n",
    "#plt.xlabel('Period (s)')\n",
    "plt.xscale('log')\n",
    "plt.yscale('log')\n",
    "plt.ylabel('FFT Power')\n",
    "plt.xlabel('Frequency, Hz')\n",
    "plt.xlim(0.01, 5)\n",
    "plt.ylim(0.1, 100_000_000)\n",
    "plt.legend()\n",
    "\n",
    "#plt.subplot(122)\n",
    "#plt.plot(t, ifft(X), 'k')\n",
    "#plt.xlabel('Time (s)')\n",
    "#plt.ylabel('Amplitude')\n",
    "#plt.tight_layout()\n",
    "plt.show()"
   ]
  },
  {
   "cell_type": "code",
   "execution_count": null,
   "id": "359abf91-5f2c-44ec-9768-ae9a7b890399",
   "metadata": {
    "tags": []
   },
   "outputs": [],
   "source": [
    "X_lb_11 = 11\n",
    "X_lim_11 = 12\n",
    "Y_lb_11 = 13\n",
    "Y_lim_11 = 14\n",
    "\n",
    "mask_19 = spir_df_XY.loc[(spir_df_XY['Cluster Loc GIPM X']>= X_lb_11) & (spir_df_XY['Cluster Loc GIPM X'] < X_lim_11)]\n",
    "mask_20 = mask_19.loc[(mask_19['Cluster Loc GIPM Y']>= Y_lb_11) & (mask_19['Cluster Loc GIPM Y'] < Y_lim_11)]"
   ]
  },
  {
   "cell_type": "code",
   "execution_count": null,
   "id": "f9e53250-38fa-4bb4-a3c4-5d868ecc78da",
   "metadata": {
    "tags": []
   },
   "outputs": [],
   "source": [
    "mask_20"
   ]
  },
  {
   "cell_type": "code",
   "execution_count": null,
   "id": "802c300c-2d75-42b4-9721-e9ff4fd18936",
   "metadata": {
    "tags": []
   },
   "outputs": [],
   "source": [
    "ts = pd.to_datetime('2002-01-07 13:37:00')\n",
    "omni_ave_all.loc[omni_ave_all['datetime']== ts]"
   ]
  },
  {
   "cell_type": "code",
   "execution_count": null,
   "id": "9956cc33-5417-48d6-8a99-9cb1abeaebd7",
   "metadata": {},
   "outputs": [],
   "source": [
    "#2002-01-07 13:37:00 #no CIS quicklooks for this day "
   ]
  },
  {
   "cell_type": "code",
   "execution_count": null,
   "id": "c16af0cc-082d-469d-b19f-0f51c094c55e",
   "metadata": {
    "tags": []
   },
   "outputs": [],
   "source": [
    "X_lb_12 = 9\n",
    "X_lim_12 = 10\n",
    "Y_lb_12 = 14\n",
    "Y_lim_12 = 15\n",
    "\n",
    "mask_21 = spir_df_XY.loc[(spir_df_XY['Cluster Loc GIPM X']>= X_lb_12) & (spir_df_XY['Cluster Loc GIPM X'] < X_lim_12)]\n",
    "mask_22 = mask_21.loc[(mask_21['Cluster Loc GIPM Y']>= Y_lb_12) & (mask_21['Cluster Loc GIPM Y'] < Y_lim_12)]"
   ]
  },
  {
   "cell_type": "code",
   "execution_count": null,
   "id": "54ba5ad4-55af-4e3b-add4-4decf3aa671c",
   "metadata": {
    "tags": []
   },
   "outputs": [],
   "source": [
    "mask_22"
   ]
  },
  {
   "cell_type": "code",
   "execution_count": null,
   "id": "9741e52c-7451-48e7-a1a7-8652d082448c",
   "metadata": {
    "tags": []
   },
   "outputs": [],
   "source": [
    "ts = pd.to_datetime('2001-12-24 11:20:00')\n",
    "omni_ave_all.loc[omni_ave_all['datetime']== ts]"
   ]
  },
  {
   "cell_type": "code",
   "execution_count": null,
   "id": "1946e39f-80bc-476a-a0a3-10ecc001fb65",
   "metadata": {
    "tags": []
   },
   "outputs": [],
   "source": [
    "#2001-12-24 11:20:00\n",
    "df_yz = pd.read_csv('/Users/apx059/Documents/1_Yr_Data/52_Weeks_CSVs/Dec-Feb/2001-12-24 10:25:55.290000C1.csv')\n",
    "df_yz['datetime'] = pd.to_datetime(df_yz['datetime'],format='mixed')\n",
    "df_yz = df_yz.set_index('datetime')\n",
    "\n",
    "df_ya = pd.read_csv('/Users/apx059/Documents/1_Yr_Data/52_Weeks_CSVs/Dec-Feb/2001-12-24 10:25:56.985000C2.csv')\n",
    "df_ya['datetime'] = pd.to_datetime(df_ya['datetime'],format='mixed')\n",
    "df_ya = df_ya.set_index('datetime')\n",
    "\n",
    "df_yy = pd.read_csv('/Users/apx059/Documents/1_Yr_Data/52_Weeks_CSVs/Dec-Feb/2001-12-24 10:26:00.169000C3.csv')\n",
    "df_yy['datetime'] = pd.to_datetime(df_yy['datetime'],format='mixed')\n",
    "df_yy = df_yy.set_index('datetime')\n",
    "\n",
    "df_yx = pd.read_csv('/Users/apx059/Documents/1_Yr_Data/52_Weeks_CSVs/Dec-Feb/2001-12-24 10:25:57.810000C4.csv')\n",
    "df_yx['datetime'] = pd.to_datetime(df_yx['datetime'],format='mixed')\n",
    "df_yx = df_yx.set_index('datetime')\n",
    "\n",
    "#mask to relevant 2 mins for each of those\n",
    "time_start_yz = pd.to_datetime('2001-12-24 11:20:00')\n",
    "time_end_yz = pd.to_datetime('2001-12-24 11:22:00')\n",
    "\n",
    "df_2mins_yz = df_yz.loc[((df_yz.index >= time_start_yz) & (df_yz.index < time_end_yz))]\n",
    "df_2mins_ya = df_ya.loc[((df_ya.index >= time_start_yz) & (df_ya.index < time_end_yz))]\n",
    "df_2mins_yy = df_yy.loc[((df_yy.index >= time_start_yz) & (df_yy.index < time_end_yz))]\n",
    "df_2mins_yx = df_yx.loc[((df_yx.index >= time_start_yz) & (df_yx.index < time_end_yz))]"
   ]
  },
  {
   "cell_type": "code",
   "execution_count": null,
   "id": "fb3e9260-7c89-4e0f-98b5-1ed6ebafa639",
   "metadata": {
    "tags": []
   },
   "outputs": [],
   "source": [
    "Cluster_list_ya = df_2mins_ya['B_mag'].tolist()\n",
    "Cluster_mean_ya = sum(Cluster_list_ya)/len(Cluster_list_ya)\n",
    "Cluster_OMNI_rat_ya = Cluster_mean_ya/5.97125\n",
    "\n",
    "print(Cluster_OMNI_rat_ya, 'actual Bc/Bo: 0.990020')\n",
    "#it's C2 (ya)"
   ]
  },
  {
   "cell_type": "code",
   "execution_count": null,
   "id": "b92f8767-a7ec-4221-bc93-35719ff144bc",
   "metadata": {
    "tags": []
   },
   "outputs": [],
   "source": [
    "df_2mins_ya.describe()"
   ]
  },
  {
   "cell_type": "code",
   "execution_count": null,
   "id": "2b283355-be9b-4d36-b991-0f9bb887e2a1",
   "metadata": {
    "tags": []
   },
   "outputs": [],
   "source": [
    "#FFT 2 mins\n",
    "\n",
    "#FFT 2 mins\n",
    "x_2a = df_2mins_ya['B_mag'].to_numpy()\n",
    "x_2b = df_2mins_ya['Bx_gse'].to_numpy()\n",
    "x_2c = df_2mins_ya['By_gse'].to_numpy()\n",
    "x_2d = df_2mins_ya['Bz_gse'].to_numpy()\n",
    "# sampling rate\n",
    "sr = 22\n",
    "\n",
    "X_2a = rfft(x_2a)\n",
    "N_2a = len(X_2a)\n",
    "n_2a = np.arange(N_2a)\n",
    "T_2a = N_2a/sr\n",
    "t_2a = df_2mins_u.index.to_numpy()\n",
    "freq_2a = n_2a/T_2a\n",
    "power_2a = np.abs(X_2a)**2\n",
    "\n",
    "\n",
    "X_2b = rfft(x_2b)\n",
    "N_2b = len(X_2b)\n",
    "n_2b = np.arange(N_2b)\n",
    "T_2b = N_2b/sr\n",
    "t_2b = df_2mins_u.index.to_numpy()\n",
    "freq_2b = n_2b/T_2b\n",
    "power_2b = np.abs(X_2b)**2\n",
    "\n",
    "\n",
    "X_2c = rfft(x_2c)\n",
    "N_2c = len(X_2c)\n",
    "n_2c = np.arange(N_2c)\n",
    "T_2c = N_2c/sr\n",
    "t_2c = df_2mins_u.index.to_numpy()\n",
    "freq_2c = n_2c/T_2c\n",
    "power_2c = np.abs(X_2c)**2\n",
    "\n",
    "\n",
    "X_2d = rfft(x_2d)\n",
    "N_2d = len(X_2d)\n",
    "n_2d = np.arange(N_2d)\n",
    "T_2d = N_2d/sr\n",
    "t_2d = df_2mins_u.index.to_numpy()\n",
    "freq_2d = n_2d/T_2d\n",
    "power_2d = np.abs(X_2d)**2\n",
    "##and plot\n",
    "\n",
    "plt.figure(figsize = (9, 6))\n",
    "plt.subplot(111)\n",
    "plt.title('Foreshock Window C1 2002-01-02 12:46:00')\n",
    "plt.plot(freq_2a, power_2a, color=\"black\", label='B_mag')\n",
    "plt.plot(freq_2b, power_2b, color=\"green\", label='B_x')\n",
    "plt.plot(freq_2c, power_2c, color=\"blue\", label='B_y')\n",
    "plt.plot(freq_2d, power_2d, color=\"red\", label='B_z')\n",
    "plt.title('2001-12-24 11:20:00 C2')\n",
    "#plt.xlabel('Period (s)')\n",
    "plt.xscale('log')\n",
    "plt.yscale('log')\n",
    "plt.ylabel('FFT Power')\n",
    "plt.xlabel('Frequency, Hz')\n",
    "plt.xlim(0.01, 5)\n",
    "plt.ylim(0.1, 100_000_000)\n",
    "plt.legend()\n",
    "\n",
    "#plt.subplot(122)\n",
    "#plt.plot(t, ifft(X), 'k')\n",
    "#plt.xlabel('Time (s)')\n",
    "#plt.ylabel('Amplitude')\n",
    "#plt.tight_layout()\n",
    "plt.show()"
   ]
  },
  {
   "cell_type": "code",
   "execution_count": 10,
   "id": "b7e46705-1a51-44dd-b3f6-2dea31b1980a",
   "metadata": {},
   "outputs": [],
   "source": [
    "X_lb_13 = 13\n",
    "X_lim_13 = 14\n",
    "Y_lb_13 = 7\n",
    "Y_lim_13 = 8\n",
    "mask_23 = spir_df_XY.loc[(spir_df_XY['Cluster Loc GIPM X']>= X_lb_13) & (spir_df_XY['Cluster Loc GIPM X'] < X_lim_13)]\n",
    "mask_24 = mask_23.loc[(mask_23['Cluster Loc GIPM Y']>= Y_lb_13) & (mask_23['Cluster Loc GIPM Y'] < Y_lim_13)]"
   ]
  },
  {
   "cell_type": "code",
   "execution_count": 11,
   "id": "be2c74f9-ff2a-44f4-bcb4-f5abdd99e136",
   "metadata": {
    "tags": []
   },
   "outputs": [
    {
     "data": {
      "text/html": [
       "<div>\n",
       "<style scoped>\n",
       "    .dataframe tbody tr th:only-of-type {\n",
       "        vertical-align: middle;\n",
       "    }\n",
       "\n",
       "    .dataframe tbody tr th {\n",
       "        vertical-align: top;\n",
       "    }\n",
       "\n",
       "    .dataframe thead th {\n",
       "        text-align: right;\n",
       "    }\n",
       "</style>\n",
       "<table border=\"1\" class=\"dataframe\">\n",
       "  <thead>\n",
       "    <tr style=\"text-align: right;\">\n",
       "      <th></th>\n",
       "      <th>Unnamed: 0</th>\n",
       "      <th>Cluster Loc GIPM X</th>\n",
       "      <th>Cluster Loc GIPM Y</th>\n",
       "      <th>Cluster Loc GIPM Z</th>\n",
       "      <th>Bc_Bo Min</th>\n",
       "      <th>Bc_Bo Mean</th>\n",
       "      <th>Bc_Bo Max</th>\n",
       "    </tr>\n",
       "    <tr>\n",
       "      <th>window start</th>\n",
       "      <th></th>\n",
       "      <th></th>\n",
       "      <th></th>\n",
       "      <th></th>\n",
       "      <th></th>\n",
       "      <th></th>\n",
       "      <th></th>\n",
       "    </tr>\n",
       "  </thead>\n",
       "  <tbody>\n",
       "    <tr>\n",
       "      <th>2002-01-26 00:46:00</th>\n",
       "      <td>92</td>\n",
       "      <td>13.799852</td>\n",
       "      <td>7.639722</td>\n",
       "      <td>4.195356</td>\n",
       "      <td>2.556330</td>\n",
       "      <td>3.058033</td>\n",
       "      <td>3.259551</td>\n",
       "    </tr>\n",
       "    <tr>\n",
       "      <th>2001-03-29 11:13:00</th>\n",
       "      <td>125</td>\n",
       "      <td>13.345709</td>\n",
       "      <td>7.994998</td>\n",
       "      <td>-4.518362</td>\n",
       "      <td>0.390351</td>\n",
       "      <td>1.795910</td>\n",
       "      <td>8.522417</td>\n",
       "    </tr>\n",
       "    <tr>\n",
       "      <th>2001-03-29 11:55:00</th>\n",
       "      <td>128</td>\n",
       "      <td>13.041366</td>\n",
       "      <td>7.963669</td>\n",
       "      <td>3.036429</td>\n",
       "      <td>0.501346</td>\n",
       "      <td>1.399908</td>\n",
       "      <td>3.058396</td>\n",
       "    </tr>\n",
       "    <tr>\n",
       "      <th>2001-04-10 18:07:00</th>\n",
       "      <td>84</td>\n",
       "      <td>13.716876</td>\n",
       "      <td>7.995828</td>\n",
       "      <td>-1.712263</td>\n",
       "      <td>1.074993</td>\n",
       "      <td>1.174579</td>\n",
       "      <td>1.284631</td>\n",
       "    </tr>\n",
       "    <tr>\n",
       "      <th>2001-04-10 18:09:00</th>\n",
       "      <td>85</td>\n",
       "      <td>13.758478</td>\n",
       "      <td>7.868832</td>\n",
       "      <td>-1.981966</td>\n",
       "      <td>0.796347</td>\n",
       "      <td>1.180622</td>\n",
       "      <td>1.778930</td>\n",
       "    </tr>\n",
       "    <tr>\n",
       "      <th>...</th>\n",
       "      <td>...</td>\n",
       "      <td>...</td>\n",
       "      <td>...</td>\n",
       "      <td>...</td>\n",
       "      <td>...</td>\n",
       "      <td>...</td>\n",
       "      <td>...</td>\n",
       "    </tr>\n",
       "    <tr>\n",
       "      <th>2002-01-21 21:13:00</th>\n",
       "      <td>101</td>\n",
       "      <td>13.620417</td>\n",
       "      <td>7.707267</td>\n",
       "      <td>-0.810419</td>\n",
       "      <td>1.056425</td>\n",
       "      <td>1.122970</td>\n",
       "      <td>1.187250</td>\n",
       "    </tr>\n",
       "    <tr>\n",
       "      <th>2002-01-21 21:15:00</th>\n",
       "      <td>102</td>\n",
       "      <td>13.570872</td>\n",
       "      <td>7.696803</td>\n",
       "      <td>-1.150538</td>\n",
       "      <td>1.019323</td>\n",
       "      <td>1.115036</td>\n",
       "      <td>1.158382</td>\n",
       "    </tr>\n",
       "    <tr>\n",
       "      <th>2002-01-21 21:17:00</th>\n",
       "      <td>103</td>\n",
       "      <td>13.445674</td>\n",
       "      <td>7.456546</td>\n",
       "      <td>-2.637633</td>\n",
       "      <td>1.048118</td>\n",
       "      <td>1.110976</td>\n",
       "      <td>1.168740</td>\n",
       "    </tr>\n",
       "    <tr>\n",
       "      <th>2001-04-10 18:10:00</th>\n",
       "      <td>169</td>\n",
       "      <td>13.695430</td>\n",
       "      <td>7.937504</td>\n",
       "      <td>-2.084200</td>\n",
       "      <td>0.751614</td>\n",
       "      <td>1.185576</td>\n",
       "      <td>1.667499</td>\n",
       "    </tr>\n",
       "    <tr>\n",
       "      <th>2001-04-10 19:16:00</th>\n",
       "      <td>173</td>\n",
       "      <td>13.951620</td>\n",
       "      <td>7.927078</td>\n",
       "      <td>-2.017139</td>\n",
       "      <td>0.902872</td>\n",
       "      <td>0.995524</td>\n",
       "      <td>1.070107</td>\n",
       "    </tr>\n",
       "  </tbody>\n",
       "</table>\n",
       "<p>106 rows × 7 columns</p>\n",
       "</div>"
      ],
      "text/plain": [
       "                     Unnamed: 0  Cluster Loc GIPM X  Cluster Loc GIPM Y  \\\n",
       "window start                                                              \n",
       "2002-01-26 00:46:00          92           13.799852            7.639722   \n",
       "2001-03-29 11:13:00         125           13.345709            7.994998   \n",
       "2001-03-29 11:55:00         128           13.041366            7.963669   \n",
       "2001-04-10 18:07:00          84           13.716876            7.995828   \n",
       "2001-04-10 18:09:00          85           13.758478            7.868832   \n",
       "...                         ...                 ...                 ...   \n",
       "2002-01-21 21:13:00         101           13.620417            7.707267   \n",
       "2002-01-21 21:15:00         102           13.570872            7.696803   \n",
       "2002-01-21 21:17:00         103           13.445674            7.456546   \n",
       "2001-04-10 18:10:00         169           13.695430            7.937504   \n",
       "2001-04-10 19:16:00         173           13.951620            7.927078   \n",
       "\n",
       "                     Cluster Loc GIPM Z  Bc_Bo Min  Bc_Bo Mean  Bc_Bo Max  \n",
       "window start                                                               \n",
       "2002-01-26 00:46:00            4.195356   2.556330    3.058033   3.259551  \n",
       "2001-03-29 11:13:00           -4.518362   0.390351    1.795910   8.522417  \n",
       "2001-03-29 11:55:00            3.036429   0.501346    1.399908   3.058396  \n",
       "2001-04-10 18:07:00           -1.712263   1.074993    1.174579   1.284631  \n",
       "2001-04-10 18:09:00           -1.981966   0.796347    1.180622   1.778930  \n",
       "...                                 ...        ...         ...        ...  \n",
       "2002-01-21 21:13:00           -0.810419   1.056425    1.122970   1.187250  \n",
       "2002-01-21 21:15:00           -1.150538   1.019323    1.115036   1.158382  \n",
       "2002-01-21 21:17:00           -2.637633   1.048118    1.110976   1.168740  \n",
       "2001-04-10 18:10:00           -2.084200   0.751614    1.185576   1.667499  \n",
       "2001-04-10 19:16:00           -2.017139   0.902872    0.995524   1.070107  \n",
       "\n",
       "[106 rows x 7 columns]"
      ]
     },
     "execution_count": 11,
     "metadata": {},
     "output_type": "execute_result"
    }
   ],
   "source": [
    "mask_24"
   ]
  },
  {
   "cell_type": "code",
   "execution_count": null,
   "id": "aa298382-d7bb-43f2-bda1-b34b05e37604",
   "metadata": {
    "tags": []
   },
   "outputs": [],
   "source": [
    "#2001-04-10 18:07:00\n",
    "ts = pd.to_datetime('2001-04-10 18:07:00')\n",
    "omni_ave_all.loc[omni_ave_all['datetime']== ts]"
   ]
  },
  {
   "cell_type": "code",
   "execution_count": null,
   "id": "f2e95f12-abed-4ab4-a2f3-7e4b8793dba2",
   "metadata": {
    "tags": []
   },
   "outputs": [],
   "source": [
    "df_yy = pd.read_csv('/Users/apx059/Documents/1_Yr_Data/52_Weeks_CSVs/March-April/2001-04-10 12:57:09.646000C3.csv')\n",
    "df_yy['datetime'] = pd.to_datetime(df_yy['datetime'],format='mixed')\n",
    "df_yy = df_yy.set_index('datetime')\n",
    "\n",
    "#mask to relevant 2 mins for each of those\n",
    "time_start_yy = pd.to_datetime('2001-04-10 18:07:00')\n",
    "time_end_yy = pd.to_datetime('2001-04-10 18:09:00')\n",
    "\n",
    "df_2mins_yy = df_yy.loc[((df_yy.index >= time_start_yy) & (df_yy.index < time_end_yy))]\n",
    "\n",
    "Cluster_list_yy = df_2mins_yy['B_mag'].tolist()\n",
    "Cluster_mean_yy = sum(Cluster_list_yy)/len(Cluster_list_yy)\n",
    "Cluster_OMNI_rat_yy = Cluster_mean_yy/3.954444\n",
    "\n",
    "\n",
    "print(Cluster_OMNI_rat_yy, 'actual Bc/Bo: 1.174579')\n",
    "#it's C3 (yy)"
   ]
  },
  {
   "cell_type": "code",
   "execution_count": null,
   "id": "d1430d18-1fd2-4de2-b759-4ddb04199c61",
   "metadata": {
    "tags": []
   },
   "outputs": [],
   "source": [
    "df_2mins_yy.describe()"
   ]
  },
  {
   "cell_type": "code",
   "execution_count": null,
   "id": "27d9d5ff-8429-4ec9-ac00-ee372411c1e3",
   "metadata": {
    "tags": []
   },
   "outputs": [],
   "source": [
    "#time series of 2 mins\n",
    "\n",
    "fig = plt.figure(figsize=(8, 6.5))\n",
    "\n",
    "fig.suptitle('Window C3 2001-04-10 18:07:00')\n",
    "\n",
    "df_2mins_yy['B_mag'].plot(color=\"black\", label='mag')\n",
    "df_2mins_yy['Bx_gse'].plot(color=\"green\", label='Bx')\n",
    "df_2mins_yy['By_gse'].plot(color=\"blue\", label='By')\n",
    "df_2mins_yy['Bz_gse'].plot(color=\"red\", label = 'Bz')\n",
    "plt.legend()"
   ]
  },
  {
   "cell_type": "code",
   "execution_count": null,
   "id": "f7a6b7b0-8ed0-41f5-8040-0ca7052233ac",
   "metadata": {
    "tags": []
   },
   "outputs": [],
   "source": [
    "#FFT 2 mins\n",
    "\n",
    "#FFT 2 mins\n",
    "x_2a = df_2mins_yy['B_mag'].to_numpy()\n",
    "x_2b = df_2mins_yy['Bx_gse'].to_numpy()\n",
    "x_2c = df_2mins_yy['By_gse'].to_numpy()\n",
    "x_2d = df_2mins_yy['Bz_gse'].to_numpy()\n",
    "# sampling rate\n",
    "sr = 22\n",
    "\n",
    "X_2a = rfft(x_2a)\n",
    "N_2a = len(X_2a)\n",
    "n_2a = np.arange(N_2a)\n",
    "T_2a = N_2a/sr\n",
    "freq_2a = n_2a/T_2a\n",
    "power_2a = np.abs(X_2a)**2\n",
    "\n",
    "\n",
    "X_2b = rfft(x_2b)\n",
    "N_2b = len(X_2b)\n",
    "n_2b = np.arange(N_2b)\n",
    "T_2b = N_2b/sr\n",
    "freq_2b = n_2b/T_2b\n",
    "power_2b = np.abs(X_2b)**2\n",
    "\n",
    "\n",
    "X_2c = rfft(x_2c)\n",
    "N_2c = len(X_2c)\n",
    "n_2c = np.arange(N_2c)\n",
    "T_2c = N_2c/sr\n",
    "freq_2c = n_2c/T_2c\n",
    "power_2c = np.abs(X_2c)**2\n",
    "\n",
    "\n",
    "X_2d = rfft(x_2d)\n",
    "N_2d = len(X_2d)\n",
    "n_2d = np.arange(N_2d)\n",
    "T_2d = N_2d/sr\n",
    "freq_2d = n_2d/T_2d\n",
    "power_2d = np.abs(X_2d)**2\n",
    "##and plot\n",
    "\n",
    "plt.figure(figsize = (9, 6))\n",
    "plt.subplot(111)\n",
    "plt.title('Window C3 2001-04-10 18:07:00')\n",
    "plt.plot(freq_2a, power_2a, color=\"black\", label='B_mag')\n",
    "plt.plot(freq_2b, power_2b, color=\"green\", label='B_x')\n",
    "plt.plot(freq_2c, power_2c, color=\"blue\", label='B_y')\n",
    "plt.plot(freq_2d, power_2d, color=\"red\", label='B_z')\n",
    "#plt.xlabel('Period (s)')\n",
    "plt.xscale('log')\n",
    "plt.yscale('log')\n",
    "plt.ylabel('FFT Power')\n",
    "plt.xlabel('Frequency, Hz')\n",
    "plt.xlim(0.01, 5)\n",
    "plt.ylim(0.1, 100_000_000)\n",
    "plt.legend()\n",
    "\n",
    "#plt.subplot(122)\n",
    "#plt.plot(t, ifft(X), 'k')\n",
    "#plt.xlabel('Time (s)')\n",
    "#plt.ylabel('Amplitude')\n",
    "#plt.tight_layout()\n",
    "plt.show()"
   ]
  },
  {
   "cell_type": "code",
   "execution_count": 7,
   "id": "b9a30893-d21c-4360-becb-8cf805c40362",
   "metadata": {},
   "outputs": [
    {
     "data": {
      "text/html": [
       "<div>\n",
       "<style scoped>\n",
       "    .dataframe tbody tr th:only-of-type {\n",
       "        vertical-align: middle;\n",
       "    }\n",
       "\n",
       "    .dataframe tbody tr th {\n",
       "        vertical-align: top;\n",
       "    }\n",
       "\n",
       "    .dataframe thead th {\n",
       "        text-align: right;\n",
       "    }\n",
       "</style>\n",
       "<table border=\"1\" class=\"dataframe\">\n",
       "  <thead>\n",
       "    <tr style=\"text-align: right;\">\n",
       "      <th></th>\n",
       "      <th>datetime</th>\n",
       "      <th>Np</th>\n",
       "      <th>B_mag</th>\n",
       "      <th>V_gse</th>\n",
       "      <th>B_X_gse</th>\n",
       "      <th>B_Y_gse</th>\n",
       "      <th>B_Z_gse</th>\n",
       "      <th>V_X_gse</th>\n",
       "      <th>V_Y_gse</th>\n",
       "      <th>V_Z_gse</th>\n",
       "      <th>Ave B</th>\n",
       "      <th>Norm Bx</th>\n",
       "      <th>Norm By</th>\n",
       "      <th>Norm Bz</th>\n",
       "      <th>cone angle</th>\n",
       "    </tr>\n",
       "  </thead>\n",
       "  <tbody>\n",
       "    <tr>\n",
       "      <th>246</th>\n",
       "      <td>2001-03-29 11:55:00</td>\n",
       "      <td>5.201</td>\n",
       "      <td>3.716</td>\n",
       "      <td>523.42</td>\n",
       "      <td>3.087</td>\n",
       "      <td>-0.117</td>\n",
       "      <td>1.886</td>\n",
       "      <td>-523.14</td>\n",
       "      <td>-14.76</td>\n",
       "      <td>8.03</td>\n",
       "      <td>3.619427</td>\n",
       "      <td>0.852897</td>\n",
       "      <td>-0.032326</td>\n",
       "      <td>0.521077</td>\n",
       "      <td>31.471785</td>\n",
       "    </tr>\n",
       "    <tr>\n",
       "      <th>248</th>\n",
       "      <td>2001-03-29 11:55:00</td>\n",
       "      <td>5.201</td>\n",
       "      <td>3.716</td>\n",
       "      <td>523.42</td>\n",
       "      <td>3.087</td>\n",
       "      <td>-0.117</td>\n",
       "      <td>1.886</td>\n",
       "      <td>-523.14</td>\n",
       "      <td>-14.76</td>\n",
       "      <td>8.03</td>\n",
       "      <td>3.619427</td>\n",
       "      <td>0.852897</td>\n",
       "      <td>-0.032326</td>\n",
       "      <td>0.521077</td>\n",
       "      <td>31.471785</td>\n",
       "    </tr>\n",
       "    <tr>\n",
       "      <th>215</th>\n",
       "      <td>2001-03-29 11:55:00</td>\n",
       "      <td>5.201</td>\n",
       "      <td>3.716</td>\n",
       "      <td>523.42</td>\n",
       "      <td>3.087</td>\n",
       "      <td>-0.117</td>\n",
       "      <td>1.886</td>\n",
       "      <td>-523.14</td>\n",
       "      <td>-14.76</td>\n",
       "      <td>8.03</td>\n",
       "      <td>3.619427</td>\n",
       "      <td>0.852897</td>\n",
       "      <td>-0.032326</td>\n",
       "      <td>0.521077</td>\n",
       "      <td>31.471785</td>\n",
       "    </tr>\n",
       "    <tr>\n",
       "      <th>232</th>\n",
       "      <td>2001-03-29 11:55:00</td>\n",
       "      <td>5.201</td>\n",
       "      <td>3.716</td>\n",
       "      <td>523.42</td>\n",
       "      <td>3.087</td>\n",
       "      <td>-0.117</td>\n",
       "      <td>1.886</td>\n",
       "      <td>-523.14</td>\n",
       "      <td>-14.76</td>\n",
       "      <td>8.03</td>\n",
       "      <td>3.619427</td>\n",
       "      <td>0.852897</td>\n",
       "      <td>-0.032326</td>\n",
       "      <td>0.521077</td>\n",
       "      <td>31.471785</td>\n",
       "    </tr>\n",
       "  </tbody>\n",
       "</table>\n",
       "</div>"
      ],
      "text/plain": [
       "               datetime     Np  B_mag   V_gse  B_X_gse  B_Y_gse  B_Z_gse  \\\n",
       "246 2001-03-29 11:55:00  5.201  3.716  523.42    3.087   -0.117    1.886   \n",
       "248 2001-03-29 11:55:00  5.201  3.716  523.42    3.087   -0.117    1.886   \n",
       "215 2001-03-29 11:55:00  5.201  3.716  523.42    3.087   -0.117    1.886   \n",
       "232 2001-03-29 11:55:00  5.201  3.716  523.42    3.087   -0.117    1.886   \n",
       "\n",
       "     V_X_gse  V_Y_gse  V_Z_gse     Ave B   Norm Bx   Norm By   Norm Bz  \\\n",
       "246  -523.14   -14.76     8.03  3.619427  0.852897 -0.032326  0.521077   \n",
       "248  -523.14   -14.76     8.03  3.619427  0.852897 -0.032326  0.521077   \n",
       "215  -523.14   -14.76     8.03  3.619427  0.852897 -0.032326  0.521077   \n",
       "232  -523.14   -14.76     8.03  3.619427  0.852897 -0.032326  0.521077   \n",
       "\n",
       "     cone angle  \n",
       "246   31.471785  \n",
       "248   31.471785  \n",
       "215   31.471785  \n",
       "232   31.471785  "
      ]
     },
     "execution_count": 7,
     "metadata": {},
     "output_type": "execute_result"
    }
   ],
   "source": [
    "#2001-03-29 11:55:00\n",
    "ts = pd.to_datetime('2001-03-29 11:55:00')\n",
    "omni_ave_all.loc[omni_ave_all['datetime']== ts]"
   ]
  },
  {
   "cell_type": "code",
   "execution_count": null,
   "id": "c354be47-3758-4024-a2f1-42672de40291",
   "metadata": {
    "tags": []
   },
   "outputs": [],
   "source": [
    "#2001-03-29 11:55:00\n",
    "df_ta = pd.read_csv('/Users/apx059/Documents/1_Yr_Data/52_Weeks_CSVs/March-April/2001-03-29 03:31:00.021000C1.csv')\n",
    "df_ta['datetime'] = pd.to_datetime(df_ta['datetime'],format='mixed')\n",
    "df_ta = df_ta.set_index('datetime')\n",
    "\n",
    "df_tb = pd.read_csv('/Users/apx059/Documents/1_Yr_Data/52_Weeks_CSVs/March-April/2001-03-29 03:35:00.011000C2.csv')\n",
    "df_tb['datetime'] = pd.to_datetime(df_tb['datetime'],format='mixed')\n",
    "df_tb = df_tb.set_index('datetime')\n",
    "\n",
    "df_tc = pd.read_csv('/Users/apx059/Documents/1_Yr_Data/52_Weeks_CSVs/March-April/2001-03-29 03:33:00.027000C3.csv')\n",
    "df_tc['datetime'] = pd.to_datetime(df_tc['datetime'],format='mixed')\n",
    "df_tc = df_tc.set_index('datetime')\n",
    "\n",
    "df_td = pd.read_csv('/Users/apx059/Documents/1_Yr_Data/52_Weeks_CSVs/March-April/2001-03-29 03:37:00.038000C4.csv')\n",
    "df_td['datetime'] = pd.to_datetime(df_td['datetime'],format='mixed')\n",
    "df_td = df_td.set_index('datetime')\n",
    "\n",
    "#mask to relevant 2 mins for each of those\n",
    "time_start_ta = pd.to_datetime('2001-03-29 11:55:00')\n",
    "time_end_ta = pd.to_datetime('2001-03-29 11:57:00')\n",
    "\n",
    "df_2mins_ta = df_ta.loc[((df_ta.index >= time_start_ta) & (df_ta.index < time_end_ta))]\n",
    "df_2mins_tb = df_tb.loc[((df_tb.index >= time_start_ta) & (df_tb.index < time_end_ta))]\n",
    "df_2mins_tc = df_tc.loc[((df_tc.index >= time_start_ta) & (df_tc.index < time_end_ta))]\n",
    "df_2mins_td = df_td.loc[((df_td.index >= time_start_ta) & (df_td.index < time_end_ta))]"
   ]
  },
  {
   "cell_type": "code",
   "execution_count": 8,
   "id": "d2ef14d9-6749-434c-a835-3fbee5c67cb6",
   "metadata": {
    "tags": []
   },
   "outputs": [
    {
     "ename": "NameError",
     "evalue": "name 'df_2mins_tc' is not defined",
     "output_type": "error",
     "traceback": [
      "\u001b[0;31m---------------------------------------------------------------------------\u001b[0m",
      "\u001b[0;31mNameError\u001b[0m                                 Traceback (most recent call last)",
      "Cell \u001b[0;32mIn[8], line 1\u001b[0m\n\u001b[0;32m----> 1\u001b[0m Cluster_list_tc \u001b[38;5;241m=\u001b[39m df_2mins_tc[\u001b[38;5;124m'\u001b[39m\u001b[38;5;124mB_mag\u001b[39m\u001b[38;5;124m'\u001b[39m]\u001b[38;5;241m.\u001b[39mtolist()\n\u001b[1;32m      2\u001b[0m Cluster_mean_tc \u001b[38;5;241m=\u001b[39m \u001b[38;5;28msum\u001b[39m(Cluster_list_tc)\u001b[38;5;241m/\u001b[39m\u001b[38;5;28mlen\u001b[39m(Cluster_list_tc)\n\u001b[1;32m      3\u001b[0m Cluster_OMNI_rat_tc \u001b[38;5;241m=\u001b[39m Cluster_mean_tc\u001b[38;5;241m/\u001b[39m\u001b[38;5;241m3.716\u001b[39m\n",
      "\u001b[0;31mNameError\u001b[0m: name 'df_2mins_tc' is not defined"
     ]
    }
   ],
   "source": [
    "Cluster_list_tc = df_2mins_tc['B_mag'].tolist()\n",
    "Cluster_mean_tc = sum(Cluster_list_tc)/len(Cluster_list_tc)\n",
    "Cluster_OMNI_rat_tc = Cluster_mean_tc/3.716\n",
    "\n",
    "print(Cluster_OMNI_rat_tc, 'actual Bc/Bo: 1.399908')\n",
    "#it's C3 (tc)"
   ]
  },
  {
   "cell_type": "code",
   "execution_count": null,
   "id": "5378cbe4-a453-4a01-9116-89f137e415c0",
   "metadata": {
    "tags": []
   },
   "outputs": [],
   "source": [
    "df_2mins_tc.describe()"
   ]
  },
  {
   "cell_type": "code",
   "execution_count": null,
   "id": "fa0282fc-0ed8-4062-be67-567cd5a494cf",
   "metadata": {
    "tags": []
   },
   "outputs": [],
   "source": [
    "#time series of 2 mins\n",
    "\n",
    "fig = plt.figure(figsize=(8, 6.5))\n",
    "\n",
    "fig.suptitle('Window C3 2001-03-29 11:55:00')\n",
    "\n",
    "df_2mins_tc['B_mag'].plot(color=\"black\", label='mag')\n",
    "df_2mins_tc['Bx_gse'].plot(color=\"green\", label='Bx')\n",
    "df_2mins_tc['By_gse'].plot(color=\"blue\", label='By')\n",
    "df_2mins_tc['Bz_gse'].plot(color=\"red\", label = 'Bz')\n",
    "plt.legend()"
   ]
  },
  {
   "cell_type": "code",
   "execution_count": null,
   "id": "50f5fc33-aef1-4e37-b6a2-ab2041cfa403",
   "metadata": {
    "tags": []
   },
   "outputs": [],
   "source": [
    "#FFT 2 mins\n",
    "\n",
    "#FFT 2 mins\n",
    "x_2a = df_2mins_tc['B_mag'].to_numpy()\n",
    "x_2b = df_2mins_tc['Bx_gse'].to_numpy()\n",
    "x_2c = df_2mins_tc['By_gse'].to_numpy()\n",
    "x_2d = df_2mins_tc['Bz_gse'].to_numpy()\n",
    "# sampling rate\n",
    "sr = 22\n",
    "\n",
    "X_2a = rfft(x_2a)\n",
    "N_2a = len(X_2a)\n",
    "n_2a = np.arange(N_2a)\n",
    "T_2a = N_2a/sr\n",
    "freq_2a = n_2a/T_2a\n",
    "power_2a = np.abs(X_2a)**2\n",
    "\n",
    "\n",
    "X_2b = rfft(x_2b)\n",
    "N_2b = len(X_2b)\n",
    "n_2b = np.arange(N_2b)\n",
    "T_2b = N_2b/sr\n",
    "freq_2b = n_2b/T_2b\n",
    "power_2b = np.abs(X_2b)**2\n",
    "\n",
    "\n",
    "X_2c = rfft(x_2c)\n",
    "N_2c = len(X_2c)\n",
    "n_2c = np.arange(N_2c)\n",
    "T_2c = N_2c/sr\n",
    "freq_2c = n_2c/T_2c\n",
    "power_2c = np.abs(X_2c)**2\n",
    "\n",
    "\n",
    "X_2d = rfft(x_2d)\n",
    "N_2d = len(X_2d)\n",
    "n_2d = np.arange(N_2d)\n",
    "T_2d = N_2d/sr\n",
    "freq_2d = n_2d/T_2d\n",
    "power_2d = np.abs(X_2d)**2\n",
    "##and plot\n",
    "\n",
    "plt.figure(figsize = (9, 6))\n",
    "plt.subplot(111)\n",
    "plt.title('Window C3 2001-03-29 11:55-11:57')\n",
    "plt.plot(freq_2a, power_2a, color=\"black\", label='B_mag')\n",
    "plt.plot(freq_2b, power_2b, color=\"green\", label='B_x')\n",
    "plt.plot(freq_2c, power_2c, color=\"blue\", label='B_y')\n",
    "plt.plot(freq_2d, power_2d, color=\"red\", label='B_z')\n",
    "#plt.xlabel('Period (s)')\n",
    "plt.xscale('log')\n",
    "plt.yscale('log')\n",
    "plt.ylabel('FFT Power')\n",
    "plt.xlabel('Frequency, Hz')\n",
    "plt.xlim(0.01, 5)\n",
    "plt.ylim(0.1, 100_000_000)\n",
    "plt.legend()\n",
    "\n",
    "#plt.subplot(122)\n",
    "#plt.plot(t, ifft(X), 'k')\n",
    "#plt.xlabel('Time (s)')\n",
    "#plt.ylabel('Amplitude')\n",
    "#plt.tight_layout()\n",
    "plt.show()"
   ]
  },
  {
   "cell_type": "code",
   "execution_count": null,
   "id": "62c85a9d-74bf-4521-9b9f-923402207ce0",
   "metadata": {},
   "outputs": [],
   "source": [
    "X_lb_14 = 11\n",
    "X_lim_14 = 12\n",
    "Y_lb_14 = 9\n",
    "Y_lim_14 = 10\n",
    "mask_25 = spir_df_XY.loc[(spir_df_XY['Cluster Loc GIPM X']>= X_lb_14) & (spir_df_XY['Cluster Loc GIPM X'] < X_lim_14)]\n",
    "mask_26 = mask_25.loc[(mask_25['Cluster Loc GIPM Y']>= Y_lb_14) & (mask_25['Cluster Loc GIPM Y'] < Y_lim_14)]"
   ]
  },
  {
   "cell_type": "code",
   "execution_count": null,
   "id": "3fd3288c-a1d9-4869-9295-64023d7ad303",
   "metadata": {
    "tags": []
   },
   "outputs": [],
   "source": [
    "#2001-03-19 18:07:00\n",
    "\n",
    "ts = pd.to_datetime('2001-03-19 18:07:00')\n",
    "omni_ave_all.loc[omni_ave_all['datetime']== ts]"
   ]
  },
  {
   "cell_type": "code",
   "execution_count": null,
   "id": "00c065e8-1eb1-4d9b-8cf3-40feabcdaedc",
   "metadata": {
    "tags": []
   },
   "outputs": [],
   "source": [
    "#2001-03-19 18:07:00\n",
    "df_va = pd.read_csv('/Users/apx059/Documents/1_Yr_Data/52_Weeks_CSVs/March-April/2001-03-19 14:59:00.032000C1.csv')\n",
    "df_va['datetime'] = pd.to_datetime(df_va['datetime'],format='mixed')\n",
    "df_va = df_va.set_index('datetime')\n",
    "\n",
    "df_vb = pd.read_csv('/Users/apx059/Documents/1_Yr_Data/52_Weeks_CSVs/March-April/2001-03-19 15:03:00.006000C2.csv')\n",
    "df_vb['datetime'] = pd.to_datetime(df_vb['datetime'],format='mixed')\n",
    "df_vb = df_vb.set_index('datetime')\n",
    "\n",
    "df_vc = pd.read_csv('/Users/apx059/Documents/1_Yr_Data/52_Weeks_CSVs/March-April/2001-03-19 15:01:03.639000C3.csv')\n",
    "df_vc['datetime'] = pd.to_datetime(df_vc['datetime'],format='mixed')\n",
    "df_vc = df_vc.set_index('datetime')\n",
    "\n",
    "df_vd = pd.read_csv('/Users/apx059/Documents/1_Yr_Data/52_Weeks_CSVs/March-April/2001-03-19 15:05:00.035000C4.csv')\n",
    "df_vd['datetime'] = pd.to_datetime(df_vd['datetime'],format='mixed')\n",
    "df_vd = df_vd.set_index('datetime')\n",
    "\n",
    "#mask to relevant 2 mins for each of those\n",
    "time_start_va = pd.to_datetime('2001-03-19 18:07:00')\n",
    "time_end_va = pd.to_datetime('2001-03-19 18:09:00')\n",
    "\n",
    "df_2mins_va = df_va.loc[((df_va.index >= time_start_va) & (df_va.index < time_end_va))]\n",
    "df_2mins_vb = df_vb.loc[((df_vb.index >= time_start_va) & (df_vb.index < time_end_va))]\n",
    "df_2mins_vc = df_vc.loc[((df_vc.index >= time_start_va) & (df_vc.index < time_end_va))]\n",
    "df_2mins_vd = df_vd.loc[((df_vd.index >= time_start_va) & (df_vd.index < time_end_va))]"
   ]
  },
  {
   "cell_type": "code",
   "execution_count": null,
   "id": "53b4e3ff-4da9-4227-bc7b-0aaa3fe9d6b9",
   "metadata": {
    "tags": []
   },
   "outputs": [],
   "source": [
    "Cluster_list_va = df_2mins_va['B_mag'].tolist()\n",
    "Cluster_mean_va = sum(Cluster_list_va)/len(Cluster_list_va)\n",
    "Cluster_OMNI_rat_va = Cluster_mean_va/11.894\n",
    "\n",
    "Cluster_list_vb = df_2mins_vb['B_mag'].tolist()\n",
    "Cluster_mean_vb = sum(Cluster_list_vb)/len(Cluster_list_vb)\n",
    "Cluster_OMNI_rat_vb = Cluster_mean_vb/11.894\n",
    "\n",
    "Cluster_list_vc = df_2mins_vc['B_mag'].tolist()\n",
    "Cluster_mean_vc = sum(Cluster_list_vc)/len(Cluster_list_vc)\n",
    "Cluster_OMNI_rat_vc = Cluster_mean_vc/11.894\n",
    "\n",
    "Cluster_list_vd = df_2mins_vd['B_mag'].tolist()\n",
    "Cluster_mean_vd = sum(Cluster_list_vd)/len(Cluster_list_vd)\n",
    "Cluster_OMNI_rat_vd = Cluster_mean_vd/11.894\n",
    "\n",
    "print(Cluster_OMNI_rat_va, Cluster_OMNI_rat_vb, Cluster_OMNI_rat_vc, Cluster_OMNI_rat_vd, 'actual Bc/Bo: 1.224840')\n",
    "#it's C1"
   ]
  },
  {
   "cell_type": "code",
   "execution_count": null,
   "id": "95298f0c-2d74-490d-a803-43c0b309b0cb",
   "metadata": {
    "tags": []
   },
   "outputs": [],
   "source": [
    "df_2mins_va.describe()"
   ]
  },
  {
   "cell_type": "code",
   "execution_count": null,
   "id": "5810f61e-b683-479f-84ea-e0404d233987",
   "metadata": {
    "tags": []
   },
   "outputs": [],
   "source": [
    "#time series of 2 mins\n",
    "\n",
    "fig = plt.figure(figsize=(8, 6.5))\n",
    "\n",
    "fig.suptitle('Window C1 2001-03-19 18:07:00')\n",
    "\n",
    "df_2mins_va['B_mag'].plot(color=\"black\", label='mag')\n",
    "df_2mins_va['Bx_gse'].plot(color=\"green\", label='Bx')\n",
    "df_2mins_va['By_gse'].plot(color=\"blue\", label='By')\n",
    "df_2mins_va['Bz_gse'].plot(color=\"red\", label = 'Bz')\n",
    "plt.legend()"
   ]
  },
  {
   "cell_type": "code",
   "execution_count": null,
   "id": "e5f24188-8496-45fc-be53-a3823627b2d7",
   "metadata": {
    "tags": []
   },
   "outputs": [],
   "source": [
    "#FFT 2 mins\n",
    "\n",
    "#FFT 2 mins\n",
    "x_2a = df_2mins_va['B_mag'].to_numpy()\n",
    "x_2b = df_2mins_va['Bx_gse'].to_numpy()\n",
    "x_2c = df_2mins_va['By_gse'].to_numpy()\n",
    "x_2d = df_2mins_va['Bz_gse'].to_numpy()\n",
    "# sampling rate\n",
    "sr = 22\n",
    "\n",
    "X_2a = rfft(x_2a)\n",
    "N_2a = len(X_2a)\n",
    "n_2a = np.arange(N_2a)\n",
    "T_2a = N_2a/sr\n",
    "freq_2a = n_2a/T_2a\n",
    "power_2a = np.abs(X_2a)**2\n",
    "\n",
    "\n",
    "X_2b = rfft(x_2b)\n",
    "N_2b = len(X_2b)\n",
    "n_2b = np.arange(N_2b)\n",
    "T_2b = N_2b/sr\n",
    "freq_2b = n_2b/T_2b\n",
    "power_2b = np.abs(X_2b)**2\n",
    "\n",
    "\n",
    "X_2c = rfft(x_2c)\n",
    "N_2c = len(X_2c)\n",
    "n_2c = np.arange(N_2c)\n",
    "T_2c = N_2c/sr\n",
    "freq_2c = n_2c/T_2c\n",
    "power_2c = np.abs(X_2c)**2\n",
    "\n",
    "\n",
    "X_2d = rfft(x_2d)\n",
    "N_2d = len(X_2d)\n",
    "n_2d = np.arange(N_2d)\n",
    "T_2d = N_2d/sr\n",
    "freq_2d = n_2d/T_2d\n",
    "power_2d = np.abs(X_2d)**2\n",
    "##and plot\n",
    "\n",
    "plt.figure(figsize = (9, 6))\n",
    "plt.subplot(111)\n",
    "plt.title('Window C1 2001-03-19 18:07:00')\n",
    "plt.plot(freq_2a, power_2a, color=\"black\", label='B_mag')\n",
    "plt.plot(freq_2b, power_2b, color=\"green\", label='B_x')\n",
    "plt.plot(freq_2c, power_2c, color=\"blue\", label='B_y')\n",
    "plt.plot(freq_2d, power_2d, color=\"red\", label='B_z')\n",
    "#plt.xlabel('Period (s)')\n",
    "plt.xscale('log')\n",
    "plt.yscale('log')\n",
    "plt.ylabel('FFT Power')\n",
    "plt.xlabel('Frequency, Hz')\n",
    "plt.xlim(0.01, 5)\n",
    "plt.ylim(0.1, 100_000_000)\n",
    "plt.legend()\n",
    "\n",
    "#plt.subplot(122)\n",
    "#plt.plot(t, ifft(X), 'k')\n",
    "#plt.xlabel('Time (s)')\n",
    "#plt.ylabel('Amplitude')\n",
    "#plt.tight_layout()\n",
    "plt.show()"
   ]
  },
  {
   "cell_type": "code",
   "execution_count": null,
   "id": "8dc1fe01-a958-49ec-8fe1-7c8c2d2c70b7",
   "metadata": {
    "tags": []
   },
   "outputs": [],
   "source": [
    "X_lb_15 = 11\n",
    "X_lim_15 = 12\n",
    "Y_lb_15 = -13\n",
    "Y_lim_15 = -12\n",
    "mask_27 = spir_df_XY.loc[(spir_df_XY['Cluster Loc GIPM X']>= X_lb_15) & (spir_df_XY['Cluster Loc GIPM X'] < X_lim_15)]\n",
    "mask_28 = mask_27.loc[(mask_27['Cluster Loc GIPM Y']>= Y_lb_15) & (mask_27['Cluster Loc GIPM Y'] < Y_lim_15)]"
   ]
  },
  {
   "cell_type": "code",
   "execution_count": null,
   "id": "89df9229-a8d8-4994-8c02-2eeb37bd6be7",
   "metadata": {
    "tags": []
   },
   "outputs": [],
   "source": [
    "mask_28"
   ]
  },
  {
   "cell_type": "code",
   "execution_count": null,
   "id": "a4463a31-eb19-44bc-9905-91e05ea5dc18",
   "metadata": {
    "tags": []
   },
   "outputs": [],
   "source": [
    "#2002-01-17 07:25:00\n",
    "\n",
    "ts = pd.to_datetime('2002-01-17 07:25:00')\n",
    "omni_ave_all.loc[omni_ave_all['datetime']== ts]"
   ]
  },
  {
   "cell_type": "code",
   "execution_count": null,
   "id": "75c8d03d-d35c-4fdc-b517-01827f94e86c",
   "metadata": {
    "tags": []
   },
   "outputs": [],
   "source": [
    "#2002-01-17 07:25:00\n",
    "df_wa = pd.read_csv('/Users/apx059/Documents/1_Yr_Data/52_Weeks_CSVs/Dec-Feb/2002-01-17 06:41:21.192000C1.csv')\n",
    "df_wa['datetime'] = pd.to_datetime(df_wa['datetime'],format='mixed')\n",
    "df_wa = df_wa.set_index('datetime')\n",
    "\n",
    "df_wb = pd.read_csv('/Users/apx059/Documents/1_Yr_Data/52_Weeks_CSVs/Dec-Feb/2002-01-17 06:41:16.953000C2.csv')\n",
    "df_wb['datetime'] = pd.to_datetime(df_wb['datetime'],format='mixed')\n",
    "df_wb = df_wb.set_index('datetime')\n",
    "\n",
    "df_wc = pd.read_csv('/Users/apx059/Documents/1_Yr_Data/52_Weeks_CSVs/Dec-Feb/2002-01-17 06:41:20.737000C3.csv')\n",
    "df_wc['datetime'] = pd.to_datetime(df_wc['datetime'],format='mixed')\n",
    "df_wc = df_wc.set_index('datetime')\n",
    "\n",
    "df_wd = pd.read_csv('/Users/apx059/Documents/1_Yr_Data/52_Weeks_CSVs/Dec-Feb/2002-01-17 06:41:18.478000C4.csv')\n",
    "df_wd['datetime'] = pd.to_datetime(df_wd['datetime'],format='mixed')\n",
    "df_wd = df_wd.set_index('datetime')\n",
    "\n",
    "#mask to relevant 2 mins for each of those\n",
    "time_start_wa = pd.to_datetime('2002-01-17 07:25:00')\n",
    "time_end_wa = pd.to_datetime('2002-01-17 07:27:00')\n",
    "\n",
    "df_2mins_wa = df_wa.loc[((df_wa.index >= time_start_wa) & (df_wa.index < time_end_wa))]\n",
    "df_2mins_wb = df_wb.loc[((df_wb.index >= time_start_wa) & (df_wb.index < time_end_wa))]\n",
    "df_2mins_wc = df_wc.loc[((df_wc.index >= time_start_wa) & (df_wc.index < time_end_wa))]\n",
    "df_2mins_wd = df_wd.loc[((df_wd.index >= time_start_wa) & (df_wd.index < time_end_wa))]"
   ]
  },
  {
   "cell_type": "code",
   "execution_count": null,
   "id": "ca1a3c51-e903-456d-8bbb-0cc25cdacf47",
   "metadata": {
    "tags": []
   },
   "outputs": [],
   "source": [
    "Cluster_list_wa = df_2mins_wa['B_mag'].tolist()\n",
    "Cluster_mean_wa = sum(Cluster_list_wa)/len(Cluster_list_wa)\n",
    "Cluster_OMNI_rat_wa = Cluster_mean_wa/10.12375\n",
    "\n",
    "Cluster_list_wb = df_2mins_wb['B_mag'].tolist()\n",
    "Cluster_mean_wb = sum(Cluster_list_wb)/len(Cluster_list_wb)\n",
    "Cluster_OMNI_rat_wb = Cluster_mean_wb/10.12375\n",
    "\n",
    "Cluster_list_wc = df_2mins_wc['B_mag'].tolist()\n",
    "Cluster_mean_wc = sum(Cluster_list_wc)/len(Cluster_list_wc)\n",
    "Cluster_OMNI_rat_wc = Cluster_mean_wc/10.12375\n",
    "\n",
    "Cluster_list_wd = df_2mins_wd['B_mag'].tolist()\n",
    "Cluster_mean_wd = sum(Cluster_list_wd)/len(Cluster_list_wd)\n",
    "Cluster_OMNI_rat_wd = Cluster_mean_wd/10.12375\n",
    "\n",
    "print(Cluster_OMNI_rat_wa, Cluster_OMNI_rat_wb, Cluster_OMNI_rat_wc, Cluster_OMNI_rat_wd, 'actual Bc/Bo: 0.962142')\n",
    "#it's C1"
   ]
  },
  {
   "cell_type": "code",
   "execution_count": null,
   "id": "7b64aec8-2b1f-41ac-93b8-67c6b9f22034",
   "metadata": {
    "tags": []
   },
   "outputs": [],
   "source": [
    "df_2mins_wa.describe()"
   ]
  },
  {
   "cell_type": "code",
   "execution_count": null,
   "id": "334be9f8-5969-4b71-9dfd-e28aed55351d",
   "metadata": {
    "tags": []
   },
   "outputs": [],
   "source": [
    "#FFT 2 mins\n",
    "\n",
    "#FFT 2 mins\n",
    "x_2a = df_2mins_wa['B_mag'].to_numpy()\n",
    "x_2b = df_2mins_wa['Bx_gse'].to_numpy()\n",
    "x_2c = df_2mins_wa['By_gse'].to_numpy()\n",
    "x_2d = df_2mins_wa['Bz_gse'].to_numpy()\n",
    "# sampling rate\n",
    "sr = 22\n",
    "\n",
    "X_2a = rfft(x_2a)\n",
    "N_2a = len(X_2a)\n",
    "n_2a = np.arange(N_2a)\n",
    "T_2a = N_2a/sr\n",
    "freq_2a = n_2a/T_2a\n",
    "power_2a = np.abs(X_2a)**2\n",
    "\n",
    "\n",
    "X_2b = rfft(x_2b)\n",
    "N_2b = len(X_2b)\n",
    "n_2b = np.arange(N_2b)\n",
    "T_2b = N_2b/sr\n",
    "freq_2b = n_2b/T_2b\n",
    "power_2b = np.abs(X_2b)**2\n",
    "\n",
    "\n",
    "X_2c = rfft(x_2c)\n",
    "N_2c = len(X_2c)\n",
    "n_2c = np.arange(N_2c)\n",
    "T_2c = N_2c/sr\n",
    "freq_2c = n_2c/T_2c\n",
    "power_2c = np.abs(X_2c)**2\n",
    "\n",
    "\n",
    "X_2d = rfft(x_2d)\n",
    "N_2d = len(X_2d)\n",
    "n_2d = np.arange(N_2d)\n",
    "T_2d = N_2d/sr\n",
    "freq_2d = n_2d/T_2d\n",
    "power_2d = np.abs(X_2d)**2\n",
    "##and plot\n",
    "\n",
    "plt.figure(figsize = (9, 6))\n",
    "plt.subplot(111)\n",
    "plt.title('Window C1 2002-01-17 07:25:00')\n",
    "plt.plot(freq_2a, power_2a, color=\"black\", label='B_mag')\n",
    "plt.plot(freq_2b, power_2b, color=\"green\", label='B_x')\n",
    "plt.plot(freq_2c, power_2c, color=\"blue\", label='B_y')\n",
    "plt.plot(freq_2d, power_2d, color=\"red\", label='B_z')\n",
    "#plt.xlabel('Period (s)')\n",
    "plt.xscale('log')\n",
    "plt.yscale('log')\n",
    "plt.ylabel('FFT Power')\n",
    "plt.xlabel('Frequency, Hz')\n",
    "plt.xlim(0.01, 5)\n",
    "plt.ylim(0.1, 100_000_000)\n",
    "plt.legend()\n",
    "\n",
    "#plt.subplot(122)\n",
    "#plt.plot(t, ifft(X), 'k')\n",
    "#plt.xlabel('Time (s)')\n",
    "#plt.ylabel('Amplitude')\n",
    "#plt.tight_layout()\n",
    "plt.show()"
   ]
  },
  {
   "cell_type": "code",
   "execution_count": 112,
   "id": "35c8112e-52de-4140-bb6f-a121c3aadf04",
   "metadata": {
    "tags": []
   },
   "outputs": [],
   "source": [
    "# case study 4?\n",
    "##now move to ANOTHER box\n",
    "\n",
    "X_lb_A = 11\n",
    "X_lim_A = 12\n",
    "Y_lb_A = 10\n",
    "Y_lim_A = 11\n",
    "\n",
    "mask_A1 = spir_df_XY.loc[(spir_df_XY['Cluster Loc GIPM X']>= X_lb_A) & (spir_df_XY['Cluster Loc GIPM X'] < X_lim_A)]\n",
    "mask_A2 = mask_A1.loc[(mask_A1['Cluster Loc GIPM Y']>= Y_lb_A) & (mask_A1['Cluster Loc GIPM Y'] < Y_lim_A)]"
   ]
  },
  {
   "cell_type": "code",
   "execution_count": 113,
   "id": "b9fb40be-8920-47ca-8c2d-a939e48ffa89",
   "metadata": {
    "tags": []
   },
   "outputs": [
    {
     "data": {
      "text/plain": [
       "DatetimeIndex(['2001-03-19 18:15:00', '2001-03-19 18:17:00',\n",
       "               '2001-03-19 18:19:00', '2001-03-19 18:21:00',\n",
       "               '2001-03-19 18:25:00', '2002-02-01 20:38:00',\n",
       "               '2002-02-01 20:44:00', '2002-02-01 20:46:00',\n",
       "               '2002-02-01 21:16:00', '2002-02-01 21:18:00',\n",
       "               '2001-04-05 15:57:00', '2001-04-05 15:59:00',\n",
       "               '2001-04-05 16:01:00', '2001-04-05 16:03:00',\n",
       "               '2002-01-07 21:11:00', '2002-01-07 21:13:00',\n",
       "               '2001-03-28 11:01:00', '2001-03-28 11:03:00',\n",
       "               '2001-03-28 11:05:00', '2001-03-28 11:07:00',\n",
       "               '2001-03-28 11:09:00', '2001-03-28 11:23:00',\n",
       "               '2001-03-28 11:03:00', '2001-03-28 11:07:00',\n",
       "               '2001-03-28 11:09:00', '2001-03-28 11:03:00',\n",
       "               '2001-03-28 11:05:00', '2001-03-28 11:07:00',\n",
       "               '2001-03-28 11:09:00', '2002-01-21 00:08:00',\n",
       "               '2002-01-21 00:10:00', '2002-01-21 00:12:00',\n",
       "               '2002-01-21 00:14:00', '2002-01-21 00:18:00',\n",
       "               '2002-01-21 00:20:00', '2002-01-21 00:22:00',\n",
       "               '2002-01-21 00:24:00', '2002-01-21 00:26:00',\n",
       "               '2002-02-01 20:37:00', '2002-02-01 20:43:00',\n",
       "               '2002-02-01 20:45:00', '2002-02-01 20:47:00',\n",
       "               '2002-02-01 21:17:00', '2001-03-28 11:03:00',\n",
       "               '2001-03-28 11:05:00', '2001-03-28 11:07:00',\n",
       "               '2001-03-28 11:09:00', '2001-03-28 11:23:00',\n",
       "               '2002-01-07 20:33:00', '2002-01-07 20:35:00',\n",
       "               '2002-01-07 20:47:00', '2002-01-07 20:49:00',\n",
       "               '2002-01-07 20:51:00', '2002-01-07 20:57:00',\n",
       "               '2002-01-07 20:59:00', '2002-01-07 21:01:00',\n",
       "               '2002-01-07 21:03:00', '2002-01-07 21:05:00',\n",
       "               '2002-01-07 21:07:00', '2002-01-07 21:09:00',\n",
       "               '2001-03-19 18:19:00', '2001-03-19 18:21:00',\n",
       "               '2001-03-19 18:23:00', '2001-03-19 18:25:00',\n",
       "               '2002-01-21 00:07:00', '2002-01-21 00:09:00',\n",
       "               '2002-01-21 00:11:00', '2002-01-21 00:13:00',\n",
       "               '2002-01-21 00:21:00', '2002-01-21 00:23:00',\n",
       "               '2002-01-07 20:48:00', '2002-01-07 20:50:00',\n",
       "               '2002-01-07 21:10:00', '2002-02-01 20:36:00',\n",
       "               '2002-02-01 20:38:00', '2002-02-01 20:44:00',\n",
       "               '2002-02-01 20:46:00', '2002-02-01 21:16:00',\n",
       "               '2002-02-01 21:18:00', '2001-03-19 18:17:00',\n",
       "               '2001-03-19 18:21:00', '2001-03-19 18:23:00',\n",
       "               '2001-03-19 18:25:00'],\n",
       "              dtype='datetime64[ns]', name='window start', freq=None)"
      ]
     },
     "execution_count": 113,
     "metadata": {},
     "output_type": "execute_result"
    }
   ],
   "source": [
    "mask_A2.index"
   ]
  },
  {
   "cell_type": "code",
   "execution_count": 39,
   "id": "7e793b6b-d43b-4517-bb6e-d2c9744e36c2",
   "metadata": {
    "tags": []
   },
   "outputs": [
    {
     "data": {
      "text/html": [
       "<div>\n",
       "<style scoped>\n",
       "    .dataframe tbody tr th:only-of-type {\n",
       "        vertical-align: middle;\n",
       "    }\n",
       "\n",
       "    .dataframe tbody tr th {\n",
       "        vertical-align: top;\n",
       "    }\n",
       "\n",
       "    .dataframe thead th {\n",
       "        text-align: right;\n",
       "    }\n",
       "</style>\n",
       "<table border=\"1\" class=\"dataframe\">\n",
       "  <thead>\n",
       "    <tr style=\"text-align: right;\">\n",
       "      <th></th>\n",
       "      <th>Unnamed: 0</th>\n",
       "      <th>Cluster Loc GIPM X</th>\n",
       "      <th>Cluster Loc GIPM Y</th>\n",
       "      <th>Cluster Loc GIPM Z</th>\n",
       "      <th>Bc_Bo Min</th>\n",
       "      <th>Bc_Bo Mean</th>\n",
       "      <th>Bc_Bo Max</th>\n",
       "    </tr>\n",
       "    <tr>\n",
       "      <th>window start</th>\n",
       "      <th></th>\n",
       "      <th></th>\n",
       "      <th></th>\n",
       "      <th></th>\n",
       "      <th></th>\n",
       "      <th></th>\n",
       "      <th></th>\n",
       "    </tr>\n",
       "  </thead>\n",
       "  <tbody>\n",
       "    <tr>\n",
       "      <th>2001-04-05 15:57:00</th>\n",
       "      <td>55</td>\n",
       "      <td>11.90851</td>\n",
       "      <td>10.489256</td>\n",
       "      <td>-1.946561</td>\n",
       "      <td>0.688384</td>\n",
       "      <td>0.810404</td>\n",
       "      <td>1.090925</td>\n",
       "    </tr>\n",
       "  </tbody>\n",
       "</table>\n",
       "</div>"
      ],
      "text/plain": [
       "                     Unnamed: 0  Cluster Loc GIPM X  Cluster Loc GIPM Y  \\\n",
       "window start                                                              \n",
       "2001-04-05 15:57:00          55            11.90851           10.489256   \n",
       "\n",
       "                     Cluster Loc GIPM Z  Bc_Bo Min  Bc_Bo Mean  Bc_Bo Max  \n",
       "window start                                                               \n",
       "2001-04-05 15:57:00           -1.946561   0.688384    0.810404   1.090925  "
      ]
     },
     "execution_count": 39,
     "metadata": {},
     "output_type": "execute_result"
    }
   ],
   "source": [
    "mask_A2.loc[mask_A2.index == '2001-04-05 15:57:00']"
   ]
  },
  {
   "cell_type": "code",
   "execution_count": 36,
   "id": "ab853152-b0bc-4f8a-8ffb-1bed71bf7970",
   "metadata": {
    "tags": []
   },
   "outputs": [
    {
     "data": {
      "text/html": [
       "<div>\n",
       "<style scoped>\n",
       "    .dataframe tbody tr th:only-of-type {\n",
       "        vertical-align: middle;\n",
       "    }\n",
       "\n",
       "    .dataframe tbody tr th {\n",
       "        vertical-align: top;\n",
       "    }\n",
       "\n",
       "    .dataframe thead th {\n",
       "        text-align: right;\n",
       "    }\n",
       "</style>\n",
       "<table border=\"1\" class=\"dataframe\">\n",
       "  <thead>\n",
       "    <tr style=\"text-align: right;\">\n",
       "      <th></th>\n",
       "      <th>datetime</th>\n",
       "      <th>Np</th>\n",
       "      <th>B_mag</th>\n",
       "      <th>V_gse</th>\n",
       "      <th>B_X_gse</th>\n",
       "      <th>B_Y_gse</th>\n",
       "      <th>B_Z_gse</th>\n",
       "      <th>V_X_gse</th>\n",
       "      <th>V_Y_gse</th>\n",
       "      <th>V_Z_gse</th>\n",
       "      <th>Ave B</th>\n",
       "      <th>Norm Bx</th>\n",
       "      <th>Norm By</th>\n",
       "      <th>Norm Bz</th>\n",
       "      <th>cone angle</th>\n",
       "    </tr>\n",
       "  </thead>\n",
       "  <tbody>\n",
       "    <tr>\n",
       "      <th>242</th>\n",
       "      <td>2001-04-05 15:57:00</td>\n",
       "      <td>4.082</td>\n",
       "      <td>5.587</td>\n",
       "      <td>594.68</td>\n",
       "      <td>3.637</td>\n",
       "      <td>3.018</td>\n",
       "      <td>2.787</td>\n",
       "      <td>-588.96</td>\n",
       "      <td>-81.62</td>\n",
       "      <td>-7.18</td>\n",
       "      <td>5.486662</td>\n",
       "      <td>0.66288</td>\n",
       "      <td>0.550061</td>\n",
       "      <td>0.507959</td>\n",
       "      <td>48.480091</td>\n",
       "    </tr>\n",
       "    <tr>\n",
       "      <th>258</th>\n",
       "      <td>2001-04-05 15:57:00</td>\n",
       "      <td>4.082</td>\n",
       "      <td>5.587</td>\n",
       "      <td>594.68</td>\n",
       "      <td>3.637</td>\n",
       "      <td>3.018</td>\n",
       "      <td>2.787</td>\n",
       "      <td>-588.96</td>\n",
       "      <td>-81.62</td>\n",
       "      <td>-7.18</td>\n",
       "      <td>5.486662</td>\n",
       "      <td>0.66288</td>\n",
       "      <td>0.550061</td>\n",
       "      <td>0.507959</td>\n",
       "      <td>48.480091</td>\n",
       "    </tr>\n",
       "    <tr>\n",
       "      <th>263</th>\n",
       "      <td>2001-04-05 15:57:00</td>\n",
       "      <td>4.082</td>\n",
       "      <td>5.587</td>\n",
       "      <td>594.68</td>\n",
       "      <td>3.637</td>\n",
       "      <td>3.018</td>\n",
       "      <td>2.787</td>\n",
       "      <td>-588.96</td>\n",
       "      <td>-81.62</td>\n",
       "      <td>-7.18</td>\n",
       "      <td>5.486662</td>\n",
       "      <td>0.66288</td>\n",
       "      <td>0.550061</td>\n",
       "      <td>0.507959</td>\n",
       "      <td>48.480091</td>\n",
       "    </tr>\n",
       "    <tr>\n",
       "      <th>221</th>\n",
       "      <td>2001-04-05 15:57:00</td>\n",
       "      <td>4.082</td>\n",
       "      <td>5.587</td>\n",
       "      <td>594.68</td>\n",
       "      <td>3.637</td>\n",
       "      <td>3.018</td>\n",
       "      <td>2.787</td>\n",
       "      <td>-588.96</td>\n",
       "      <td>-81.62</td>\n",
       "      <td>-7.18</td>\n",
       "      <td>5.486662</td>\n",
       "      <td>0.66288</td>\n",
       "      <td>0.550061</td>\n",
       "      <td>0.507959</td>\n",
       "      <td>48.480091</td>\n",
       "    </tr>\n",
       "  </tbody>\n",
       "</table>\n",
       "</div>"
      ],
      "text/plain": [
       "               datetime     Np  B_mag   V_gse  B_X_gse  B_Y_gse  B_Z_gse  \\\n",
       "242 2001-04-05 15:57:00  4.082  5.587  594.68    3.637    3.018    2.787   \n",
       "258 2001-04-05 15:57:00  4.082  5.587  594.68    3.637    3.018    2.787   \n",
       "263 2001-04-05 15:57:00  4.082  5.587  594.68    3.637    3.018    2.787   \n",
       "221 2001-04-05 15:57:00  4.082  5.587  594.68    3.637    3.018    2.787   \n",
       "\n",
       "     V_X_gse  V_Y_gse  V_Z_gse     Ave B  Norm Bx   Norm By   Norm Bz  \\\n",
       "242  -588.96   -81.62    -7.18  5.486662  0.66288  0.550061  0.507959   \n",
       "258  -588.96   -81.62    -7.18  5.486662  0.66288  0.550061  0.507959   \n",
       "263  -588.96   -81.62    -7.18  5.486662  0.66288  0.550061  0.507959   \n",
       "221  -588.96   -81.62    -7.18  5.486662  0.66288  0.550061  0.507959   \n",
       "\n",
       "     cone angle  \n",
       "242   48.480091  \n",
       "258   48.480091  \n",
       "263   48.480091  \n",
       "221   48.480091  "
      ]
     },
     "execution_count": 36,
     "metadata": {},
     "output_type": "execute_result"
    }
   ],
   "source": [
    "#'2001-04-05 15:57:00'\n",
    "ts = pd.to_datetime('2001-04-05 15:57:00')\n",
    "omni_ave_all.loc[omni_ave_all['datetime']== ts]"
   ]
  },
  {
   "cell_type": "code",
   "execution_count": 108,
   "id": "fb5568c6-1530-4f8d-8509-3f4cf4796569",
   "metadata": {
    "tags": []
   },
   "outputs": [],
   "source": [
    "#'2001-04-05 15:57:00'\n",
    "df_ra = pd.read_csv('/Users/apx059/Documents/1_Yr_Data/52_Weeks_CSVs/March-April/2001-04-05 06:51:00.004000C1.csv')\n",
    "df_ra['datetime'] = pd.to_datetime(df_ra['datetime'],format='mixed')\n",
    "df_ra = df_ra.set_index('datetime')\n",
    "df_rb = pd.read_csv('/Users/apx059/Documents/1_Yr_Data/52_Weeks_CSVs/March-April/2001-04-05 06:55:00.022000C2.csv')\n",
    "df_rb['datetime'] = pd.to_datetime(df_rb['datetime'],format='mixed')\n",
    "df_rb = df_rb.set_index('datetime')\n",
    "\n",
    "df_rc = pd.read_csv('/Users/apx059/Documents/1_Yr_Data/52_Weeks_CSVs/March-April/2001-04-05 06:53:00.035000C3.csv')\n",
    "df_rc['datetime'] = pd.to_datetime(df_rc['datetime'],format='mixed')\n",
    "df_rc = df_rc.set_index('datetime')\n",
    "\n",
    "df_rd = pd.read_csv('/Users/apx059/Documents/1_Yr_Data/52_Weeks_CSVs/March-April/2001-04-05 06:57:00.014000C4.csv')\n",
    "df_rd['datetime'] = pd.to_datetime(df_rd['datetime'],format='mixed')\n",
    "df_rd = df_rd.set_index('datetime')\n",
    "\n",
    "#mask to relevant 2 mins for each of those\n",
    "time_start_ra = pd.to_datetime('2001-04-05 15:57:00')\n",
    "time_end_ra = pd.to_datetime('2001-04-05 15:59:00')\n",
    "\n",
    "df_2mins_ra = df_ra.loc[((df_ra.index >= time_start_ra) & (df_ra.index < time_end_ra))]\n",
    "df_2mins_rb = df_rb.loc[((df_rb.index >= time_start_ra) & (df_rb.index < time_end_ra))]\n",
    "df_2mins_rc = df_rc.loc[((df_rc.index >= time_start_ra) & (df_rc.index < time_end_ra))]\n",
    "df_2mins_rd = df_rd.loc[((df_rd.index >= time_start_ra) & (df_rd.index < time_end_ra))]"
   ]
  },
  {
   "cell_type": "code",
   "execution_count": 109,
   "id": "2b5fd5aa-6a48-4834-ac2b-09e22ebe345c",
   "metadata": {
    "tags": []
   },
   "outputs": [
    {
     "name": "stdout",
     "output_type": "stream",
     "text": [
      "0.7996205343924402 0.8135532366360289 0.8104039497647322 0.8049140230607017 actual Bc/Bo: 0.810404\n"
     ]
    }
   ],
   "source": [
    "Cluster_list_ra = df_2mins_ra['B_mag'].tolist()\n",
    "Cluster_mean_ra = sum(Cluster_list_ra)/len(Cluster_list_ra)\n",
    "Cluster_OMNI_rat_ra = Cluster_mean_ra/5.587\n",
    "\n",
    "Cluster_list_rb = df_2mins_rb['B_mag'].tolist()\n",
    "Cluster_mean_rb = sum(Cluster_list_rb)/len(Cluster_list_rb)\n",
    "Cluster_OMNI_rat_rb = Cluster_mean_rb/5.587\n",
    "\n",
    "Cluster_list_rc = df_2mins_rc['B_mag'].tolist()\n",
    "Cluster_mean_rc = sum(Cluster_list_rc)/len(Cluster_list_rc)\n",
    "Cluster_OMNI_rat_rc = Cluster_mean_rc/5.587\n",
    "\n",
    "Cluster_list_rd = df_2mins_rd['B_mag'].tolist()\n",
    "Cluster_mean_rd = sum(Cluster_list_rd)/len(Cluster_list_rd)\n",
    "Cluster_OMNI_rat_rd = Cluster_mean_rd/5.587\n",
    "\n",
    "print(Cluster_OMNI_rat_ra, Cluster_OMNI_rat_rb, Cluster_OMNI_rat_rc, Cluster_OMNI_rat_rd, 'actual Bc/Bo: 0.810404')\n",
    "#it's C3"
   ]
  },
  {
   "cell_type": "code",
   "execution_count": 44,
   "id": "542c828f-7a48-4375-a1ef-870a543b8572",
   "metadata": {
    "tags": []
   },
   "outputs": [
    {
     "data": {
      "text/html": [
       "<div>\n",
       "<style scoped>\n",
       "    .dataframe tbody tr th:only-of-type {\n",
       "        vertical-align: middle;\n",
       "    }\n",
       "\n",
       "    .dataframe tbody tr th {\n",
       "        vertical-align: top;\n",
       "    }\n",
       "\n",
       "    .dataframe thead th {\n",
       "        text-align: right;\n",
       "    }\n",
       "</style>\n",
       "<table border=\"1\" class=\"dataframe\">\n",
       "  <thead>\n",
       "    <tr style=\"text-align: right;\">\n",
       "      <th></th>\n",
       "      <th>Unnamed: 0</th>\n",
       "      <th>Cluster Loc GIPM X</th>\n",
       "      <th>Cluster Loc GIPM Y</th>\n",
       "      <th>Cluster Loc GIPM Z</th>\n",
       "      <th>Bc_Bo Min</th>\n",
       "      <th>Bc_Bo Mean</th>\n",
       "      <th>Bc_Bo Max</th>\n",
       "    </tr>\n",
       "    <tr>\n",
       "      <th>window start</th>\n",
       "      <th></th>\n",
       "      <th></th>\n",
       "      <th></th>\n",
       "      <th></th>\n",
       "      <th></th>\n",
       "      <th></th>\n",
       "      <th></th>\n",
       "    </tr>\n",
       "  </thead>\n",
       "  <tbody>\n",
       "    <tr>\n",
       "      <th>2001-03-28 11:01:00</th>\n",
       "      <td>233</td>\n",
       "      <td>11.681082</td>\n",
       "      <td>10.219432</td>\n",
       "      <td>-4.98148</td>\n",
       "      <td>0.556612</td>\n",
       "      <td>0.990886</td>\n",
       "      <td>1.496231</td>\n",
       "    </tr>\n",
       "  </tbody>\n",
       "</table>\n",
       "</div>"
      ],
      "text/plain": [
       "                     Unnamed: 0  Cluster Loc GIPM X  Cluster Loc GIPM Y  \\\n",
       "window start                                                              \n",
       "2001-03-28 11:01:00         233           11.681082           10.219432   \n",
       "\n",
       "                     Cluster Loc GIPM Z  Bc_Bo Min  Bc_Bo Mean  Bc_Bo Max  \n",
       "window start                                                               \n",
       "2001-03-28 11:01:00            -4.98148   0.556612    0.990886   1.496231  "
      ]
     },
     "execution_count": 44,
     "metadata": {},
     "output_type": "execute_result"
    }
   ],
   "source": [
    "mask_A2.loc[mask_A2.index == '2001-03-28 11:01:00']"
   ]
  },
  {
   "cell_type": "code",
   "execution_count": 43,
   "id": "9df63aa1-0f50-4b0b-b0e1-612602caff7f",
   "metadata": {
    "tags": []
   },
   "outputs": [
    {
     "data": {
      "text/html": [
       "<div>\n",
       "<style scoped>\n",
       "    .dataframe tbody tr th:only-of-type {\n",
       "        vertical-align: middle;\n",
       "    }\n",
       "\n",
       "    .dataframe tbody tr th {\n",
       "        vertical-align: top;\n",
       "    }\n",
       "\n",
       "    .dataframe thead th {\n",
       "        text-align: right;\n",
       "    }\n",
       "</style>\n",
       "<table border=\"1\" class=\"dataframe\">\n",
       "  <thead>\n",
       "    <tr style=\"text-align: right;\">\n",
       "      <th></th>\n",
       "      <th>datetime</th>\n",
       "      <th>Np</th>\n",
       "      <th>B_mag</th>\n",
       "      <th>V_gse</th>\n",
       "      <th>B_X_gse</th>\n",
       "      <th>B_Y_gse</th>\n",
       "      <th>B_Z_gse</th>\n",
       "      <th>V_X_gse</th>\n",
       "      <th>V_Y_gse</th>\n",
       "      <th>V_Z_gse</th>\n",
       "      <th>Ave B</th>\n",
       "      <th>Norm Bx</th>\n",
       "      <th>Norm By</th>\n",
       "      <th>Norm Bz</th>\n",
       "      <th>cone angle</th>\n",
       "    </tr>\n",
       "  </thead>\n",
       "  <tbody>\n",
       "    <tr>\n",
       "      <th>461</th>\n",
       "      <td>2001-03-28 11:01:00</td>\n",
       "      <td>9.053</td>\n",
       "      <td>12.206</td>\n",
       "      <td>623.15</td>\n",
       "      <td>-10.343</td>\n",
       "      <td>-2.001</td>\n",
       "      <td>6.012</td>\n",
       "      <td>-622.7</td>\n",
       "      <td>21.98</td>\n",
       "      <td>5.89</td>\n",
       "      <td>12.129542</td>\n",
       "      <td>-0.852711</td>\n",
       "      <td>-0.164969</td>\n",
       "      <td>0.495649</td>\n",
       "      <td>31.492178</td>\n",
       "    </tr>\n",
       "    <tr>\n",
       "      <th>487</th>\n",
       "      <td>2001-03-28 11:01:00</td>\n",
       "      <td>9.053</td>\n",
       "      <td>12.206</td>\n",
       "      <td>623.15</td>\n",
       "      <td>-10.343</td>\n",
       "      <td>-2.001</td>\n",
       "      <td>6.012</td>\n",
       "      <td>-622.7</td>\n",
       "      <td>21.98</td>\n",
       "      <td>5.89</td>\n",
       "      <td>12.129542</td>\n",
       "      <td>-0.852711</td>\n",
       "      <td>-0.164969</td>\n",
       "      <td>0.495649</td>\n",
       "      <td>31.492178</td>\n",
       "    </tr>\n",
       "    <tr>\n",
       "      <th>401</th>\n",
       "      <td>2001-03-28 11:01:00</td>\n",
       "      <td>9.053</td>\n",
       "      <td>12.206</td>\n",
       "      <td>623.15</td>\n",
       "      <td>-10.343</td>\n",
       "      <td>-2.001</td>\n",
       "      <td>6.012</td>\n",
       "      <td>-622.7</td>\n",
       "      <td>21.98</td>\n",
       "      <td>5.89</td>\n",
       "      <td>12.129542</td>\n",
       "      <td>-0.852711</td>\n",
       "      <td>-0.164969</td>\n",
       "      <td>0.495649</td>\n",
       "      <td>31.492178</td>\n",
       "    </tr>\n",
       "    <tr>\n",
       "      <th>374</th>\n",
       "      <td>2001-03-28 11:01:00</td>\n",
       "      <td>9.053</td>\n",
       "      <td>12.206</td>\n",
       "      <td>623.15</td>\n",
       "      <td>-10.343</td>\n",
       "      <td>-2.001</td>\n",
       "      <td>6.012</td>\n",
       "      <td>-622.7</td>\n",
       "      <td>21.98</td>\n",
       "      <td>5.89</td>\n",
       "      <td>12.129542</td>\n",
       "      <td>-0.852711</td>\n",
       "      <td>-0.164969</td>\n",
       "      <td>0.495649</td>\n",
       "      <td>31.492178</td>\n",
       "    </tr>\n",
       "  </tbody>\n",
       "</table>\n",
       "</div>"
      ],
      "text/plain": [
       "               datetime     Np   B_mag   V_gse  B_X_gse  B_Y_gse  B_Z_gse  \\\n",
       "461 2001-03-28 11:01:00  9.053  12.206  623.15  -10.343   -2.001    6.012   \n",
       "487 2001-03-28 11:01:00  9.053  12.206  623.15  -10.343   -2.001    6.012   \n",
       "401 2001-03-28 11:01:00  9.053  12.206  623.15  -10.343   -2.001    6.012   \n",
       "374 2001-03-28 11:01:00  9.053  12.206  623.15  -10.343   -2.001    6.012   \n",
       "\n",
       "     V_X_gse  V_Y_gse  V_Z_gse      Ave B   Norm Bx   Norm By   Norm Bz  \\\n",
       "461   -622.7    21.98     5.89  12.129542 -0.852711 -0.164969  0.495649   \n",
       "487   -622.7    21.98     5.89  12.129542 -0.852711 -0.164969  0.495649   \n",
       "401   -622.7    21.98     5.89  12.129542 -0.852711 -0.164969  0.495649   \n",
       "374   -622.7    21.98     5.89  12.129542 -0.852711 -0.164969  0.495649   \n",
       "\n",
       "     cone angle  \n",
       "461   31.492178  \n",
       "487   31.492178  \n",
       "401   31.492178  \n",
       "374   31.492178  "
      ]
     },
     "execution_count": 43,
     "metadata": {},
     "output_type": "execute_result"
    }
   ],
   "source": [
    "#'2001-04-05 15:57:00'\n",
    "ts = pd.to_datetime('2001-03-28 11:01:00')\n",
    "omni_ave_all.loc[omni_ave_all['datetime']== ts]"
   ]
  },
  {
   "cell_type": "code",
   "execution_count": 8,
   "id": "9ab8ed75-ec23-468d-ae5d-c325fb627d72",
   "metadata": {
    "tags": []
   },
   "outputs": [],
   "source": [
    "#case study 4?\n",
    "##now move to ANOTHER box\n",
    "\n",
    "X_lb_B = 15\n",
    "X_lim_B = 16\n",
    "Y_lb_B = 3\n",
    "Y_lim_B = 4\n",
    "\n",
    "mask_B1 = spir_df_XY.loc[(spir_df_XY['Cluster Loc GIPM X']>= X_lb_B) & (spir_df_XY['Cluster Loc GIPM X'] < X_lim_B)]\n",
    "mask_B2 = mask_B1.loc[(mask_B1['Cluster Loc GIPM Y']>= Y_lb_B) & (mask_B1['Cluster Loc GIPM Y'] < Y_lim_B)]"
   ]
  },
  {
   "cell_type": "code",
   "execution_count": 9,
   "id": "ed3f665c-496c-424d-bee8-0e605aefb777",
   "metadata": {
    "tags": []
   },
   "outputs": [
    {
     "data": {
      "text/html": [
       "<div>\n",
       "<style scoped>\n",
       "    .dataframe tbody tr th:only-of-type {\n",
       "        vertical-align: middle;\n",
       "    }\n",
       "\n",
       "    .dataframe tbody tr th {\n",
       "        vertical-align: top;\n",
       "    }\n",
       "\n",
       "    .dataframe thead th {\n",
       "        text-align: right;\n",
       "    }\n",
       "</style>\n",
       "<table border=\"1\" class=\"dataframe\">\n",
       "  <thead>\n",
       "    <tr style=\"text-align: right;\">\n",
       "      <th></th>\n",
       "      <th>Unnamed: 0</th>\n",
       "      <th>Cluster Loc GIPM X</th>\n",
       "      <th>Cluster Loc GIPM Y</th>\n",
       "      <th>Cluster Loc GIPM Z</th>\n",
       "      <th>Bc_Bo Min</th>\n",
       "      <th>Bc_Bo Mean</th>\n",
       "      <th>Bc_Bo Max</th>\n",
       "    </tr>\n",
       "    <tr>\n",
       "      <th>window start</th>\n",
       "      <th></th>\n",
       "      <th></th>\n",
       "      <th></th>\n",
       "      <th></th>\n",
       "      <th></th>\n",
       "      <th></th>\n",
       "      <th></th>\n",
       "    </tr>\n",
       "  </thead>\n",
       "  <tbody>\n",
       "    <tr>\n",
       "      <th>2001-02-15 07:15:00</th>\n",
       "      <td>319</td>\n",
       "      <td>15.504959</td>\n",
       "      <td>3.18147</td>\n",
       "      <td>2.083904</td>\n",
       "      <td>1.024357</td>\n",
       "      <td>1.139256</td>\n",
       "      <td>1.248392</td>\n",
       "    </tr>\n",
       "  </tbody>\n",
       "</table>\n",
       "</div>"
      ],
      "text/plain": [
       "                     Unnamed: 0  Cluster Loc GIPM X  Cluster Loc GIPM Y  \\\n",
       "window start                                                              \n",
       "2001-02-15 07:15:00         319           15.504959             3.18147   \n",
       "\n",
       "                     Cluster Loc GIPM Z  Bc_Bo Min  Bc_Bo Mean  Bc_Bo Max  \n",
       "window start                                                               \n",
       "2001-02-15 07:15:00            2.083904   1.024357    1.139256   1.248392  "
      ]
     },
     "execution_count": 9,
     "metadata": {},
     "output_type": "execute_result"
    }
   ],
   "source": [
    "mask_B2.loc[mask_B2.index=='2001-02-15 07:15:00']"
   ]
  },
  {
   "cell_type": "code",
   "execution_count": 11,
   "id": "14ad880b-3c1a-4da6-9723-170de894745d",
   "metadata": {},
   "outputs": [
    {
     "data": {
      "text/html": [
       "<div>\n",
       "<style scoped>\n",
       "    .dataframe tbody tr th:only-of-type {\n",
       "        vertical-align: middle;\n",
       "    }\n",
       "\n",
       "    .dataframe tbody tr th {\n",
       "        vertical-align: top;\n",
       "    }\n",
       "\n",
       "    .dataframe thead th {\n",
       "        text-align: right;\n",
       "    }\n",
       "</style>\n",
       "<table border=\"1\" class=\"dataframe\">\n",
       "  <thead>\n",
       "    <tr style=\"text-align: right;\">\n",
       "      <th></th>\n",
       "      <th>datetime</th>\n",
       "      <th>Np</th>\n",
       "      <th>B_mag</th>\n",
       "      <th>V_gse</th>\n",
       "      <th>B_X_gse</th>\n",
       "      <th>B_Y_gse</th>\n",
       "      <th>B_Z_gse</th>\n",
       "      <th>V_X_gse</th>\n",
       "      <th>V_Y_gse</th>\n",
       "      <th>V_Z_gse</th>\n",
       "      <th>Ave B</th>\n",
       "      <th>Norm Bx</th>\n",
       "      <th>Norm By</th>\n",
       "      <th>Norm Bz</th>\n",
       "      <th>cone angle</th>\n",
       "    </tr>\n",
       "  </thead>\n",
       "  <tbody>\n",
       "    <tr>\n",
       "      <th>711</th>\n",
       "      <td>2001-02-15 07:15:00</td>\n",
       "      <td>1.292</td>\n",
       "      <td>4.352</td>\n",
       "      <td>572.34</td>\n",
       "      <td>3.177</td>\n",
       "      <td>-2.892</td>\n",
       "      <td>-0.207</td>\n",
       "      <td>-572.23</td>\n",
       "      <td>5.36</td>\n",
       "      <td>-3.67</td>\n",
       "      <td>4.301144</td>\n",
       "      <td>0.738641</td>\n",
       "      <td>-0.672379</td>\n",
       "      <td>-0.048127</td>\n",
       "      <td>42.384252</td>\n",
       "    </tr>\n",
       "  </tbody>\n",
       "</table>\n",
       "</div>"
      ],
      "text/plain": [
       "               datetime     Np  B_mag   V_gse  B_X_gse  B_Y_gse  B_Z_gse  \\\n",
       "711 2001-02-15 07:15:00  1.292  4.352  572.34    3.177   -2.892   -0.207   \n",
       "\n",
       "     V_X_gse  V_Y_gse  V_Z_gse     Ave B   Norm Bx   Norm By   Norm Bz  \\\n",
       "711  -572.23     5.36    -3.67  4.301144  0.738641 -0.672379 -0.048127   \n",
       "\n",
       "     cone angle  \n",
       "711   42.384252  "
      ]
     },
     "execution_count": 11,
     "metadata": {},
     "output_type": "execute_result"
    }
   ],
   "source": [
    "#'2001-02-15 07:15:00'\n",
    "ts = pd.to_datetime('2001-02-15 07:15:00')\n",
    "omni_ave_all.loc[omni_ave_all['datetime']== ts]"
   ]
  },
  {
   "cell_type": "code",
   "execution_count": 12,
   "id": "a841947f-4018-4294-b728-b555c0185291",
   "metadata": {},
   "outputs": [],
   "source": [
    "#'2001-02-15 07:15:00'\n",
    "df_ma = pd.read_csv('/Users/apx059/Documents/1_Yr_Data/52_Weeks_CSVs/Feb-March-2001/C1_2001-02-14 07:17:00.031000.csv')\n",
    "df_ma['datetime'] = pd.to_datetime(df_ma['datetime'],format='mixed')\n",
    "df_ma = df_ma.set_index('datetime')\n",
    "\n",
    "df_mb = pd.read_csv('/Users/apx059/Documents/1_Yr_Data/52_Weeks_CSVs/Feb-March-2001/C2_2001-02-14 07:17:00.037000.csv')\n",
    "df_mb['datetime'] = pd.to_datetime(df_mb['datetime'],format='mixed')\n",
    "df_mb = df_mb.set_index('datetime')\n",
    "\n",
    "df_mc = pd.read_csv('/Users/apx059/Documents/1_Yr_Data/52_Weeks_CSVs/Feb-March-2001/C3_2001-02-14 07:17:00.033000.csv')\n",
    "df_mc['datetime'] = pd.to_datetime(df_mc['datetime'],format='mixed')\n",
    "df_mc = df_mc.set_index('datetime')\n",
    "\n",
    "df_md = pd.read_csv('/Users/apx059/Documents/1_Yr_Data/52_Weeks_CSVs/Feb-March-2001/C4_2001-02-14 07:17:00.037000.csv')\n",
    "df_md['datetime'] = pd.to_datetime(df_md['datetime'],format='mixed')\n",
    "df_md = df_md.set_index('datetime')\n",
    "\n",
    "#mask to relevant 2 mins for each of those\n",
    "time_start_ma = pd.to_datetime('2001-02-15 07:15:00')\n",
    "time_end_ma = pd.to_datetime('2001-02-15 07:17:00')\n",
    "\n",
    "df_2mins_ma = df_ma.loc[((df_ma.index >= time_start_ma) & (df_ma.index < time_end_ma))]\n",
    "df_2mins_mb = df_mb.loc[((df_mb.index >= time_start_ma) & (df_mb.index < time_end_ma))]\n",
    "df_2mins_mc = df_mc.loc[((df_mc.index >= time_start_ma) & (df_mc.index < time_end_ma))]\n",
    "df_2mins_md = df_md.loc[((df_md.index >= time_start_ma) & (df_md.index < time_end_ma))]"
   ]
  },
  {
   "cell_type": "code",
   "execution_count": 13,
   "id": "d1447fed-bbaa-4114-8d38-b2573acfb254",
   "metadata": {
    "tags": []
   },
   "outputs": [
    {
     "name": "stdout",
     "output_type": "stream",
     "text": [
      "1.1392563139386194 1.1490459756923956 1.1459300001366741 1.1529167896255497 actual Bc/Bo: 1.139256\n"
     ]
    }
   ],
   "source": [
    "Cluster_list_ma = df_2mins_ma['B_mag'].tolist()\n",
    "Cluster_mean_ma = sum(Cluster_list_ma)/len(Cluster_list_ma)\n",
    "Cluster_OMNI_rat_ma = Cluster_mean_ma/4.352\n",
    "\n",
    "Cluster_list_mb = df_2mins_mb['B_mag'].tolist()\n",
    "Cluster_mean_mb = sum(Cluster_list_mb)/len(Cluster_list_mb)\n",
    "Cluster_OMNI_rat_mb = Cluster_mean_mb/4.352\n",
    "\n",
    "Cluster_list_mc = df_2mins_mc['B_mag'].tolist()\n",
    "Cluster_mean_mc = sum(Cluster_list_mc)/len(Cluster_list_mc)\n",
    "Cluster_OMNI_rat_mc = Cluster_mean_mc/4.352\n",
    "\n",
    "Cluster_list_md = df_2mins_md['B_mag'].tolist()\n",
    "Cluster_mean_md = sum(Cluster_list_md)/len(Cluster_list_md)\n",
    "Cluster_OMNI_rat_md = Cluster_mean_md/4.352\n",
    "\n",
    "print(Cluster_OMNI_rat_ma, Cluster_OMNI_rat_mb, Cluster_OMNI_rat_mc, Cluster_OMNI_rat_md, 'actual Bc/Bo: 1.139256')\n",
    "#it's C1"
   ]
  },
  {
   "cell_type": "code",
   "execution_count": 14,
   "id": "d7889e69-0de7-466c-8033-fbd7086e53b5",
   "metadata": {
    "tags": []
   },
   "outputs": [
    {
     "data": {
      "image/png": "[encoded data removed]",
      "text/plain": [
       "<Figure size 900x600 with 1 Axes>"
      ]
     },
     "metadata": {},
     "output_type": "display_data"
    }
   ],
   "source": [
    "#FFT 2 mins\n",
    "\n",
    "#FFT 2 mins\n",
    "x_2a = df_2mins_ma['B_mag'].to_numpy()\n",
    "x_2b = df_2mins_ma['Bx_gse'].to_numpy()\n",
    "x_2c = df_2mins_ma['By_gse'].to_numpy()\n",
    "x_2d = df_2mins_ma['Bz_gse'].to_numpy()\n",
    "# sampling rate\n",
    "sr = 22\n",
    "\n",
    "X_2a = rfft(x_2a)\n",
    "N_2a = len(X_2a)\n",
    "n_2a = np.arange(N_2a)\n",
    "T_2a = N_2a/sr\n",
    "freq_2a = n_2a/T_2a\n",
    "power_2a = np.abs(X_2a)**2\n",
    "\n",
    "\n",
    "X_2b = rfft(x_2b)\n",
    "N_2b = len(X_2b)\n",
    "n_2b = np.arange(N_2b)\n",
    "T_2b = N_2b/sr\n",
    "freq_2b = n_2b/T_2b\n",
    "power_2b = np.abs(X_2b)**2\n",
    "\n",
    "\n",
    "X_2c = rfft(x_2c)\n",
    "N_2c = len(X_2c)\n",
    "n_2c = np.arange(N_2c)\n",
    "T_2c = N_2c/sr\n",
    "freq_2c = n_2c/T_2c\n",
    "power_2c = np.abs(X_2c)**2\n",
    "\n",
    "\n",
    "X_2d = rfft(x_2d)\n",
    "N_2d = len(X_2d)\n",
    "n_2d = np.arange(N_2d)\n",
    "T_2d = N_2d/sr\n",
    "freq_2d = n_2d/T_2d\n",
    "power_2d = np.abs(X_2d)**2\n",
    "##and plot\n",
    "\n",
    "plt.figure(figsize = (9, 6))\n",
    "plt.subplot(111)\n",
    "plt.title('2001-02-15 07:15:00')\n",
    "plt.plot(freq_2a, power_2a, color=\"black\", label='B_mag')\n",
    "plt.plot(freq_2b, power_2b, color=\"green\", label='B_x')\n",
    "plt.plot(freq_2c, power_2c, color=\"blue\", label='B_y')\n",
    "plt.plot(freq_2d, power_2d, color=\"red\", label='B_z')\n",
    "#plt.xlabel('Period (s)')\n",
    "plt.xscale('log')\n",
    "plt.yscale('log')\n",
    "plt.ylabel('FFT Power')\n",
    "plt.xlabel('Frequency, Hz')\n",
    "plt.xlim(0.01, 5)\n",
    "plt.ylim(0.1, 100_000_000)\n",
    "plt.legend()\n",
    "\n",
    "#plt.subplot(122)\n",
    "#plt.plot(t, ifft(X), 'k')\n",
    "#plt.xlabel('Time (s)')\n",
    "#plt.ylabel('Amplitude')\n",
    "#plt.tight_layout()\n",
    "plt.show()"
   ]
  },
  {
   "cell_type": "code",
   "execution_count": null,
   "id": "e20f55f7-f8fc-4cd3-8435-1a772ee3caae",
   "metadata": {},
   "outputs": [],
   "source": [
    "from ULF_wave_freq import ULF_freq\n",
    "\n",
    "ULF_freq(XMA, cluster_gipm, om_df, int_start)"
   ]
  }
 ],
 "metadata": {
  "kernelspec": {
   "display_name": "Python 3 (ipykernel)",
   "language": "python",
   "name": "python3"
  },
  "language_info": {
   "codemirror_mode": {
    "name": "ipython",
    "version": 3
   },
   "file_extension": ".py",
   "mimetype": "text/x-python",
   "name": "python",
   "nbconvert_exporter": "python",
   "pygments_lexer": "ipython3",
   "version": "3.11.5"
  }
 },
 "nbformat": 4,
 "nbformat_minor": 5
}
